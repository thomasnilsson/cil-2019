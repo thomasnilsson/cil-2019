{
 "cells": [
  {
   "cell_type": "markdown",
   "metadata": {},
   "source": [
    "# Non-Negative Matrix Factorization\n",
    "* Challenge: Given corpus of text\n",
    "* Goal: Find low level document representation in some topic space\n",
    "\n",
    "Aka TOPIC MODELS!\n",
    "\n",
    "## Approach\n",
    "\n",
    "Probabilistic Model\n",
    "* Use log-likelihood\n",
    "* MLE ~ Probabilistic Latent Semantic Analysis (PLSA)\n",
    "* Bayesian ~ Laten Dirichlet Allocation (LDA)\n",
    "* Related to NNMF!\n",
    "\n",
    "### Preprocessing\n",
    "Vocab $V$ of size $M$\n",
    "* Only meaningful terms included\n",
    "* Exclude stopwords, and infrequent words (mis-spellings)\n",
    "* Stemming (optional) ~ will condense vocabulary more, but some information is lost\n",
    "\n",
    "### Bag of Words\n",
    "Document representation\n",
    "* Each document is a vector $x \\in R^M$\n",
    "* Collectt in document matrix $X = [x_1 ... x_D]$\n",
    "* $X_{i,j}$: The number of times word $w_i$ occurs in document $x_j$"
   ]
  },
  {
   "cell_type": "markdown",
   "metadata": {},
   "source": []
  },
  {
   "cell_type": "markdown",
   "metadata": {},
   "source": [
    "#### Topic Models independe\n",
    "Topic represents regulartities common to the entire collection\n",
    "* I.e. if genre is known then words can be predicted without knowing the specific document it came from\n",
    "\n",
    "$$p(w|d,z) = p(w|d)$$\n",
    "\n",
    "### PLSA\n",
    "$$l(U,V) = \\sum_{ij} x_{ij} \\log p(w_j|d_i) = \\log \\sum_{z=1}^K p(w_j|z) p(z|d_i)$$\n",
    "\n",
    "Constraint: Outer dimensions of $U$ and $V$ must sum to 1.\n",
    "\n",
    "Lower bound on likelihood derived from Jensens inequality\n",
    "\n",
    "$$\\sum_{z=i}^K q_{zij} \\cdot [\\log u_{zi} + \\log v_{zj} - \\log q_{zij}]$$\n",
    "\n",
    "\n",
    "#### EM\n",
    "\n",
    "__E-Step__\n",
    "\n",
    "Update rule for $q_{zij}$\n",
    "$$q_{zij} = \\frac{u \\cdot v}{\\sum_{k=1} u \\cdot v}$$\n",
    "(k: inner dimension)\n",
    "\n",
    "__M-Step__\n",
    "\n",
    "Optimal params\n",
    "\n",
    "$$u = \\frac{\\sum_j x_{ij} q_{zij}}{\\sum_j x_{ij}}$$\n",
    "\n",
    "$$v = \\frac{\\sum_i x_{ij} q_{zij}}{\\sum_{i,l} x_{il} q_{zil}}$$\n",
    "\n",
    "\n",
    "### Latent Dirhclet Allocation - Bayesian View\n",
    "Dirichlet distribution for $u_i$:\n",
    "\n",
    "$$p(u_i | \\alpha) ~ \\prod_{z=1}^K u_{zi}^{\\alpha_z -1}$$\n",
    "\n",
    "LDA Model for fixed document length $l$\n",
    "\n"
   ]
  },
  {
   "cell_type": "code",
   "execution_count": null,
   "metadata": {},
   "outputs": [],
   "source": []
  },
  {
   "cell_type": "code",
   "execution_count": null,
   "metadata": {},
   "outputs": [],
   "source": []
  }
 ],
 "metadata": {
  "kernelspec": {
   "display_name": "Python 3",
   "language": "python",
   "name": "python3"
  },
  "language_info": {
   "codemirror_mode": {
    "name": "ipython",
    "version": 3
   },
   "file_extension": ".py",
   "mimetype": "text/x-python",
   "name": "python",
   "nbconvert_exporter": "python",
   "pygments_lexer": "ipython3",
   "version": "3.6.7"
  }
 },
 "nbformat": 4,
 "nbformat_minor": 2
}
