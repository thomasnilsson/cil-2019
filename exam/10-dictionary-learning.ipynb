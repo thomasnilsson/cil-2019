{
 "cells": [
  {
   "cell_type": "markdown",
   "metadata": {},
   "source": [
    "# Dictionary Learning\n",
    "\n",
    "## Compressive sensing\n",
    "Learning to compress data while gathering\n",
    "* Lower acquisition time, power consumption, space, cpu...\n",
    "\n",
    "Original signal: $x \\in R^D$ \n",
    "* which is K-sparse in orthonormal basis $U$\n",
    "\n",
    "$$x = Uz \\quad \\text{s.t.} \\quad \\|z\\|_0 = K$$\n",
    "\n",
    "Compressed acquired signal: $y = \\langle w_K , x\\rangle, \\quad k=1,...,M$\n",
    "* A set of M linear combinations of signal $x$\n",
    "\n",
    "![](graphics/k-sparse-encoding.png)"
   ]
  },
  {
   "cell_type": "markdown",
   "metadata": {},
   "source": [
    "### Recovering Signal x\n",
    "Recovering $x \\in R^D$ from measured signal $y\\in R^M$ is equivalent to finding a sparse representation $z$, such that:\n",
    "\n",
    "$$y=Wx = WUz = \\Theta z$$\n",
    "\n",
    "Given $z$, this is done as follows:\n",
    "\n",
    "$$x = Uz$$"
   ]
  },
  {
   "cell_type": "markdown",
   "metadata": {},
   "source": [
    "### Finding z\n",
    "* ill posed problem ~ more unknowns than equations (since $M << D$)\n",
    "\n",
    "Optimization problem ~ find sparsest solution s.t. the following holds\n",
    "\n",
    "$$z^* \\in argmin_z \\ \\|z\\|_0 \\quad s.t. \\ y=\\Theta z$$\n",
    "\n",
    "Apply one of the following\n",
    "* Convex optimization\n",
    "* Matching pursuit (sparse approximation algorithm)"
   ]
  },
  {
   "cell_type": "markdown",
   "metadata": {},
   "source": [
    "## Dictionary Encoding\n",
    "__Fixed orthonormal basis__\n",
    "\n",
    "Here, $U \\in R^{D\\times D}$\n",
    "* Advantage: can efficiently compute $z = U^T x$\n",
    "* Disadvantage: only sparse for specific types of signals\n",
    "\n",
    "__Fixed overcomplete basis__\n",
    "\n",
    "Here, $U \\in R^{D\\times L}$\n",
    "* Advantage: sparse coding for many types of signals\n",
    "* Disadvantage: If $L$ and $m(U)$ are large it becoems problematic\n",
    "\n",
    "__Dictionary Learning__\n",
    "\n",
    "Idea: Formulate as matrix factorization problem\n",
    "\n",
    "$$X \\approx U \\cdot Z \\quad X \\in R^{D\\times N}, \\ X \\in R^{D\\times L}, \\ Z \\in R^{L\\times N}$$\n",
    "\n",
    "Constraints:\n",
    "* Sparsity of $Z$\n",
    "* Column norm on $U$\n",
    "\n",
    "### Matrix Factorization\n",
    "\n",
    "$$(U^*, Z^*) \\in argmin_{U,Z} \\|X - UZ\\|_F^2$$\n",
    "\n",
    "Convex in either $U$ or $Z$, not jointly convex in both\n",
    "\n",
    "#### Greedy minimization\n",
    "__1: Coding step__\n",
    "\n",
    "$$Z^{t+1} \\in argmin_Z \\|X-U^t Z\\|_F^2$$\n",
    "\n",
    "Constraint: $Z$ is sparse and $U$ is fixed.\n",
    "\n",
    "Residual is column-wise seperable: $\\|R\\|_F^2 = \\sum_{i,j} r^2_{i,j} = \\sum_j \\|r_j\\|_2^2$\n",
    "\n",
    "Optimization done in $N$ seperate steps, $i = 1 ... N$\n",
    "* $z_n^{t+1} \\in argmin_z \\|z\\|_0$\n",
    "* such that $\\|x_n - U^t z\\|_2 \\leq \\sigma \\|x_n\\|_2$\n",
    "\n",
    "\n",
    "__2: Update step__\n",
    "\n",
    "$$U^{t+1} \\in argmin_U \\|X-U Z^{t+1}\\|_F^2$$\n",
    "\n",
    "Constraint: $\\|u_k\\|_2 = 1$ and $Z$ fixed.\n",
    "\n",
    "Residual not seperable!\n",
    "\n",
    "Approximation procedure ~ update one column at a time:\n",
    "* Fix all but current column $u_k$, i.e. $U = [u_1^t ... u_k ... u^t_L]$\n",
    "* Find residual of $u_k$, $R_k^t$.\n",
    "* Find $u_k^*$ which minimized $R_k^t$. subj. to the norm constraint (norm = 1)\n"
   ]
  },
  {
   "cell_type": "markdown",
   "metadata": {},
   "source": []
  },
  {
   "cell_type": "markdown",
   "metadata": {},
   "source": []
  },
  {
   "cell_type": "code",
   "execution_count": null,
   "metadata": {},
   "outputs": [],
   "source": []
  },
  {
   "cell_type": "code",
   "execution_count": null,
   "metadata": {},
   "outputs": [],
   "source": []
  },
  {
   "cell_type": "code",
   "execution_count": null,
   "metadata": {},
   "outputs": [],
   "source": []
  }
 ],
 "metadata": {
  "kernelspec": {
   "display_name": "Python 3",
   "language": "python",
   "name": "python3"
  },
  "language_info": {
   "codemirror_mode": {
    "name": "ipython",
    "version": 3
   },
   "file_extension": ".py",
   "mimetype": "text/x-python",
   "name": "python",
   "nbconvert_exporter": "python",
   "pygments_lexer": "ipython3",
   "version": "3.6.7"
  }
 },
 "nbformat": 4,
 "nbformat_minor": 2
}
