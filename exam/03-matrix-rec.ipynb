{
 "cells": [
  {
   "cell_type": "markdown",
   "metadata": {},
   "source": [
    "## Matrix Approximation & Reconstruction\n",
    "\n",
    "Core objective: Let reconstructed matrix be $B$ and $rank(B) = k$, and the optimal reconstruction with the minimal error is $A_k$.\n",
    "\n",
    "$$A_k = argmin_{k} \\|A - B\\|_F^2 = argmin_{k} [\\sum_{i,j \\in I} (a_{ij} - b_{ij})^2]$$\n",
    "$I$: Observed indices\n",
    "\n",
    "This is important because unobserved entries are _missing_ not just 0. Therefore we define a weighted Frobenius norm which uses a mask $G \\in \\{0,1\\} ^{m\\times n}$ which defines whether or not an element is observed or not.\n",
    "\n",
    "$$\\|X\\|_G := (\\sum_{i,j} g_{ij} x_{ij}^2)^{\\frac{1}{2}}$$\n",
    "\n",
    "The objective is thus:\n",
    "$$B^* = \\|A - B\\|_G^2$$ such that $rank(B) \\leq k$\n",
    "\n",
    "\n",
    "Problem: Not a convex optimization problem!\n",
    "\n",
    "Let $B \\in R^{m\\times n}$ and the factorization of $B$ be $B = UV$ s.t.\n",
    "* $U \\in R^{m \\times k}$\n",
    "* $V \\in R^{k \\times n}$\n",
    "* $rank(B) \\leq k$\n",
    "\n",
    "New objective: $$f(U,V) = \\frac{1}{|I|} \\sum_{i,j \\in I} (a_{ij} - \\langle u_i, v_j \\rangle ^2)$$\n",
    "\n",
    "### Alternating Least Squares\n",
    "Idea: Optimize $f$ wrt. $U$ and $V$ in an alternating fashion. When $U$ is optimized, $V$ is frozen and vice versa.\n",
    "\n",
    "Convex objectives:\n",
    "* $f_1 = U \\leftarrow argmin_U f(U, V)$\n",
    "* $f_2 = V \\leftarrow argmin_V f(U, V)$\n",
    "\n",
    "Optimize $f_1$ and then $f_2$ repeatedly until convergence"
   ]
  },
  {
   "cell_type": "markdown",
   "metadata": {},
   "source": [
    "### Convex Relaxation\n",
    "Relax a non-convex constraint by a superset of the constraint, s.t. the problem becomes convex. This can sometimes still find the optimum.\n",
    "\n",
    "Here the rank constraint is what makes the problem non-convex,\n",
    "\n",
    "Nuclear norm $\\|A\\|_* = \\sum \\sigma(A)$\n"
   ]
  },
  {
   "cell_type": "code",
   "execution_count": null,
   "metadata": {},
   "outputs": [],
   "source": []
  }
 ],
 "metadata": {
  "kernelspec": {
   "display_name": "Python 3",
   "language": "python",
   "name": "python3"
  },
  "language_info": {
   "codemirror_mode": {
    "name": "ipython",
    "version": 3
   },
   "file_extension": ".py",
   "mimetype": "text/x-python",
   "name": "python",
   "nbconvert_exporter": "python",
   "pygments_lexer": "ipython3",
   "version": "3.6.7"
  }
 },
 "nbformat": 4,
 "nbformat_minor": 2
}
