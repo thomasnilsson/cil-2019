{
 "cells": [
  {
   "cell_type": "markdown",
   "metadata": {},
   "source": [
    "# Singular Value Decomposition (SVD)\n",
    "![](svd.png \"SVD illustration\")"
   ]
  },
  {
   "cell_type": "markdown",
   "metadata": {},
   "source": [
    "Using the above illustration, and denoting $Sigma$ as $D$ instead, SVD builds on the following:\n",
    "\n",
    "Given a matrix (ex dataset) $X \\in R^{N \\times M}$, $X$ can be decomposed as\n",
    "* $X = U D V^T$\n",
    "\n",
    "* $U^TU = V^T V = I$\n",
    "* Columns of $U$: Eigenvectors of $X X^T$\n",
    "* Columns of $V$: Eigenvectors of $X^T X$\n",
    "* Diag(D): $\\sqrt{\\sigma(X X^T)}$ (also called **singular values**)\n",
    "    * Note: $\\sigma(X X^T) = \\sigma(X^T X)$\n",
    "* $U \\in R^{N\\times N}, D \\in R^{N \\times M}, V \\in R^{M\\times M}$\n",
    "    * We do not require $N = M$, but if $N = M$ then $ U = V$ and $U, D, V \\in R^{N \\times N}$\n",
    "    \n",
    "### The SVD procedure\n",
    "\n",
    "#### (1) Compute Eigenvalues\n",
    "Compute the eigenvalues $\\lambda = [\\lambda_1 ... \\lambda_K]$ for $X X^T$, the singular values are then $\\sigma_i(X) = \\sqrt{\\lambda_i(X)}$.\n",
    "\n",
    "Find the eigenvalues with the characteristic equation: $det(X - \\lambda I) = 0$\n",
    "\n",
    "#### (2) Compute V\n",
    "Solve the linear system: $(X^T X) v_i = \\lambda_i v_i $ for all $\\lambda_i$. The vector $v_i$ is then the eigenvector for eigenvalue $\\lambda_i$.\n",
    "* On matrix form: $(X^T X) V = (D^T D) V$\n",
    "* $D^T D$ being the diagonal matrix containing eigenvalues for $X^T X$.\n",
    "The right singular vectors $V = [v_1 ... v_K]$ are now identified.\n",
    "\n",
    "#### (3) Compute U\n",
    "Solve for $X v_i = \\sigma_i u_i$, or on matrix form $X V = D U$ where $U = [u_1 ... u_K]$ are the left singular vectors. Concretely, this is solved as:\n",
    "* $D^{-1} X V = U D D^{-1} =  X V D^{-1}= U$\n",
    "\n",
    "#### (4) Normalization\n",
    "The columns of $U$ and $V$ should be normalized in order to be unit vectors.\n",
    "\n",
    "#### (5) Reconstruction\n",
    "From $X V D^{-1}= U$ let us reconstruct $X$:\n",
    "* $X V D^{-1} D = U D$ so now $X V = U D$\n",
    "* $X V V^T = U D V^T$, and since $V V^T = I$, this means means $X = U D V^T$.\n",
    "\n",
    "### Low-Rank Reconstruction\n",
    "The dataset can be compressed and reconstructed using the first $M$ singular values of $D$, the first $M$ columns of $U$ and first $M$ rows of $V^T$.\n",
    "* Concretely: $\\tilde{X}_M = U_M D_M V_M^T$\n",
    "\n",
    "### Eckart-Young Theorem\n",
    "Reconstruction error: Frobenius norm or Euclidean\n",
    "* Frobenius: $\\|X - \\tilde{X}_M\\|_F = (\\sum_{i=K}^M \\sigma_i^2)^{1/2} = (\\sum_{i=K}^M \\lambda_i)^{1/2}$\n",
    "* Euclidean: $\\|X - \\tilde{X}_M\\|_2 = \\sigma_{K+1}$"
   ]
  }
 ],
 "metadata": {
  "kernelspec": {
   "display_name": "Python 3",
   "language": "python",
   "name": "python3"
  },
  "language_info": {
   "codemirror_mode": {
    "name": "ipython",
    "version": 3
   },
   "file_extension": ".py",
   "mimetype": "text/x-python",
   "name": "python",
   "nbconvert_exporter": "python",
   "pygments_lexer": "ipython3",
   "version": "3.6.7"
  }
 },
 "nbformat": 4,
 "nbformat_minor": 2
}
