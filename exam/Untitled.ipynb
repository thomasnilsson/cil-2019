{
 "cells": [
  {
   "cell_type": "markdown",
   "metadata": {},
   "source": [
    "# Sparse Coding\n",
    "\n",
    "## Orthonormal Basis (ONB)\n",
    "Pros: \n",
    "* Fast to compute inverse\n",
    "* Energy preservation: $\\|U^T x\\|^2 = \\|x\\|^2$\n",
    "\n",
    "Given $x$ and orthonormal matrix $U$ compute $$z= U^T x$$\n",
    "\n",
    "Approximate $x$ as $\\hat{x} = U \\hat{z}$, where\n",
    "* $U U^T = U^T U = I$\n",
    "* $\\hat{z}_i = z_i$ if $|z_i$ > \\epsilon$ else 0\n",
    "    * (Thresholding)\n",
    "    \n",
    "Reconstruction error: $\\|x - \\hat{x}\\|^2 = \\sum_{d \\notin \\sigma} \\langle x, u_d \\rangle ^2$"
   ]
  },
  {
   "cell_type": "markdown",
   "metadata": {},
   "source": [
    "Bases:\n",
    "* Fourier basis: Optimal periodic functions, global approximation\n",
    "    * Ex stripes/checker patterns in images (high pass filter)\n",
    "* Wavelet: Optimal for local approximations, for non-periodic functions\n",
    "* PCA basis: Optimal given $\\Sigma$\n"
   ]
  },
  {
   "cell_type": "markdown",
   "metadata": {},
   "source": [
    "![](bad-localization.png)"
   ]
  },
  {
   "cell_type": "markdown",
   "metadata": {},
   "source": [
    "* Here a fourier basis is a horrible idea"
   ]
  },
  {
   "cell_type": "markdown",
   "metadata": {},
   "source": [
    "## Haar Wavelets\n",
    "Used to form __orthonormal basis__\n",
    "\n",
    "Wavelets:\n",
    "* Scaling: $\\phi(x) = [1,1,1,1]$\n",
    "* Mother: $W(x) = [1,1,-1,-1]$\n",
    "* Dilated: $W(2x) = [1,-1,0,0]$\n",
    "* Translated: $W(2x-1) = [0,0,1,-1]$"
   ]
  },
  {
   "cell_type": "markdown",
   "metadata": {},
   "source": [
    "![](wavelets.png)"
   ]
  },
  {
   "cell_type": "markdown",
   "metadata": {},
   "source": [
    "### Overcomplete Basis\n",
    "$U \\in R ^{D\\times L}$ for L number of atoms, $D = dim(data)$.\n",
    "Overcomplete means $L$ > $D$, i.e. more atoms than dimensions in data.\n",
    "\n",
    "Decoding: Linear program\n",
    "* Solve $z^* \\in argmin_z \\|z\\|_0$ \n",
    "* s.t. $x = Uz$\n",
    "* NP hard, instead approxmiate with 1-norm (which is convex)\n",
    "* Can also approximate with Matching Pursuit\n",
    "\n",
    "### Matching Pursuit\n",
    "Approximation $z$ of signal $x$ onto basis $U$ using $K$ entries.\n",
    "\n",
    "Objective: $$z^* \\in argmin_z \\|x - Uz\\|_2$$\n",
    "such that $$\\|z\\|_0 \\leq K$$\n",
    "\n",
    "Algorithm\n",
    "* Init $z \\leftarrow 0$\n",
    "* While $\\|z\\|_0 < K$ do\n",
    "    * Select atom $u_i$ with smallest angle $i^* = argmax_i | \\langle u_i, x \\rangle |$\n",
    "    * Update approx: $z_{i^*} \\leftarrow z_{i^*} + \\langle u_{i^*}, x \\rangle u_{i^*}$\n",
    "    * Update residual: $x \\leftarrow x + \\langle u_{i^*}, x \\rangle u_{i^*}$"
   ]
  },
  {
   "cell_type": "markdown",
   "metadata": {},
   "source": [
    "### Coherence\n",
    "Linear independence measure for dicts $$m(U) = max_{i,j} | u_i ^T u_j|$$\n",
    "\n",
    "Let $B$ be an ONB.\n",
    "* It holds that $m(B) = 0$.\n",
    "* If atom $u$ is added to $B$ then $m([B,u]) > \\frac{1}{\\sqrt{D}}$\n",
    "\n",
    "### Exact Recovery\n",
    "This happens when $K > \\frac{1}{2} (1 + \\frac{1}{m(U)})$"
   ]
  },
  {
   "cell_type": "markdown",
   "metadata": {},
   "source": [
    "### Compressive Sensing\n",
    "Predicting is compressing. \n",
    "\n",
    "Compressing the data while gathering it saves space.\n",
    "\n",
    "Let $x \\in R^D$ be $K$-sparse in ONB $U$.\n",
    "\n",
    "Let $y \\in R^M$ with $y_i = \\langle w_i, x \\rangle$\n",
    "* There exists $M$ linear combinations of the signal\n",
    "* $y = Wx = WUz = \\Theta z$ where $\\Theta \\in R^{M \\times D}$\n",
    "\n",
    "Reconstruct $x$ from $y$ by finding \n",
    "* $z^* \\in argmin_z \\|z\\|_0$\n",
    "* s.t. $y = \\Theta z$\n",
    "* Either with MP or by relaxing to 1-norm\n",
    "\n",
    "Given $z$, $x$ can now be reconstructed as $\\tilde{x} = U z$"
   ]
  }
 ],
 "metadata": {
  "kernelspec": {
   "display_name": "Python 3",
   "language": "python",
   "name": "python3"
  },
  "language_info": {
   "codemirror_mode": {
    "name": "ipython",
    "version": 3
   },
   "file_extension": ".py",
   "mimetype": "text/x-python",
   "name": "python",
   "nbconvert_exporter": "python",
   "pygments_lexer": "ipython3",
   "version": "3.6.7"
  }
 },
 "nbformat": 4,
 "nbformat_minor": 2
}
