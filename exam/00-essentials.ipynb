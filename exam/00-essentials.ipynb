{
 "cells": [
  {
   "cell_type": "markdown",
   "metadata": {},
   "source": [
    "# Basic Tools for CIL\n",
    "## Matrix-vector basis\n",
    "* Symmetric matrix: $A = A^T$\n",
    "* Orthogonal matrix: $A^{-1} = A^T$ i.e. $A^T A = A^{-1}A = I$ and $det(I) = 1$\n",
    "* Transposed matrix: $(A^T)^{-1} = (A^{-1})^{T}$\n",
    "* Inner Prod: $\\langle x,y \\rangle =\\| x\\|_2 \\cdot \\| y\\| \\cdot cos(\\theta) $, if $y$ is a unit vector then the inner product projects $x$ onto $y$.\n",
    "    * $\\langle x,y \\rangle = x^T y = \\sum_i^N x_i y_i$\n",
    "    * $\\langle x+y, x+y \\rangle = \\langle x, x \\rangle + \\langle y, y \\rangle + 2 \\langle x, y \\rangle$\n",
    "    * $\\langle x-y, x-y \\rangle = \\langle x, x \\rangle + \\langle y, y \\rangle - 2 \\langle x, y \\rangle$\n",
    "    * $\\langle x, y+z \\rangle = \\langle x,y \\rangle + \\langle x,z \\rangle$\n",
    "    * $\\langle x+z, y \\rangle = \\langle x,y \\rangle + \\langle z,y \\rangle$\n",
    "* Outer product: $X = u v^T$ and $X_{i,j} = u_i v_j$\n",
    "* Orthonormal basis: Set of vectors in an $N$ dimensional space for which the basis vectors fulfill:\n",
    "    * Unit vectors (length = 1)\n",
    "    * Together the vectors have an inner product of zero, i.e. the vectors are orthogonal\n",
    "    * Ex for basis for $R^3$: $\\{e_1, e_2, e_3\\} = \\{(0,0,1),(0,1,0), (1,0,0)\\}$\n",
    "        * Being a basis for $R^3$ means that every vector $v \\in R^3$ can be written as a sum of the 3 vectors scaled: $v = e_1 \\cdot x +  e_2 \\cdot y +  e_3 \\cdot z$\n",
    "* Gram-Schmidt orthonormal basis algorithm: Finds an orthonormal basis $u=u_1 ... u_k$ given linearly independent set $v = v_1 ... v_k$ where:\n",
    "    * $u_1 = v_1$\n",
    "    * $u_2 = v_2 - \\frac{\\langle v_2, u_1 \\rangle}{\\langle u_1, u_1 \\rangle}$\n",
    "    * $u_3 = v_3 - \\frac{\\langle v_3, u_1 \\rangle}{\\langle u_1, u_1 \\rangle} - \\frac{\\langle v_3, u_2 \\rangle}{\\langle u_2, u_2 \\rangle} $\n",
    "    * ...\n",
    "    * $u_k = v_k - \\sum_i^{k-1} \\frac{\\langle v_k, u_i \\rangle}{\\langle u_i, u_i \\rangle}$"
   ]
  },
  {
   "cell_type": "markdown",
   "metadata": {},
   "source": [
    "## Norms \n",
    "### Vector norms\n",
    "* Zero norm: $\\| x\\|_0$ is the number of non-zero elements in $x$\n",
    "    * Formally $|\\{i| x_i \\neq 0\\}|$\n",
    "* P-norm: $\\| x\\|_p = (\\sum_i^N |x_i|^p) ^{\\frac{1}{p}}$\n",
    "    * Ex Euclidean norm: $\\| x\\|_2 = (\\sum_i^N x_i^2) ^{\\frac{1}{2}}$\n",
    "    * Ex one norm $\\| x\\|_1 = (\\sum_i^N |x_i|)$ \n",
    "    \n",
    "### Matrix norms\n",
    "Given $M \\in R^{m\\times n}$, the i'th eigenvalue of $X$ is denoted $\\sigma_i$ or $\\sigma_i(X)$\n",
    "* Fröbenius: $\\| X\\|_F = (\\sum_i^m \\sum_j^n X_{ij}^2) ^{\\frac{1}{2}} = (\\sum_i^{min(m,n)} \\sigma_i^2) ^{\\frac{1}{2}}$\n",
    "* 1-Norm: $\\| X\\|_1 = (\\sum_{i,j}^{m,n} |x_{i,j}|)$\n",
    "* Euclidean norm: $\\| X\\|_2 = \\sigma_{max}(X)$\n",
    "* Spectral norm (p-norm): $\\| X\\|_p = max_{v \\neq 0} \\frac{ \\| Xv\\|_p }{\\| v\\|_p}$\n",
    "* Nuclear norm (star norm): $\\| X\\|_* = \\sum_i^{min(m,n)} \\sigma_i$"
   ]
  },
  {
   "cell_type": "markdown",
   "metadata": {},
   "source": [
    "## Derivatives\n",
    "\n",
    "### Vectors\n",
    "* $\\frac{\\partial}{\\partial x} (b^T x) = \\frac{\\partial}{\\partial x} (x^T b) = b$\n",
    "* $\\frac{\\partial}{\\partial x} (x^T x) = \\frac{\\partial}{\\partial x} (\\| x\\|_2^2)= 2x$\n",
    "* $\\frac{\\partial}{\\partial x} (x^T Ax) = (A^T A) x$ and if $A$ is symm then $=2Ax$\n",
    "* $\\frac{\\partial}{\\partial x} (b^T Ax) = A^T b$\n",
    "* $\\frac{\\partial}{\\partial x} (\\| x-b\\|_2) = \\frac{x-b}{\\|x-b\\|_2}$\n",
    "\n",
    "### Matrices\n",
    "* $\\frac{\\partial}{\\partial X} (c^T Xb) = bc^T$\n",
    "* $\\frac{\\partial}{\\partial X} (\\| X\\|_F^2) = 2X$\n"
   ]
  },
  {
   "cell_type": "markdown",
   "metadata": {},
   "source": [
    "## Eigenvalues and eigenvectors\n",
    "* $Ax = \\lambda x$\n",
    "* $A \\in R^{N\\times N}$: square matrix, $x$: column vector, $\\lambda$: scalar\n",
    "\n",
    "### Find eigenvalues\n",
    "The EV problem: Given a matrix $A$ solve the characteristic equation $\\lambda$ s.t. $det(A - \\lambda I) = 0$ which will result in some high degree polynomial, the eigenvalues are then the roots of this polynomial.\n",
    "\n",
    "### Find eigenvectors\n",
    "For each eigenvalue $\\lambda_i$ it holds that $A-\\lambda I)x_i = 0$, $x_i, \\lambda_i$ being the i'th eigenvector, eigenvalue pair. This is a linear system and can be solved by Gaussian elimination.\n",
    "\n",
    "Eigenvectors are not normalized to unit vectors, which is often desired - to fix this perform the following operation $\\tilde{x} = \\frac{x}{\\|x\\|_2}$\n",
    "\n",
    "### Eigen-decomposition\n",
    "* $A$ can be decomposed as $A = Q \\Lambda Q^T$ where $Q$ is an orthogonal matrix ($QQ^T = I$)"
   ]
  },
  {
   "cell_type": "markdown",
   "metadata": {},
   "source": [
    "## Probability Theory\n",
    "* Joint probability of variables $X$ and $Y$: $P(x) := Pr[X = x] := \\sum_{y \\in Y} p(x,y)$\n",
    "* Coniditional probability: $P(x|y) := Pr[X = x | Y = y] := \\frac{p(x,y)}{p(y)}$ where $P(y) > 0$\n",
    "* Necessary property of probability density: $\\forall y\\in Y: \\sum_{x \\in X} p(x|y) = 1$\n",
    "* Marginal probability, chain rule: $p(x,y) = p(x|y) p(y)$\n",
    "* Bayes Theorem using chain rule and conditional probability: $p(x|y) = \\frac{p(y|x) p(x)}{p(y)}$\n",
    "* Independence between stochastic variables: $p(y|x) = p(y)$ then $p(x|y) = p(x)$\n",
    "* Probability of a sequencee of IID obs: $p(x_1, x_2 ... x_N) = \\Pi_i^N p(x_i)$"
   ]
  },
  {
   "cell_type": "markdown",
   "metadata": {},
   "source": [
    "## Lagrange Multipliers\n",
    "### Constrained Optimization\n",
    "We are given the following:\n",
    "* $f(x)$: The objective function to optimize.\n",
    "* $g_i(x) \\leq 0$ for $i=1...n$: Inequality constraint(s)\n",
    "* $h_j(x) = a_j^T x - b_j = 0$ for $j=1...m$: Equality constraints(s)\n",
    "\n",
    "We then formulate a langrangian \n",
    "$$L(x, \\lambda, v) := f(x) + \\sum_i^n \\lambda_i g_i(x) + \\sum_j^m v_j h_j(x)$$ \n",
    "\n",
    "which is then the constrained optimization objective.\n",
    "\n",
    "### Dual Function\n",
    "$$D(\\lambda, v) := inf_x L(x, \\lambda, v) \\in R$$\n",
    "\n",
    "Finding lower bound on optimum $f(x^*)$\n",
    "\n",
    "Lagrange dual problem:\n",
    "* Maximize $D$\n",
    "* Subject to $\\lambda \\geq 0$"
   ]
  },
  {
   "cell_type": "markdown",
   "metadata": {},
   "source": [
    "### Convex Optimization\n",
    "![](convex-set.png \"Convex illustration\")"
   ]
  },
  {
   "cell_type": "markdown",
   "metadata": {},
   "source": [
    "* Figure 1: Set is convex; it is not possible to draw a line segment which will lie outside the set.\n",
    "* Figure 2: Not convex, line illustrates this\n",
    "* Figure 3: Not convex, since not completely closed, i.e. 2 points on the closed edge can form a line segment which falls on the open circumference"
   ]
  },
  {
   "cell_type": "markdown",
   "metadata": {},
   "source": [
    "A function $f: R^D \\rightarrow R$ is convex iff for all points $x,y \\in dom(f)$ and for all $\\theta \\in [0, 1]$\n",
    "$$f(\\theta x + (1 − \\theta)y) ≤ \\theta f(x) + (1 − \\theta)f(y)$$"
   ]
  },
  {
   "cell_type": "markdown",
   "metadata": {},
   "source": [
    "![](convex-graph.png \"Convex illustration\")"
   ]
  },
  {
   "cell_type": "markdown",
   "metadata": {},
   "source": [
    "#### Epigraph\n",
    "Convexity can also be defined from the Epigraph of a function $epi(f)$ which is the set of points lying above the graph of $f$.\n",
    "\n",
    "A function $f$ is convex if $epi(f)$ is a convex set.\n",
    "\n",
    "* The graph of $f$: $\\{(x, f(x))\\quad  | \\quad x \\in dom(f) \\}$\n",
    "* Epigraph of $f$: $epi(f) = \\{(x, t) \\quad | \\quad x \\in dom(f), \\quad f(x) \\leq t \\}$"
   ]
  },
  {
   "cell_type": "markdown",
   "metadata": {},
   "source": [
    "#### Common convex functions\n",
    "Linear functions: $f(x) = a^T x$\n",
    "\n",
    "Affine functions: $f(x) = a^T x + b$\n",
    "\n",
    "Exponentials: $f(x) = exp(\\alpha x)$\n",
    "\n",
    "Norms in $R^D$ are convex\n"
   ]
  },
  {
   "cell_type": "markdown",
   "metadata": {},
   "source": [
    "### Optimization for Matrix Factorizations\n",
    "Formulation\n",
    "\n",
    "$$min_{U,Z} \\quad f(U,Z)$$\n",
    "\n",
    "Where $f: R^{D\\times N} \\rightarrow R$\n",
    "\n",
    "Such that:\n",
    "$$U \\in Q_1 \\subseteq R ^{D \\times K}$$\n",
    "$$Z \\in Q_2 \\subseteq R ^{N \\times K}$$\n",
    "\n",
    "#### Example: Matrix Reconstruction\n",
    "$$f(U,Z) = \\frac{1}{2} \\|X - UZ^T\\|_F ^2$$\n",
    "$$Q_1 = R^{D\\times K}$$\n",
    "$$Q_2 = R^{N\\times K}$$\n",
    "\n",
    "Explicit solution: SVD, but rarely possible"
   ]
  },
  {
   "cell_type": "markdown",
   "metadata": {},
   "source": [
    "#### Other examples\n",
    "K-Means: $$f(U, \\hat{Z}) = \\|X - U\\hat{Z}^T\\|_F ^2 = \\sum_{n=1}^N \\sum_{k=1}^K \\hat{Z}_{nk} \\|x_n - u_k\\|_2^2$$"
   ]
  },
  {
   "cell_type": "markdown",
   "metadata": {},
   "source": [
    "NNMF:\n",
    "$$f(U,Z) = \\frac{1}{2} \\|X - UZ^T\\|_F ^2$$\n",
    "$$Q_1 = R_{\\geq 0}^{D\\times K}$$\n",
    "$$Q_2 = R_{\\geq 0}^{N\\times K}$$"
   ]
  },
  {
   "cell_type": "markdown",
   "metadata": {},
   "source": [
    "Collab Filtering (Matrix Completion)\n",
    "$$f(U,Z) = \\frac{1}{\\vert \\Omega \\vert } \\sum_{i,j \\in \\Omega} \\frac{1}{2} [x_{ij} - (uz^T)_{ij}]^2$$\n",
    "$$Q_1 = R^{D\\times K}$$\n",
    "$$Q_2 = R^{N\\times K}$$"
   ]
  },
  {
   "cell_type": "code",
   "execution_count": null,
   "metadata": {},
   "outputs": [],
   "source": []
  }
 ],
 "metadata": {
  "kernelspec": {
   "display_name": "Python 3",
   "language": "python",
   "name": "python3"
  },
  "language_info": {
   "codemirror_mode": {
    "name": "ipython",
    "version": 3
   },
   "file_extension": ".py",
   "mimetype": "text/x-python",
   "name": "python",
   "nbconvert_exporter": "python",
   "pygments_lexer": "ipython3",
   "version": "3.6.7"
  }
 },
 "nbformat": 4,
 "nbformat_minor": 2
}
