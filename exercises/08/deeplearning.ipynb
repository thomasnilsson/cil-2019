{
 "cells": [
  {
   "cell_type": "code",
   "execution_count": 127,
   "metadata": {},
   "outputs": [],
   "source": [
    "import numpy as np\n",
    "import pandas as pd\n",
    "def show_head(data): return pd.DataFrame(data).head()\n",
    "from __future__ import division"
   ]
  },
  {
   "cell_type": "markdown",
   "metadata": {},
   "source": [
    "Example: $X \\rightarrow \\hat{Y}$ where $X \\in \\mathbb{R}^{10}$ and $Y, \\hat{Y} \\in \\mathbb{R}^{3}$"
   ]
  },
  {
   "cell_type": "code",
   "execution_count": 39,
   "metadata": {},
   "outputs": [],
   "source": [
    "n_obs, n_attr, y_dim = 300, 10, 3"
   ]
  },
  {
   "cell_type": "code",
   "execution_count": 50,
   "metadata": {},
   "outputs": [
    {
     "data": {
      "text/html": [
       "<div>\n",
       "<style scoped>\n",
       "    .dataframe tbody tr th:only-of-type {\n",
       "        vertical-align: middle;\n",
       "    }\n",
       "\n",
       "    .dataframe tbody tr th {\n",
       "        vertical-align: top;\n",
       "    }\n",
       "\n",
       "    .dataframe thead th {\n",
       "        text-align: right;\n",
       "    }\n",
       "</style>\n",
       "<table border=\"1\" class=\"dataframe\">\n",
       "  <thead>\n",
       "    <tr style=\"text-align: right;\">\n",
       "      <th></th>\n",
       "      <th>x1</th>\n",
       "      <th>x2</th>\n",
       "      <th>x3</th>\n",
       "      <th>x4</th>\n",
       "      <th>x5</th>\n",
       "      <th>x6</th>\n",
       "      <th>x7</th>\n",
       "      <th>x8</th>\n",
       "      <th>x9</th>\n",
       "      <th>x10</th>\n",
       "    </tr>\n",
       "  </thead>\n",
       "  <tbody>\n",
       "    <tr>\n",
       "      <th>0</th>\n",
       "      <td>-0.873972</td>\n",
       "      <td>-0.508249</td>\n",
       "      <td>-0.164328</td>\n",
       "      <td>-0.385385</td>\n",
       "      <td>2.050620</td>\n",
       "      <td>-0.197253</td>\n",
       "      <td>-1.169218</td>\n",
       "      <td>-1.032840</td>\n",
       "      <td>0.516665</td>\n",
       "      <td>0.605408</td>\n",
       "    </tr>\n",
       "    <tr>\n",
       "      <th>1</th>\n",
       "      <td>0.906717</td>\n",
       "      <td>1.124489</td>\n",
       "      <td>-0.497818</td>\n",
       "      <td>1.118250</td>\n",
       "      <td>-0.456531</td>\n",
       "      <td>1.868170</td>\n",
       "      <td>-0.569813</td>\n",
       "      <td>-1.510040</td>\n",
       "      <td>-1.998865</td>\n",
       "      <td>-0.768858</td>\n",
       "    </tr>\n",
       "    <tr>\n",
       "      <th>2</th>\n",
       "      <td>0.204375</td>\n",
       "      <td>0.427753</td>\n",
       "      <td>-0.830439</td>\n",
       "      <td>0.584823</td>\n",
       "      <td>-2.238915</td>\n",
       "      <td>-0.959731</td>\n",
       "      <td>-0.177500</td>\n",
       "      <td>0.724976</td>\n",
       "      <td>0.985410</td>\n",
       "      <td>0.075389</td>\n",
       "    </tr>\n",
       "    <tr>\n",
       "      <th>3</th>\n",
       "      <td>-1.498640</td>\n",
       "      <td>0.079875</td>\n",
       "      <td>0.459310</td>\n",
       "      <td>1.070876</td>\n",
       "      <td>1.713725</td>\n",
       "      <td>1.538438</td>\n",
       "      <td>-0.169546</td>\n",
       "      <td>0.229950</td>\n",
       "      <td>-0.664938</td>\n",
       "      <td>-2.320227</td>\n",
       "    </tr>\n",
       "    <tr>\n",
       "      <th>4</th>\n",
       "      <td>-0.323670</td>\n",
       "      <td>-0.571552</td>\n",
       "      <td>1.205599</td>\n",
       "      <td>1.274480</td>\n",
       "      <td>0.584872</td>\n",
       "      <td>-2.165623</td>\n",
       "      <td>0.492239</td>\n",
       "      <td>-0.038556</td>\n",
       "      <td>-0.403038</td>\n",
       "      <td>-0.940987</td>\n",
       "    </tr>\n",
       "  </tbody>\n",
       "</table>\n",
       "</div>"
      ],
      "text/plain": [
       "         x1        x2        x3        x4        x5        x6        x7  \\\n",
       "0 -0.873972 -0.508249 -0.164328 -0.385385  2.050620 -0.197253 -1.169218   \n",
       "1  0.906717  1.124489 -0.497818  1.118250 -0.456531  1.868170 -0.569813   \n",
       "2  0.204375  0.427753 -0.830439  0.584823 -2.238915 -0.959731 -0.177500   \n",
       "3 -1.498640  0.079875  0.459310  1.070876  1.713725  1.538438 -0.169546   \n",
       "4 -0.323670 -0.571552  1.205599  1.274480  0.584872 -2.165623  0.492239   \n",
       "\n",
       "         x8        x9       x10  \n",
       "0 -1.032840  0.516665  0.605408  \n",
       "1 -1.510040 -1.998865 -0.768858  \n",
       "2  0.724976  0.985410  0.075389  \n",
       "3  0.229950 -0.664938 -2.320227  \n",
       "4 -0.038556 -0.403038 -0.940987  "
      ]
     },
     "execution_count": 50,
     "metadata": {},
     "output_type": "execute_result"
    }
   ],
   "source": [
    "X = np.random.normal(size=(n_obs, n_attr))\n",
    "labels = ['x%i'%(i+1) for i in range(n_attr)]\n",
    "pd.DataFrame(X, columns=labels).head()"
   ]
  },
  {
   "cell_type": "code",
   "execution_count": 59,
   "metadata": {},
   "outputs": [
    {
     "data": {
      "text/html": [
       "<div>\n",
       "<style scoped>\n",
       "    .dataframe tbody tr th:only-of-type {\n",
       "        vertical-align: middle;\n",
       "    }\n",
       "\n",
       "    .dataframe tbody tr th {\n",
       "        vertical-align: top;\n",
       "    }\n",
       "\n",
       "    .dataframe thead th {\n",
       "        text-align: right;\n",
       "    }\n",
       "</style>\n",
       "<table border=\"1\" class=\"dataframe\">\n",
       "  <thead>\n",
       "    <tr style=\"text-align: right;\">\n",
       "      <th></th>\n",
       "      <th>y1</th>\n",
       "      <th>y2</th>\n",
       "      <th>y3</th>\n",
       "    </tr>\n",
       "  </thead>\n",
       "  <tbody>\n",
       "    <tr>\n",
       "      <th>0</th>\n",
       "      <td>0.930380</td>\n",
       "      <td>-2.276331</td>\n",
       "      <td>1.346365</td>\n",
       "    </tr>\n",
       "    <tr>\n",
       "      <th>1</th>\n",
       "      <td>-0.570485</td>\n",
       "      <td>-0.953893</td>\n",
       "      <td>0.618086</td>\n",
       "    </tr>\n",
       "    <tr>\n",
       "      <th>2</th>\n",
       "      <td>0.193665</td>\n",
       "      <td>1.784209</td>\n",
       "      <td>-0.541683</td>\n",
       "    </tr>\n",
       "    <tr>\n",
       "      <th>3</th>\n",
       "      <td>1.239913</td>\n",
       "      <td>0.880638</td>\n",
       "      <td>0.011122</td>\n",
       "    </tr>\n",
       "    <tr>\n",
       "      <th>4</th>\n",
       "      <td>-0.699231</td>\n",
       "      <td>1.948209</td>\n",
       "      <td>0.766983</td>\n",
       "    </tr>\n",
       "  </tbody>\n",
       "</table>\n",
       "</div>"
      ],
      "text/plain": [
       "         y1        y2        y3\n",
       "0  0.930380 -2.276331  1.346365\n",
       "1 -0.570485 -0.953893  0.618086\n",
       "2  0.193665  1.784209 -0.541683\n",
       "3  1.239913  0.880638  0.011122\n",
       "4 -0.699231  1.948209  0.766983"
      ]
     },
     "execution_count": 59,
     "metadata": {},
     "output_type": "execute_result"
    }
   ],
   "source": [
    "Y = np.random.normal(size=(n_obs, y_dim))\n",
    "labels = ['y%i'%(i+1) for i in range(y_dim)]\n",
    "pd.DataFrame(Y, columns=labels).head()"
   ]
  },
  {
   "cell_type": "markdown",
   "metadata": {},
   "source": [
    "## With NumPy"
   ]
  },
  {
   "cell_type": "code",
   "execution_count": 55,
   "metadata": {},
   "outputs": [
    {
     "data": {
      "text/html": [
       "<div>\n",
       "<style scoped>\n",
       "    .dataframe tbody tr th:only-of-type {\n",
       "        vertical-align: middle;\n",
       "    }\n",
       "\n",
       "    .dataframe tbody tr th {\n",
       "        vertical-align: top;\n",
       "    }\n",
       "\n",
       "    .dataframe thead th {\n",
       "        text-align: right;\n",
       "    }\n",
       "</style>\n",
       "<table border=\"1\" class=\"dataframe\">\n",
       "  <thead>\n",
       "    <tr style=\"text-align: right;\">\n",
       "      <th></th>\n",
       "      <th>0</th>\n",
       "      <th>1</th>\n",
       "      <th>2</th>\n",
       "    </tr>\n",
       "  </thead>\n",
       "  <tbody>\n",
       "    <tr>\n",
       "      <th>0</th>\n",
       "      <td>-3.067476</td>\n",
       "      <td>-6.160288</td>\n",
       "      <td>-1.663450</td>\n",
       "    </tr>\n",
       "    <tr>\n",
       "      <th>1</th>\n",
       "      <td>-2.236858</td>\n",
       "      <td>5.705564</td>\n",
       "      <td>11.823660</td>\n",
       "    </tr>\n",
       "    <tr>\n",
       "      <th>2</th>\n",
       "      <td>-2.432078</td>\n",
       "      <td>0.432405</td>\n",
       "      <td>0.033637</td>\n",
       "    </tr>\n",
       "    <tr>\n",
       "      <th>3</th>\n",
       "      <td>2.310404</td>\n",
       "      <td>0.918866</td>\n",
       "      <td>1.196588</td>\n",
       "    </tr>\n",
       "    <tr>\n",
       "      <th>4</th>\n",
       "      <td>-6.564663</td>\n",
       "      <td>-1.050074</td>\n",
       "      <td>-2.371812</td>\n",
       "    </tr>\n",
       "  </tbody>\n",
       "</table>\n",
       "</div>"
      ],
      "text/plain": [
       "          0         1          2\n",
       "0 -3.067476 -6.160288  -1.663450\n",
       "1 -2.236858  5.705564  11.823660\n",
       "2 -2.432078  0.432405   0.033637\n",
       "3  2.310404  0.918866   1.196588\n",
       "4 -6.564663 -1.050074  -2.371812"
      ]
     },
     "execution_count": 55,
     "metadata": {},
     "output_type": "execute_result"
    }
   ],
   "source": [
    "W = np.random.normal(size=(n_attr, y_dim))\n",
    "b = np.random.normal(size=(y_dim,))\n",
    "Y_pred = np.dot(X, W) + b\n",
    "pd.DataFrame(Y_pred).head()"
   ]
  },
  {
   "cell_type": "code",
   "execution_count": 75,
   "metadata": {},
   "outputs": [
    {
     "name": "stdout",
     "output_type": "stream",
     "text": [
      "Loss: 15.354680543742713\n"
     ]
    }
   ],
   "source": [
    "loss = ((Y - Y_pred)**2).ravel().mean()\n",
    "print 'Loss:', loss"
   ]
  },
  {
   "cell_type": "markdown",
   "metadata": {},
   "source": [
    "## With tensorflow"
   ]
  },
  {
   "cell_type": "code",
   "execution_count": 76,
   "metadata": {},
   "outputs": [],
   "source": [
    "import tensorflow as tf"
   ]
  },
  {
   "cell_type": "code",
   "execution_count": 105,
   "metadata": {},
   "outputs": [],
   "source": [
    "X_ph = tf.placeholder(tf.float32, shape=[None, n_attr])\n",
    "Y_ph = tf.placeholder(tf.float32, shape=[None, y_dim])\n",
    "\n",
    "W_tf = tf.Variable(tf.random.normal(shape=[n_attr, y_dim], stddev=1))\n",
    "b_tf = tf.Variable(tf.random.normal(shape=[y_dim], stddev=1))\n",
    "\n",
    "Y_pred_tf = tf.matmul(X_ph, W_tf) + b\n",
    "loss_tf = tf.reduce_mean((Y_pred_tf - Y_ph)**2)\n",
    "\n",
    "with tf.Session() as session:\n",
    "    session.run(tf.global_variables_initializer())\n",
    "    inputs = {X_ph: X, Y_ph: Y}\n",
    "    outputs = [loss_tf, Y_pred_tf]\n",
    "    loss_val, ypred = session.run(outputs, feed_dict=inputs)"
   ]
  },
  {
   "cell_type": "code",
   "execution_count": 108,
   "metadata": {},
   "outputs": [
    {
     "data": {
      "text/html": [
       "<div>\n",
       "<style scoped>\n",
       "    .dataframe tbody tr th:only-of-type {\n",
       "        vertical-align: middle;\n",
       "    }\n",
       "\n",
       "    .dataframe tbody tr th {\n",
       "        vertical-align: top;\n",
       "    }\n",
       "\n",
       "    .dataframe thead th {\n",
       "        text-align: right;\n",
       "    }\n",
       "</style>\n",
       "<table border=\"1\" class=\"dataframe\">\n",
       "  <thead>\n",
       "    <tr style=\"text-align: right;\">\n",
       "      <th></th>\n",
       "      <th>0</th>\n",
       "      <th>1</th>\n",
       "      <th>2</th>\n",
       "    </tr>\n",
       "  </thead>\n",
       "  <tbody>\n",
       "    <tr>\n",
       "      <th>0</th>\n",
       "      <td>-1.596406</td>\n",
       "      <td>-0.189595</td>\n",
       "      <td>2.490952</td>\n",
       "    </tr>\n",
       "    <tr>\n",
       "      <th>1</th>\n",
       "      <td>-5.221771</td>\n",
       "      <td>0.621098</td>\n",
       "      <td>-1.117203</td>\n",
       "    </tr>\n",
       "    <tr>\n",
       "      <th>2</th>\n",
       "      <td>1.652274</td>\n",
       "      <td>1.918136</td>\n",
       "      <td>1.571005</td>\n",
       "    </tr>\n",
       "    <tr>\n",
       "      <th>3</th>\n",
       "      <td>-3.568698</td>\n",
       "      <td>3.566676</td>\n",
       "      <td>-2.138563</td>\n",
       "    </tr>\n",
       "    <tr>\n",
       "      <th>4</th>\n",
       "      <td>-3.141964</td>\n",
       "      <td>-4.376909</td>\n",
       "      <td>-1.213816</td>\n",
       "    </tr>\n",
       "  </tbody>\n",
       "</table>\n",
       "</div>"
      ],
      "text/plain": [
       "          0         1         2\n",
       "0 -1.596406 -0.189595  2.490952\n",
       "1 -5.221771  0.621098 -1.117203\n",
       "2  1.652274  1.918136  1.571005\n",
       "3 -3.568698  3.566676 -2.138563\n",
       "4 -3.141964 -4.376909 -1.213816"
      ]
     },
     "execution_count": 108,
     "metadata": {},
     "output_type": "execute_result"
    }
   ],
   "source": [
    "pd.DataFrame(ypred).head()"
   ]
  },
  {
   "cell_type": "code",
   "execution_count": 107,
   "metadata": {},
   "outputs": [
    {
     "name": "stdout",
     "output_type": "stream",
     "text": [
      "Loss: 12.082802\n"
     ]
    }
   ],
   "source": [
    "print 'Loss:', loss_val"
   ]
  },
  {
   "cell_type": "markdown",
   "metadata": {},
   "source": [
    "### TF with Gradients"
   ]
  },
  {
   "cell_type": "code",
   "execution_count": 109,
   "metadata": {},
   "outputs": [],
   "source": [
    "import tensorflow as tf\n",
    "\n",
    "X_ph = tf.placeholder(tf.float32, shape=[None, n_attr])\n",
    "Y_ph = tf.placeholder(tf.float32, shape=[None, y_dim])\n",
    "\n",
    "W_tf = tf.Variable(tf.random.normal(shape=[n_attr, y_dim], stddev=1))\n",
    "b_tf = tf.Variable(tf.random.normal(shape=[y_dim], stddev=1))\n",
    "\n",
    "Y_pred_tf = tf.matmul(X_ph, W_tf) + b\n",
    "loss_tf = tf.reduce_mean((Y_pred_tf - Y_ph)**2)\n",
    "\n",
    "optimizer = tf.train.GradientDescentOptimizer(learning_rate=0.1)\n",
    "train_op = optimizer.minimize(loss_tf)\n",
    "n_epochs = 100\n",
    "\n",
    "with tf.Session() as session:\n",
    "    session.run(tf.global_variables_initializer())\n",
    "    inputs = {X_ph: X, Y_ph: Y}\n",
    "    outputs = [train_op, Y_pred_tf]\n",
    "    for i in range(n_epochs):\n",
    "        _, ypred = session.run(outputs, feed_dict=inputs)"
   ]
  },
  {
   "cell_type": "code",
   "execution_count": 118,
   "metadata": {},
   "outputs": [
    {
     "data": {
      "text/html": [
       "<div>\n",
       "<style scoped>\n",
       "    .dataframe tbody tr th:only-of-type {\n",
       "        vertical-align: middle;\n",
       "    }\n",
       "\n",
       "    .dataframe tbody tr th {\n",
       "        vertical-align: top;\n",
       "    }\n",
       "\n",
       "    .dataframe thead th {\n",
       "        text-align: right;\n",
       "    }\n",
       "</style>\n",
       "<table border=\"1\" class=\"dataframe\">\n",
       "  <thead>\n",
       "    <tr style=\"text-align: right;\">\n",
       "      <th></th>\n",
       "      <th>0</th>\n",
       "      <th>1</th>\n",
       "      <th>2</th>\n",
       "    </tr>\n",
       "  </thead>\n",
       "  <tbody>\n",
       "    <tr>\n",
       "      <th>0</th>\n",
       "      <td>-2.159438</td>\n",
       "      <td>0.511755</td>\n",
       "      <td>0.890475</td>\n",
       "    </tr>\n",
       "    <tr>\n",
       "      <th>1</th>\n",
       "      <td>-1.949515</td>\n",
       "      <td>0.071186</td>\n",
       "      <td>0.585485</td>\n",
       "    </tr>\n",
       "    <tr>\n",
       "      <th>2</th>\n",
       "      <td>-1.499175</td>\n",
       "      <td>0.609335</td>\n",
       "      <td>1.028393</td>\n",
       "    </tr>\n",
       "    <tr>\n",
       "      <th>3</th>\n",
       "      <td>-1.933118</td>\n",
       "      <td>-0.015615</td>\n",
       "      <td>0.970100</td>\n",
       "    </tr>\n",
       "    <tr>\n",
       "      <th>4</th>\n",
       "      <td>-2.036771</td>\n",
       "      <td>0.518409</td>\n",
       "      <td>1.243550</td>\n",
       "    </tr>\n",
       "  </tbody>\n",
       "</table>\n",
       "</div>"
      ],
      "text/plain": [
       "          0         1         2\n",
       "0 -2.159438  0.511755  0.890475\n",
       "1 -1.949515  0.071186  0.585485\n",
       "2 -1.499175  0.609335  1.028393\n",
       "3 -1.933118 -0.015615  0.970100\n",
       "4 -2.036771  0.518409  1.243550"
      ]
     },
     "execution_count": 118,
     "metadata": {},
     "output_type": "execute_result"
    }
   ],
   "source": [
    "show_head(ypred)"
   ]
  },
  {
   "cell_type": "markdown",
   "metadata": {},
   "source": [
    "## With PyTorch"
   ]
  },
  {
   "cell_type": "raw",
   "metadata": {},
   "source": [
    "!pip install torch\n",
    "!pip install torchvision"
   ]
  },
  {
   "cell_type": "code",
   "execution_count": 170,
   "metadata": {},
   "outputs": [],
   "source": [
    "import torch\n",
    "import torch.nn as nn\n",
    "import torch.optim as optim"
   ]
  },
  {
   "cell_type": "code",
   "execution_count": 191,
   "metadata": {},
   "outputs": [],
   "source": [
    "# Parameters to tune\n",
    "W = nn.Parameter(torch.randn(n_attr, y_dim)).double()\n",
    "b = nn.Parameter(torch.randn(y_dim)).double()"
   ]
  },
  {
   "cell_type": "code",
   "execution_count": 175,
   "metadata": {},
   "outputs": [],
   "source": [
    "# Set optimizer, here Stochastic Gradient Descent\n",
    "# with 0.1 as learning rate\n",
    "optimizer = optim.SGD([W, b], lr=0.1)\n",
    "n_epochs = 25"
   ]
  },
  {
   "cell_type": "code",
   "execution_count": 192,
   "metadata": {},
   "outputs": [],
   "source": [
    "for _ in range(n_epochs):\n",
    "    # Reset gradient\n",
    "    optimizer.zero_grad() \n",
    "    \n",
    "    # Perform matmul\n",
    "    Y_pred = torch.matmul(torch.from_numpy(X), W) + b\n",
    "    \n",
    "    # Compute loss\n",
    "    loss = torch.mean((Y_pred - torch.from_numpy(Y)**2))\n",
    "    \n",
    "    # Backpropagate\n",
    "    loss.backward()\n",
    "    \n",
    "    # Tune parameters: W, b\n",
    "    optimizer.step()"
   ]
  },
  {
   "cell_type": "code",
   "execution_count": 205,
   "metadata": {},
   "outputs": [],
   "source": [
    "ypred_np = Y_pred.data.numpy()\n",
    "((ypred_np - Y)**2).mean()"
   ]
  },
  {
   "cell_type": "markdown",
   "metadata": {},
   "source": [
    "## Keras and MNIST"
   ]
  },
  {
   "cell_type": "code",
   "execution_count": 129,
   "metadata": {},
   "outputs": [],
   "source": [
    "mnist = tf.keras.datasets.mnist\n",
    "\n",
    "(x_train,y_train), (x_test, y_test) = mnist.load_data()"
   ]
  },
  {
   "cell_type": "code",
   "execution_count": 131,
   "metadata": {},
   "outputs": [],
   "source": [
    "# Normalize pixel values\n",
    "x_train = x_train / 255\n",
    "x_test = x_test / 255"
   ]
  },
  {
   "cell_type": "code",
   "execution_count": 135,
   "metadata": {},
   "outputs": [],
   "source": [
    "img_shape = x_train.shape[1:]"
   ]
  },
  {
   "cell_type": "code",
   "execution_count": 137,
   "metadata": {},
   "outputs": [],
   "source": [
    "# Hyper parameters\n",
    "params = [\n",
    "    tf.keras.layers.Flatten(input_shape=img_shape),\n",
    "    tf.keras.layers.Dense(512, activation=tf.nn.relu),\n",
    "    tf.keras.layers.Dropout(0.2),\n",
    "    tf.keras.layers.Dense(10, activation=tf.nn.softmax)]"
   ]
  },
  {
   "cell_type": "code",
   "execution_count": 138,
   "metadata": {},
   "outputs": [
    {
     "name": "stdout",
     "output_type": "stream",
     "text": [
      "WARNING:tensorflow:From /Users/thomasnilsson/Library/Python/2.7/lib/python/site-packages/tensorflow/python/keras/layers/core.py:143: calling dropout (from tensorflow.python.ops.nn_ops) with keep_prob is deprecated and will be removed in a future version.\n",
      "Instructions for updating:\n",
      "Please use `rate` instead of `keep_prob`. Rate should be set to `rate = 1 - keep_prob`.\n"
     ]
    }
   ],
   "source": [
    "# Define model\n",
    "m = tf.keras.models.Sequential(params)"
   ]
  },
  {
   "cell_type": "code",
   "execution_count": 141,
   "metadata": {},
   "outputs": [],
   "source": [
    "# Check if the model compiles\n",
    "m.compile(optimizer='adam', \n",
    "          loss='sparse_categorical_crossentropy',\n",
    "          metrics=['accuracy'])"
   ]
  },
  {
   "cell_type": "code",
   "execution_count": 142,
   "metadata": {},
   "outputs": [
    {
     "name": "stdout",
     "output_type": "stream",
     "text": [
      "Epoch 1/5\n",
      "60000/60000 [==============================] - 14s 241us/sample - loss: 0.2203 - acc: 0.9342\n",
      "Epoch 2/5\n",
      "60000/60000 [==============================] - 15s 244us/sample - loss: 0.0958 - acc: 0.9704\n",
      "Epoch 3/5\n",
      "60000/60000 [==============================] - 13s 212us/sample - loss: 0.0698 - acc: 0.9783\n",
      "Epoch 4/5\n",
      "60000/60000 [==============================] - 11s 191us/sample - loss: 0.0533 - acc: 0.9829\n",
      "Epoch 5/5\n",
      "60000/60000 [==============================] - 13s 217us/sample - loss: 0.0429 - acc: 0.9859\n"
     ]
    },
    {
     "data": {
      "text/plain": [
       "<tensorflow.python.keras.callbacks.History at 0x152d92650>"
      ]
     },
     "execution_count": 142,
     "metadata": {},
     "output_type": "execute_result"
    }
   ],
   "source": [
    "# Run model\n",
    "m.fit(x_train, y_train, epochs=5)"
   ]
  },
  {
   "cell_type": "code",
   "execution_count": 143,
   "metadata": {},
   "outputs": [
    {
     "name": "stdout",
     "output_type": "stream",
     "text": [
      "10000/10000 [==============================] - 1s 68us/sample - loss: 0.0667 - acc: 0.9801\n"
     ]
    },
    {
     "data": {
      "text/plain": [
       "[0.06668182282214985, 0.9801]"
      ]
     },
     "execution_count": 143,
     "metadata": {},
     "output_type": "execute_result"
    }
   ],
   "source": [
    "m.evaluate(x_test, y_test)"
   ]
  },
  {
   "cell_type": "markdown",
   "metadata": {},
   "source": [
    "The model produces a probability disitribution when predicting, due to the softmax. This means the output for each prediction is a vector of size 10, with each entry being the probability for that index being the correct one."
   ]
  },
  {
   "cell_type": "code",
   "execution_count": 147,
   "metadata": {},
   "outputs": [],
   "source": [
    "y_pred = m.predict(x_test)"
   ]
  },
  {
   "cell_type": "code",
   "execution_count": 155,
   "metadata": {},
   "outputs": [
    {
     "name": "stdout",
     "output_type": "stream",
     "text": [
      "y_pred size: (10,)\n",
      "sum(y_pred): 1.0000001\n"
     ]
    }
   ],
   "source": [
    "# Ex, first entry\n",
    "print 'y_pred size:', y_pred[0].shape\n",
    "print 'sum(y_pred):', y_pred[0].sum()"
   ]
  },
  {
   "cell_type": "code",
   "execution_count": 158,
   "metadata": {},
   "outputs": [
    {
     "name": "stdout",
     "output_type": "stream",
     "text": [
      "argmax(pred): 7\n",
      "ground_truth: 7\n"
     ]
    }
   ],
   "source": [
    "print 'argmax(pred):', y_pred[0].argmax()\n",
    "print 'ground_truth:', y_test[0]"
   ]
  }
 ],
 "metadata": {
  "kernelspec": {
   "display_name": "BigImg_Project_DSB",
   "language": "python",
   "name": "bigimg_project_dsb"
  },
  "language_info": {
   "codemirror_mode": {
    "name": "ipython",
    "version": 2
   },
   "file_extension": ".py",
   "mimetype": "text/x-python",
   "name": "python",
   "nbconvert_exporter": "python",
   "pygments_lexer": "ipython2",
   "version": "2.7.15"
  }
 },
 "nbformat": 4,
 "nbformat_minor": 2
}
