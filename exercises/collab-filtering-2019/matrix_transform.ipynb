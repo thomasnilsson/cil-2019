{
 "cells": [
  {
   "cell_type": "code",
   "execution_count": 10,
   "metadata": {},
   "outputs": [],
   "source": [
    "import pandas as pd\n",
    "import numpy as np"
   ]
  },
  {
   "cell_type": "code",
   "execution_count": 80,
   "metadata": {},
   "outputs": [],
   "source": [
    "# Load variables\n",
    "X_all = pd.read_csv('X_all.csv')\n",
    "item_means = pd.read_csv('item_means_float.csv')\n",
    "\n",
    "X_users = X_all.User.unique()\n",
    "X_items = X_all.Item.unique()\n",
    "\n",
    "m = len(X_items)\n",
    "n = len(X_users)\n",
    "\n",
    "X_full = np.zeros((m,n), dtype=float)"
   ]
  },
  {
   "cell_type": "code",
   "execution_count": 85,
   "metadata": {},
   "outputs": [],
   "source": [
    "list_items = np.array(X_all.Item)\n",
    "list_users = np.array(X_all.User)"
   ]
  },
  {
   "cell_type": "code",
   "execution_count": 97,
   "metadata": {},
   "outputs": [
    {
     "data": {
      "text/plain": [
       "(2353904,)"
      ]
     },
     "execution_count": 97,
     "metadata": {},
     "output_type": "execute_result"
    }
   ],
   "source": [
    "list_items.shape"
   ]
  },
  {
   "cell_type": "code",
   "execution_count": 98,
   "metadata": {},
   "outputs": [
    {
     "data": {
      "text/plain": [
       "(2353904,)"
      ]
     },
     "execution_count": 98,
     "metadata": {},
     "output_type": "execute_result"
    }
   ],
   "source": [
    "list_users.shape"
   ]
  },
  {
   "cell_type": "code",
   "execution_count": 86,
   "metadata": {},
   "outputs": [],
   "source": [
    "item_indices = np.array([\n",
    "    np.where(X_items == item)[0][0] \n",
    "    for item in list_items\n",
    "])\n",
    "\n",
    "user_indices = np.array([\n",
    "    np.where(X_users == user)[0][0] \n",
    "    for user in list_users\n",
    "])"
   ]
  },
  {
   "cell_type": "code",
   "execution_count": 100,
   "metadata": {},
   "outputs": [
    {
     "data": {
      "text/plain": [
       "((2353904,), (2353904,))"
      ]
     },
     "execution_count": 100,
     "metadata": {},
     "output_type": "execute_result"
    }
   ],
   "source": [
    "item_indices.shape, user_indices.shape"
   ]
  },
  {
   "cell_type": "code",
   "execution_count": 87,
   "metadata": {},
   "outputs": [],
   "source": [
    "np.savetxt('item_indices_all.txt', item_indices)\n",
    "np.savetxt('user_indices_all.txt', user_indices)"
   ]
  },
  {
   "cell_type": "code",
   "execution_count": 88,
   "metadata": {},
   "outputs": [],
   "source": [
    "# Fill out item averages row wise\n",
    "for i,item in enumerate(X_items):\n",
    "    mean = float(item_means[item_means.Id == item].Prediction)\n",
    "    X_full[i] = np.ones(n) * mean"
   ]
  },
  {
   "cell_type": "code",
   "execution_count": 92,
   "metadata": {},
   "outputs": [],
   "source": [
    "predictions = np.array(X_all.Prediction)"
   ]
  },
  {
   "cell_type": "code",
   "execution_count": 90,
   "metadata": {},
   "outputs": [],
   "source": [
    "K = len(user_indices)"
   ]
  },
  {
   "cell_type": "code",
   "execution_count": 101,
   "metadata": {},
   "outputs": [],
   "source": [
    "for k in range(K):\n",
    "    i = item_indices[k]\n",
    "    j = user_indices[k]\n",
    "    X_full[i,j] = predictions[k] "
   ]
  },
  {
   "cell_type": "code",
   "execution_count": 102,
   "metadata": {},
   "outputs": [],
   "source": [
    "np.savetxt('X_full_float.txt', X_full, fmt='%f')"
   ]
  },
  {
   "cell_type": "code",
   "execution_count": null,
   "metadata": {},
   "outputs": [],
   "source": []
  },
  {
   "cell_type": "raw",
   "metadata": {},
   "source": [
    "# Fill out matrix\n",
    "for i,item in enumerate(X_items):\n",
    "    item_series = X_all[X_all.Item == item]\n",
    "    for j,user in enumerate(X_users):\n",
    "        pred = item_series[item_series.User == user].Prediction\n",
    "        if pred.any():\n",
    "            X_full[i, j] = int(pred)\n",
    "            #print('user #', (j+1))\n",
    "    print('item #', (i+1))\n",
    "\n",
    "# Save matrix to file\n",
    "np.savetxt('X_full_float.txt', X_full, fmt='%d')"
   ]
  }
 ],
 "metadata": {
  "kernelspec": {
   "display_name": "Python 3",
   "language": "python",
   "name": "python3"
  },
  "language_info": {
   "codemirror_mode": {
    "name": "ipython",
    "version": 3
   },
   "file_extension": ".py",
   "mimetype": "text/x-python",
   "name": "python",
   "nbconvert_exporter": "python",
   "pygments_lexer": "ipython3",
   "version": "3.6.6"
  }
 },
 "nbformat": 4,
 "nbformat_minor": 2
}
