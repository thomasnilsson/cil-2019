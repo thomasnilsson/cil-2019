{
 "cells": [
  {
   "cell_type": "markdown",
   "metadata": {},
   "source": [
    "### PART 1: NAIVE METHOD"
   ]
  },
  {
   "cell_type": "code",
   "execution_count": 1,
   "metadata": {},
   "outputs": [],
   "source": [
    "import pandas as pd\n",
    "import numpy as np\n",
    "import matplotlib.pyplot as plt"
   ]
  },
  {
   "cell_type": "code",
   "execution_count": 2,
   "metadata": {},
   "outputs": [],
   "source": [
    "def extract_submission_csv(X, filename):\n",
    "    N = len(submission_item_idx)\n",
    "    array_sub = np.zeros(N)\n",
    "    df_sub = df_sample_submission.copy()\n",
    "\n",
    "    for k in range(N):\n",
    "        i = item_indices[k]\n",
    "        j = user_indices[k]\n",
    "        array_sub[k] = X[i,j]\n",
    "\n",
    "    df_sub.Prediction = array_sub\n",
    "    df_sub.to_csv(filename + '.csv', index=False)\n",
    "    print('Exported ' + filename + '.csv')"
   ]
  },
  {
   "cell_type": "code",
   "execution_count": 3,
   "metadata": {},
   "outputs": [],
   "source": [
    "X_train = pd.read_csv('data_train.csv')\n",
    "m_train, n_train = X_train.shape\n",
    "\n",
    "X_pred = pd.read_csv('sampleSubmission.csv')\n",
    "m_pred, n_pred = X_pred.shape"
   ]
  },
  {
   "cell_type": "code",
   "execution_count": 4,
   "metadata": {},
   "outputs": [
    {
     "data": {
      "text/plain": [
       "(1176952, 2)"
      ]
     },
     "execution_count": 4,
     "metadata": {},
     "output_type": "execute_result"
    }
   ],
   "source": [
    "X_pred.shape"
   ]
  },
  {
   "cell_type": "code",
   "execution_count": 3,
   "metadata": {},
   "outputs": [],
   "source": [
    "# Make a new DF with the missing user/item indices\n",
    "X_pred2 = pd.DataFrame.copy(X_pred)\n",
    "\n",
    "# Insert the item ids as a separate column\n",
    "X_pred2['Item'] = X_pred2.Id.str.split('_', expand=True)[1]"
   ]
  },
  {
   "cell_type": "code",
   "execution_count": 4,
   "metadata": {},
   "outputs": [],
   "source": [
    "# Make a new DF with the item id in a separate column\n",
    "items_train = pd.DataFrame.copy(X_train)\n",
    "items_train.Id = (items_train.Id.str.split('_', expand=True))[1]"
   ]
  },
  {
   "cell_type": "code",
   "execution_count": 5,
   "metadata": {},
   "outputs": [],
   "source": [
    "# Calculate the item means\n",
    "item_means = items_train.groupby('Id').mean().round().astype(int)\n",
    "\n",
    "# Extract the items and their corresponding scores\n",
    "items = list(item_means.index)\n",
    "mean_scores = list(item_means.Prediction)"
   ]
  },
  {
   "cell_type": "code",
   "execution_count": 86,
   "metadata": {},
   "outputs": [],
   "source": [
    "# Insert the average score for each item in the X_pred2 DataFrame\n",
    "# This takes a few minutes to run...\n",
    "for i, item in enumerate(items):\n",
    "    X_pred2.loc[X_pred2.Item == item, 'Prediction'] = mean_scores[i]"
   ]
  },
  {
   "cell_type": "code",
   "execution_count": 107,
   "metadata": {},
   "outputs": [],
   "source": [
    "# Export to CSV\n",
    "export = pd.DataFrame.copy(X_pred2)\n",
    "\n",
    "# Drop the Item column\n",
    "export = export.drop('Item', axis=1)\n",
    "export.to_csv('part1.csv', index=False)"
   ]
  },
  {
   "cell_type": "code",
   "execution_count": 83,
   "metadata": {},
   "outputs": [
    {
     "data": {
      "text/plain": [
       "0.0"
      ]
     },
     "execution_count": 83,
     "metadata": {},
     "output_type": "execute_result"
    }
   ],
   "source": [
    "# Compute MSE, comparing the the Sample Submission data set (Not ground truth)\n",
    "((X_pred2.Prediction - X_pred.Prediction)**2).mean()"
   ]
  },
  {
   "cell_type": "markdown",
   "metadata": {},
   "source": [
    "### PART 2: Using SVD"
   ]
  },
  {
   "cell_type": "markdown",
   "metadata": {},
   "source": [
    "2.1: Transforming the data to a matrix of users $\\times$ items"
   ]
  },
  {
   "cell_type": "code",
   "execution_count": 7,
   "metadata": {},
   "outputs": [],
   "source": [
    "# Item means using floating point precision\n",
    "item_means_float = items_train.groupby('Id').mean()"
   ]
  },
  {
   "cell_type": "raw",
   "metadata": {},
   "source": [
    "X_all.to_csv('X_all.csv', index=False)"
   ]
  },
  {
   "cell_type": "code",
   "execution_count": 8,
   "metadata": {},
   "outputs": [],
   "source": [
    "item_means_float.to_csv('item_means_float.csv')"
   ]
  },
  {
   "cell_type": "code",
   "execution_count": 9,
   "metadata": {},
   "outputs": [],
   "source": [
    "X_all = pd.read_csv('X_all.csv')\n",
    "X_users = X_all.User.unique()\n",
    "X_items = X_all.Item.unique()"
   ]
  },
  {
   "cell_type": "code",
   "execution_count": 10,
   "metadata": {},
   "outputs": [
    {
     "name": "stdout",
     "output_type": "stream",
     "text": [
      "X: 1000 x 10000\n"
     ]
    }
   ],
   "source": [
    "# Items (row) x Users (cols) ∈ R{1,000 x 10,000}\n",
    "X = X = np.loadtxt('X_full_float.txt')\n",
    "m,n = X.shape\n",
    "print('X:', m, 'x', n)"
   ]
  },
  {
   "cell_type": "code",
   "execution_count": 11,
   "metadata": {},
   "outputs": [
    {
     "data": {
      "image/png": "[encoded data removed]",
      "text/plain": [
       "<Figure size 432x288 with 1 Axes>"
      ]
     },
     "metadata": {},
     "output_type": "display_data"
    }
   ],
   "source": [
    "m0 = X.mean(axis=0)\n",
    "plt.plot(range(len(m0)), m0)\n",
    "plt.show()"
   ]
  },
  {
   "cell_type": "code",
   "execution_count": 12,
   "metadata": {},
   "outputs": [
    {
     "data": {
      "image/png": "[encoded data removed]",
      "text/plain": [
       "<Figure size 432x288 with 1 Axes>"
      ]
     },
     "metadata": {},
     "output_type": "display_data"
    }
   ],
   "source": [
    "m1 = X.mean(axis=1)\n",
    "plt.plot(range(len(m1)), m1)\n",
    "plt.show()"
   ]
  },
  {
   "cell_type": "code",
   "execution_count": 130,
   "metadata": {},
   "outputs": [],
   "source": [
    "# Perform Singular Value Decomp.\n",
    "U,s,VT = np.linalg.svd(X, full_matrices=True)"
   ]
  },
  {
   "cell_type": "code",
   "execution_count": 131,
   "metadata": {},
   "outputs": [],
   "source": [
    "# Diagonalize S\n",
    "S = np.zeros((m,n))\n",
    "S[:min(m,n), :min(m,n)] = np.diag(s)"
   ]
  },
  {
   "cell_type": "code",
   "execution_count": 15,
   "metadata": {},
   "outputs": [
    {
     "data": {
      "image/png": "[encoded data removed]",
      "text/plain": [
       "<Figure size 720x360 with 1 Axes>"
      ]
     },
     "metadata": {},
     "output_type": "display_data"
    }
   ],
   "source": [
    "# Explained variance\n",
    "var = s**2 / np.sum(s**2)\n",
    "xaxis = np.arange(1, var.size + 1)\n",
    "\n",
    "# Plot variance explained\n",
    "plt.figure(figsize=[10,5])\n",
    "plt.plot(xaxis, var, \"o-\", markeredgecolor=\"black\")\n",
    "plt.xlabel(\"Principal component\")\n",
    "plt.ylabel(\"Variance explained\")\n",
    "plt.show()"
   ]
  },
  {
   "cell_type": "code",
   "execution_count": 16,
   "metadata": {},
   "outputs": [
    {
     "data": {
      "image/png": "[encoded data removed]",
      "text/plain": [
       "<Figure size 432x288 with 1 Axes>"
      ]
     },
     "metadata": {},
     "output_type": "display_data"
    }
   ],
   "source": [
    "cumulative = np.cumsum(var)\n",
    "plt.plot(xaxis, cumulative , \"o-\", markeredgecolor=\"black\") \n",
    "plt.xlabel(\"Principal␣Direction(s)\") \n",
    "plt.ylabel(\"Cumulative fraction of variance explained\")\n",
    "plt.ylim([0,1])\n",
    "plt.show()"
   ]
  },
  {
   "cell_type": "code",
   "execution_count": 136,
   "metadata": {},
   "outputs": [],
   "source": [
    "k = 1\n",
    "X_approx = U[:,:k]@S[:k, :k]@VT[:k, :]"
   ]
  },
  {
   "cell_type": "code",
   "execution_count": 124,
   "metadata": {},
   "outputs": [
    {
     "data": {
      "text/plain": [
       "(1000, 10000)"
      ]
     },
     "execution_count": 124,
     "metadata": {},
     "output_type": "execute_result"
    }
   ],
   "source": [
    "X_approx.shape"
   ]
  },
  {
   "cell_type": "code",
   "execution_count": 277,
   "metadata": {},
   "outputs": [
    {
     "data": {
      "text/plain": [
       "0.1470753267926223"
      ]
     },
     "execution_count": 277,
     "metadata": {},
     "output_type": "execute_result"
    }
   ],
   "source": [
    "# Average difference per entry\n",
    "np.sqrt((X_approx - X)**2).mean()"
   ]
  },
  {
   "cell_type": "code",
   "execution_count": 278,
   "metadata": {},
   "outputs": [],
   "source": [
    "X_pred3 = pd.DataFrame.copy(X_pred2)\n",
    "users = (X_pred3.Id.str.split('_', expand=True))[0]\n",
    "X_pred3['User'] = users"
   ]
  },
  {
   "cell_type": "raw",
   "metadata": {},
   "source": [
    "list_items = np.array(X_pred3.Item)\n",
    "list_users = np.array(X_pred3.User)"
   ]
  },
  {
   "cell_type": "raw",
   "metadata": {},
   "source": [
    "%%time\n",
    "np.where(X_users == 'r37')[0][0]"
   ]
  },
  {
   "cell_type": "raw",
   "metadata": {},
   "source": [
    "%%time\n",
    "for user in list_users[:1000]:\n",
    "    j = np.where(X_users == user)[0][0]"
   ]
  },
  {
   "cell_type": "raw",
   "metadata": {},
   "source": [
    "item_indices = [np.where(X_items == item)[0][0] for item in list_items]"
   ]
  },
  {
   "cell_type": "raw",
   "metadata": {},
   "source": [
    "user_indices = [np.where(X_users == user)[0][0] for user in list_users]"
   ]
  },
  {
   "cell_type": "raw",
   "metadata": {},
   "source": [
    "np_item_indices = np.array(item_indices)\n",
    "np_user_indices = np.array(user_indices)"
   ]
  },
  {
   "cell_type": "raw",
   "metadata": {},
   "source": [
    "np.savetxt('np_item_indices.txt', np_item_indices)\n",
    "np.savetxt('np_user_indices.txt', np_user_indices)"
   ]
  },
  {
   "cell_type": "code",
   "execution_count": null,
   "metadata": {},
   "outputs": [],
   "source": [
    "extract_submission_csv(X_approx, 'sqrt_k=1')"
   ]
  },
  {
   "cell_type": "markdown",
   "metadata": {},
   "source": [
    "#### Using SQRT"
   ]
  },
  {
   "cell_type": "code",
   "execution_count": 132,
   "metadata": {},
   "outputs": [],
   "source": [
    "# For simplicity use sqrt\n",
    "k = 1\n",
    "D_ = np.sqrt(S)[:k, :k]\n",
    "U_ = U[:, :k] @ D_\n",
    "VT_ = D_ @ VT[:k, :]"
   ]
  },
  {
   "cell_type": "code",
   "execution_count": 133,
   "metadata": {},
   "outputs": [
    {
     "name": "stdout",
     "output_type": "stream",
     "text": [
      "376.92029859307354\n"
     ]
    }
   ],
   "source": [
    "X_approx_sqrt = (U_ @ VT_)\n",
    "\n",
    "# RMSE\n",
    "rmse_x_approx = np.sqrt((X_approx - X)**2).mean()\n",
    "\n",
    "# RMSE with sqrt method\n",
    "rmse_x_approx_sqrt = np.sqrt((X_approx_sqrt - X)**2).mean()\n",
    "\n",
    "print(rmse_x_approx - rmse_x_approx_sqrt)"
   ]
  },
  {
   "cell_type": "code",
   "execution_count": 138,
   "metadata": {},
   "outputs": [
    {
     "data": {
      "text/plain": [
       "array([[3.40940162, 3.44575579, 3.34297549, ..., 3.36607788, 3.37298349,\n",
       "        3.35536426],\n",
       "       [3.57095193, 3.6090287 , 3.50137828, ..., 3.52557536, 3.53280818,\n",
       "        3.51435408],\n",
       "       [3.48400137, 3.52115099, 3.41612179, ..., 3.43972968, 3.44678639,\n",
       "        3.42878164],\n",
       "       ...,\n",
       "       [3.26886394, 3.30371957, 3.20517593, ..., 3.22732603, 3.23394699,\n",
       "        3.21705403],\n",
       "       [3.37136876, 3.40731739, 3.30568363, ..., 3.32852831, 3.33535688,\n",
       "        3.3179342 ],\n",
       "       [3.77601725, 3.81628062, 3.70244827, ..., 3.72803488, 3.73568306,\n",
       "        3.71616921]])"
      ]
     },
     "execution_count": 138,
     "metadata": {},
     "output_type": "execute_result"
    }
   ],
   "source": [
    "X_approx_sqrt"
   ]
  },
  {
   "cell_type": "code",
   "execution_count": 139,
   "metadata": {},
   "outputs": [
    {
     "name": "stdout",
     "output_type": "stream",
     "text": [
      "Exported sqrt_k=1.csv\n"
     ]
    }
   ],
   "source": [
    "extract_submission_csv(X_approx_sqrt, 'sqrt_k=1')"
   ]
  },
  {
   "cell_type": "markdown",
   "metadata": {},
   "source": [
    "### Gradient Descent"
   ]
  },
  {
   "cell_type": "code",
   "execution_count": null,
   "metadata": {},
   "outputs": [],
   "source": [
    "path = ''\n",
    "item_indices = np.loadtxt(path + 'item_indices_all.txt').astype(int)\n",
    "user_indices = np.loadtxt(path + 'user_indices_all.txt').astype(int)\n",
    "X_sparse = np.loadtxt(path + 'X_sparse.txt')"
   ]
  },
  {
   "cell_type": "code",
   "execution_count": 84,
   "metadata": {},
   "outputs": [],
   "source": [
    "def gradient_descent(X, user_idx, item_idx, alpha=0.001, epochs=10, k=10):\n",
    "    '''\n",
    "    *** From: http://nicolas-hug.com/blog/matrix_facto_4\n",
    "    A:      Data Matrix           [m x n]\n",
    "    alpha:  Learning rate         [scalar]\n",
    "    epochs: Number of iterations  [scalar]\n",
    "    k:      dimensions to use     [int]\n",
    "    m:      items\n",
    "    n:      users\n",
    "    '''\n",
    "    m,n = X.shape\n",
    "    # U: Item dim, V: User dim\n",
    "    U = np.random.normal(0, .1, (m, k)).astype(np.float64)\n",
    "    V = np.random.normal(0, .1, (n, k)).astype(np.float64)\n",
    "    \n",
    "    for e in range(epochs):\n",
    "        for idx in range(len(item_idx)):\n",
    "            i,j = item_idx[idx], user_idx[idx]\n",
    "            err = X[i,j] - np.dot(U[i], V[j].T)\n",
    "            U[i] += alpha * err * V[j]\n",
    "            V[j] += alpha * err * U[i]\n",
    "        print('Finished iteration %i of %i' % (e+1, epochs))\n",
    "    return U,V"
   ]
  },
  {
   "cell_type": "code",
   "execution_count": 116,
   "metadata": {},
   "outputs": [],
   "source": [
    "def sgd(X, user_idx, item_idx, alpha=0.001, epochs=10, k=10):\n",
    "    '''\n",
    "    *** From: http://nicolas-hug.com/blog/matrix_facto_4\n",
    "    A:      Data Matrix           [m x n]\n",
    "    alpha:  Learning rate         [scalar]\n",
    "    epochs: Number of iterations  [scalar]\n",
    "    k:      dimensions to use     [int]\n",
    "    m:      items\n",
    "    n:      users\n",
    "    '''\n",
    "    m,n = X.shape\n",
    "    U = np.random.normal(0, .1, (m, k)).astype(np.float64)\n",
    "    Z = np.random.normal(0, .1, (n, k)).astype(np.float64)\n",
    "    indices = np.arange(len(item_idx))\n",
    "    err_history = np.zeros(epochs)\n",
    "    \n",
    "    for e in range(epochs):\n",
    "        # Shuffle indices every epoch (Stochastic step)\n",
    "        np.random.shuffle(indices)\n",
    "        for idx in indices:\n",
    "            i,j = item_idx[idx], user_idx[idx]\n",
    "            err = X[i,j] - np.dot(U[i], Z[j].T)\n",
    "            U[i] += alpha * err * Z[j]\n",
    "            Z[j] += alpha * err * U[i]\n",
    "            # Save error value for later analysis\n",
    "            err_history[e] = err\n",
    "        print('Finished iteration %i of %i' % (e+1, epochs))\n",
    "    return U, Z, err_history"
   ]
  },
  {
   "cell_type": "code",
   "execution_count": 178,
   "metadata": {},
   "outputs": [
    {
     "data": {
      "text/plain": [
       "array([[2.5, 2.5]])"
      ]
     },
     "execution_count": 178,
     "metadata": {},
     "output_type": "execute_result"
    }
   ],
   "source": [
    "np.ones((1,2)) * 2.5"
   ]
  },
  {
   "cell_type": "code",
   "execution_count": 176,
   "metadata": {},
   "outputs": [
    {
     "data": {
      "text/plain": [
       "array([[3.82768823, 1.46194895]])"
      ]
     },
     "execution_count": 176,
     "metadata": {},
     "output_type": "execute_result"
    }
   ],
   "source": [
    "np.random.normal(2.5, 1, (1,2))"
   ]
  },
  {
   "cell_type": "code",
   "execution_count": 180,
   "metadata": {},
   "outputs": [],
   "source": [
    "def sgd(X, user_idx, item_idx, alpha=0.001, epochs=10, k=10):\n",
    "    '''\n",
    "    *** From: http://nicolas-hug.com/blog/matrix_facto_4\n",
    "    A:      Data Matrix           [m x n]\n",
    "    alpha:  Learning rate         [scalar]\n",
    "    epochs: Number of iterations  [scalar]\n",
    "    k:      dimensions to use     [int]\n",
    "    m:      items\n",
    "    n:      users\n",
    "    '''\n",
    "    mean_score = 3\n",
    "    m,n = X.shape\n",
    "    U = np.ones((m, k)).astype(np.float64) * mean_score\n",
    "    Z = np.ones((k, n)).astype(np.float64) * mean_score\n",
    "    indices = np.arange(len(item_idx))\n",
    "    err_history = np.zeros(epochs)\n",
    "    \n",
    "    for e in range(epochs):\n",
    "        # Shuffle indices every epoch (Stochastic step)\n",
    "        np.random.shuffle(indices)\n",
    "        for idx in indices:\n",
    "            i, j = item_idx[idx], user_idx[idx]\n",
    "            err = X[i,j] - np.dot(U[i], Z[:, j])\n",
    "            U[i] += alpha * err * Z[:, j]\n",
    "            Z[:, j] += alpha * err * U[i]\n",
    "            # Save error value for later analysis\n",
    "            err_history[e] = err\n",
    "        print('Finished iteration %i of %i' % (e+1, epochs))\n",
    "    return U, Z, err_history"
   ]
  },
  {
   "cell_type": "code",
   "execution_count": 181,
   "metadata": {},
   "outputs": [
    {
     "ename": "KeyboardInterrupt",
     "evalue": "",
     "output_type": "error",
     "traceback": [
      "\u001b[0;31m---------------------------------------------------------------------------\u001b[0m",
      "\u001b[0;31mKeyboardInterrupt\u001b[0m                         Traceback (most recent call last)",
      "\u001b[0;32m<ipython-input-181-078d326c2018>\u001b[0m in \u001b[0;36m<module>\u001b[0;34m()\u001b[0m\n\u001b[0;32m----> 1\u001b[0;31m \u001b[0mU\u001b[0m\u001b[0;34m,\u001b[0m \u001b[0mZ\u001b[0m\u001b[0;34m,\u001b[0m \u001b[0merr_history\u001b[0m \u001b[0;34m=\u001b[0m \u001b[0msgd\u001b[0m\u001b[0;34m(\u001b[0m\u001b[0mX_sparse\u001b[0m\u001b[0;34m,\u001b[0m \u001b[0muser_indices\u001b[0m\u001b[0;34m,\u001b[0m \u001b[0mitem_indices\u001b[0m\u001b[0;34m,\u001b[0m \u001b[0mepochs\u001b[0m\u001b[0;34m=\u001b[0m\u001b[0;36m20\u001b[0m\u001b[0;34m,\u001b[0m \u001b[0mk\u001b[0m\u001b[0;34m=\u001b[0m\u001b[0;36m5\u001b[0m\u001b[0;34m)\u001b[0m\u001b[0;34m\u001b[0m\u001b[0m\n\u001b[0m",
      "\u001b[0;32m<ipython-input-180-a797fea0c1a6>\u001b[0m in \u001b[0;36msgd\u001b[0;34m(X, user_idx, item_idx, alpha, epochs, k)\u001b[0m\n\u001b[1;32m     21\u001b[0m         \u001b[0;32mfor\u001b[0m \u001b[0midx\u001b[0m \u001b[0;32min\u001b[0m \u001b[0mindices\u001b[0m\u001b[0;34m:\u001b[0m\u001b[0;34m\u001b[0m\u001b[0m\n\u001b[1;32m     22\u001b[0m             \u001b[0mi\u001b[0m\u001b[0;34m,\u001b[0m \u001b[0mj\u001b[0m \u001b[0;34m=\u001b[0m \u001b[0mitem_idx\u001b[0m\u001b[0;34m[\u001b[0m\u001b[0midx\u001b[0m\u001b[0;34m]\u001b[0m\u001b[0;34m,\u001b[0m \u001b[0muser_idx\u001b[0m\u001b[0;34m[\u001b[0m\u001b[0midx\u001b[0m\u001b[0;34m]\u001b[0m\u001b[0;34m\u001b[0m\u001b[0m\n\u001b[0;32m---> 23\u001b[0;31m             \u001b[0merr\u001b[0m \u001b[0;34m=\u001b[0m \u001b[0mX\u001b[0m\u001b[0;34m[\u001b[0m\u001b[0mi\u001b[0m\u001b[0;34m,\u001b[0m\u001b[0mj\u001b[0m\u001b[0;34m]\u001b[0m \u001b[0;34m-\u001b[0m \u001b[0mnp\u001b[0m\u001b[0;34m.\u001b[0m\u001b[0mdot\u001b[0m\u001b[0;34m(\u001b[0m\u001b[0mU\u001b[0m\u001b[0;34m[\u001b[0m\u001b[0mi\u001b[0m\u001b[0;34m]\u001b[0m\u001b[0;34m,\u001b[0m \u001b[0mZ\u001b[0m\u001b[0;34m[\u001b[0m\u001b[0;34m:\u001b[0m\u001b[0;34m,\u001b[0m \u001b[0mj\u001b[0m\u001b[0;34m]\u001b[0m\u001b[0;34m)\u001b[0m\u001b[0;34m\u001b[0m\u001b[0m\n\u001b[0m\u001b[1;32m     24\u001b[0m             \u001b[0mU\u001b[0m\u001b[0;34m[\u001b[0m\u001b[0mi\u001b[0m\u001b[0;34m]\u001b[0m \u001b[0;34m+=\u001b[0m \u001b[0malpha\u001b[0m \u001b[0;34m*\u001b[0m \u001b[0merr\u001b[0m \u001b[0;34m*\u001b[0m \u001b[0mZ\u001b[0m\u001b[0;34m[\u001b[0m\u001b[0;34m:\u001b[0m\u001b[0;34m,\u001b[0m \u001b[0mj\u001b[0m\u001b[0;34m]\u001b[0m\u001b[0;34m\u001b[0m\u001b[0m\n\u001b[1;32m     25\u001b[0m             \u001b[0mZ\u001b[0m\u001b[0;34m[\u001b[0m\u001b[0;34m:\u001b[0m\u001b[0;34m,\u001b[0m \u001b[0mj\u001b[0m\u001b[0;34m]\u001b[0m \u001b[0;34m+=\u001b[0m \u001b[0malpha\u001b[0m \u001b[0;34m*\u001b[0m \u001b[0merr\u001b[0m \u001b[0;34m*\u001b[0m \u001b[0mU\u001b[0m\u001b[0;34m[\u001b[0m\u001b[0mi\u001b[0m\u001b[0;34m]\u001b[0m\u001b[0;34m\u001b[0m\u001b[0m\n",
      "\u001b[0;31mKeyboardInterrupt\u001b[0m: "
     ]
    }
   ],
   "source": [
    "U, Z, err_history = sgd(X_sparse, user_indices, item_indices, epochs=20, k=5)"
   ]
  },
  {
   "cell_type": "code",
   "execution_count": 151,
   "metadata": {},
   "outputs": [
    {
     "data": {
      "text/plain": [
       "array([[2.98554008, 3.10485022, 2.76208712, ..., 2.1475899 , 2.40683259,\n",
       "        2.0700478 ],\n",
       "       [3.75793867, 3.9081159 , 3.47667547, ..., 2.70319972, 3.02951191,\n",
       "        2.60559646],\n",
       "       [3.29360028, 3.42522132, 3.04709053, ..., 2.36918698, 2.65517939,\n",
       "        2.28364377],\n",
       "       ...,\n",
       "       [3.07747904, 3.2004633 , 2.8471449 , ..., 2.21372439, 2.4809504 ,\n",
       "        2.1337944 ],\n",
       "       [3.22573286, 3.35464174, 2.98430265, ..., 2.32036788, 2.60046717,\n",
       "        2.23658736],\n",
       "       [3.93673475, 4.09405716, 3.64208955, ..., 2.83181319, 3.17365074,\n",
       "        2.72956614]])"
      ]
     },
     "execution_count": 151,
     "metadata": {},
     "output_type": "execute_result"
    }
   ],
   "source": [
    "X_hat = U@Z\n",
    "X_hat"
   ]
  },
  {
   "cell_type": "code",
   "execution_count": 153,
   "metadata": {},
   "outputs": [
    {
     "name": "stdout",
     "output_type": "stream",
     "text": [
      "Exported sgd_5_float.csv\n"
     ]
    }
   ],
   "source": [
    "extract_submission_csv(X_hat, 'sgd_5_float')"
   ]
  },
  {
   "cell_type": "code",
   "execution_count": 143,
   "metadata": {},
   "outputs": [
    {
     "ename": "KeyboardInterrupt",
     "evalue": "",
     "output_type": "error",
     "traceback": [
      "\u001b[0;31m---------------------------------------------------------------------------\u001b[0m",
      "\u001b[0;31mKeyboardInterrupt\u001b[0m                         Traceback (most recent call last)",
      "\u001b[0;32m<ipython-input-143-2e1f2b237f8a>\u001b[0m in \u001b[0;36m<module>\u001b[0;34m()\u001b[0m\n\u001b[0;32m----> 1\u001b[0;31m \u001b[0mU\u001b[0m\u001b[0;34m,\u001b[0m\u001b[0mV\u001b[0m \u001b[0;34m=\u001b[0m \u001b[0mgradient_descent\u001b[0m\u001b[0;34m(\u001b[0m\u001b[0mX_sparse\u001b[0m\u001b[0;34m,\u001b[0m \u001b[0muser_indices\u001b[0m\u001b[0;34m,\u001b[0m \u001b[0mitem_indices\u001b[0m\u001b[0;34m)\u001b[0m\u001b[0;34m\u001b[0m\u001b[0m\n\u001b[0m",
      "\u001b[0;32m<ipython-input-84-3456b3837692>\u001b[0m in \u001b[0;36mgradient_descent\u001b[0;34m(X, user_idx, item_idx, alpha, epochs, k)\u001b[0m\n\u001b[1;32m     17\u001b[0m         \u001b[0;32mfor\u001b[0m \u001b[0midx\u001b[0m \u001b[0;32min\u001b[0m \u001b[0mrange\u001b[0m\u001b[0;34m(\u001b[0m\u001b[0mlen\u001b[0m\u001b[0;34m(\u001b[0m\u001b[0mitem_idx\u001b[0m\u001b[0;34m)\u001b[0m\u001b[0;34m)\u001b[0m\u001b[0;34m:\u001b[0m\u001b[0;34m\u001b[0m\u001b[0m\n\u001b[1;32m     18\u001b[0m             \u001b[0mi\u001b[0m\u001b[0;34m,\u001b[0m\u001b[0mj\u001b[0m \u001b[0;34m=\u001b[0m \u001b[0mitem_idx\u001b[0m\u001b[0;34m[\u001b[0m\u001b[0midx\u001b[0m\u001b[0;34m]\u001b[0m\u001b[0;34m,\u001b[0m \u001b[0muser_idx\u001b[0m\u001b[0;34m[\u001b[0m\u001b[0midx\u001b[0m\u001b[0;34m]\u001b[0m\u001b[0;34m\u001b[0m\u001b[0m\n\u001b[0;32m---> 19\u001b[0;31m             \u001b[0merr\u001b[0m \u001b[0;34m=\u001b[0m \u001b[0mX\u001b[0m\u001b[0;34m[\u001b[0m\u001b[0mi\u001b[0m\u001b[0;34m,\u001b[0m\u001b[0mj\u001b[0m\u001b[0;34m]\u001b[0m \u001b[0;34m-\u001b[0m \u001b[0mnp\u001b[0m\u001b[0;34m.\u001b[0m\u001b[0mdot\u001b[0m\u001b[0;34m(\u001b[0m\u001b[0mU\u001b[0m\u001b[0;34m[\u001b[0m\u001b[0mi\u001b[0m\u001b[0;34m]\u001b[0m\u001b[0;34m,\u001b[0m \u001b[0mV\u001b[0m\u001b[0;34m[\u001b[0m\u001b[0mj\u001b[0m\u001b[0;34m]\u001b[0m\u001b[0;34m.\u001b[0m\u001b[0mT\u001b[0m\u001b[0;34m)\u001b[0m\u001b[0;34m\u001b[0m\u001b[0m\n\u001b[0m\u001b[1;32m     20\u001b[0m             \u001b[0mU\u001b[0m\u001b[0;34m[\u001b[0m\u001b[0mi\u001b[0m\u001b[0;34m]\u001b[0m \u001b[0;34m+=\u001b[0m \u001b[0malpha\u001b[0m \u001b[0;34m*\u001b[0m \u001b[0merr\u001b[0m \u001b[0;34m*\u001b[0m \u001b[0mV\u001b[0m\u001b[0;34m[\u001b[0m\u001b[0mj\u001b[0m\u001b[0;34m]\u001b[0m\u001b[0;34m\u001b[0m\u001b[0m\n\u001b[1;32m     21\u001b[0m             \u001b[0mV\u001b[0m\u001b[0;34m[\u001b[0m\u001b[0mj\u001b[0m\u001b[0;34m]\u001b[0m \u001b[0;34m+=\u001b[0m \u001b[0malpha\u001b[0m \u001b[0;34m*\u001b[0m \u001b[0merr\u001b[0m \u001b[0;34m*\u001b[0m \u001b[0mU\u001b[0m\u001b[0;34m[\u001b[0m\u001b[0mi\u001b[0m\u001b[0;34m]\u001b[0m\u001b[0;34m\u001b[0m\u001b[0m\n",
      "\u001b[0;31mKeyboardInterrupt\u001b[0m: "
     ]
    }
   ],
   "source": [
    "U,V = gradient_descent(X_sparse, user_indices, item_indices)"
   ]
  },
  {
   "cell_type": "code",
   "execution_count": 152,
   "metadata": {},
   "outputs": [
    {
     "data": {
      "image/png": "[encoded data removed]",
      "text/plain": [
       "<Figure size 432x288 with 1 Axes>"
      ]
     },
     "metadata": {},
     "output_type": "display_data"
    }
   ],
   "source": [
    "import matplotlib.pyplot as plt\n",
    "plt.plot(err_history)\n",
    "plt.show()"
   ]
  },
  {
   "cell_type": "code",
   "execution_count": 111,
   "metadata": {},
   "outputs": [],
   "source": [
    "X_hat_round = X_hat.round()"
   ]
  },
  {
   "cell_type": "code",
   "execution_count": 113,
   "metadata": {},
   "outputs": [
    {
     "name": "stdout",
     "output_type": "stream",
     "text": [
      "Exported sgd_6_round.csv\n"
     ]
    }
   ],
   "source": [
    "extract_submission_csv(X_hat, 'sgd_5_float')"
   ]
  },
  {
   "cell_type": "code",
   "execution_count": null,
   "metadata": {},
   "outputs": [],
   "source": []
  }
 ],
 "metadata": {
  "kernelspec": {
   "display_name": "Python 3",
   "language": "python",
   "name": "python3"
  },
  "language_info": {
   "codemirror_mode": {
    "name": "ipython",
    "version": 3
   },
   "file_extension": ".py",
   "mimetype": "text/x-python",
   "name": "python",
   "nbconvert_exporter": "python",
   "pygments_lexer": "ipython3",
   "version": "3.6.7"
  }
 },
 "nbformat": 4,
 "nbformat_minor": 2
}
