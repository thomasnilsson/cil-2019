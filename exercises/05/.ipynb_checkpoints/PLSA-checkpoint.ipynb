{
 "cells": [
  {
   "cell_type": "code",
   "execution_count": 1,
   "metadata": {},
   "outputs": [],
   "source": [
    "import numpy as np\n",
    "import pandas as pd\n",
    "from sklearn.feature_extraction.text import CountVectorizer\n",
    "import scipy\n",
    "import math\n",
    "import matplotlib.pyplot as plt\n",
    "%matplotlib inline\n",
    "\n",
    "DEBUG = True"
   ]
  },
  {
   "cell_type": "markdown",
   "metadata": {},
   "source": [
    "# Setup and preprocessing\n",
    "\n",
    "Luckily, thanks to a preprocessed dataset and handy packages, there is almost nothing to do. The result is a sparse matrix `train_X` of dimension `n_docs` by `n_tokens`."
   ]
  },
  {
   "cell_type": "code",
   "execution_count": 2,
   "metadata": {},
   "outputs": [],
   "source": [
    "# run this once when you first get started\n",
    "#! gunzip associated-press.tar.gz && tar -xvf associated-press.tar"
   ]
  },
  {
   "cell_type": "code",
   "execution_count": 3,
   "metadata": {},
   "outputs": [],
   "source": [
    "train_docs = []\n",
    "with open(\"associated-press/train.dat\", 'r') as f:\n",
    "    for line in f.readlines():\n",
    "        train_docs.append(line)"
   ]
  },
  {
   "cell_type": "code",
   "execution_count": 4,
   "metadata": {
    "collapsed": true
   },
   "outputs": [],
   "source": [
    "vectorizer = CountVectorizer(vocabulary=None)\n",
    "train_X = vectorizer.fit_transform(train_docs)\n",
    "train_X = train_X.toarray() # sparse matrix is overkill for this dataset"
   ]
  },
  {
   "cell_type": "code",
   "execution_count": 5,
   "metadata": {},
   "outputs": [],
   "source": [
    "# you may want to debug using just a fraction of the data in order to speed up the development cycle.\n",
    "frac_data = 1.\n",
    "n_docs, n_tokens = train_X.shape\n",
    "train_X = train_X[:int(frac_data*n_docs),:]\n",
    "\n",
    "n_docs, n_tokens = train_X.shape\n",
    "\n",
    "## (SOLVE) set the number of topics you wish to learn.\n",
    "n_topics = 16"
   ]
  },
  {
   "cell_type": "markdown",
   "metadata": {},
   "source": [
    "# Model Building"
   ]
  },
  {
   "cell_type": "markdown",
   "metadata": {},
   "source": [
    "Init \n",
    "* $U: Z \\times N$ \n",
    "* $V: Z \\times M$  \n",
    "* $Q: Z \\times M \\times N$"
   ]
  },
  {
   "cell_type": "code",
   "execution_count": 66,
   "metadata": {},
   "outputs": [],
   "source": [
    "def initialize_model(n_docs, n_tokens, n_topics):    \n",
    "    U = np.random.rand(n_docs, n_topics)\n",
    "    U = (U.T / np.sum(U, axis=1)).T # project onto simplex\n",
    "    \n",
    "    V = np.ones((n_tokens,n_topics))\n",
    "    V = (V.T / np.sum(V, axis=1)).T # project onto simplex\n",
    "    \n",
    "    return U.T, V.T"
   ]
  },
  {
   "cell_type": "code",
   "execution_count": 67,
   "metadata": {},
   "outputs": [
    {
     "data": {
      "text/plain": [
       "((16, 2000), (16, 6756))"
      ]
     },
     "execution_count": 67,
     "metadata": {},
     "output_type": "execute_result"
    }
   ],
   "source": [
    "u, v = initialize_model(n_docs, n_tokens, n_topics)\n",
    "u.shape, v.shape"
   ]
  },
  {
   "cell_type": "markdown",
   "metadata": {},
   "source": [
    "# EM Inference"
   ]
  },
  {
   "cell_type": "markdown",
   "metadata": {},
   "source": [
    "Here we define functions to do the E-step and the M-step as well as compute the current value of the log-likelihood as well as the lower bound $\\mathcal L(X; U,V,Q) := \\sum_{ij} X_{ij}\\sum_{z=1}^K Q_{zij}[\\log U_{iz} + \\log V_{jz} - \\log Q_{zij}]$, which is our actual optimization objective. Then, we run the EM algorithm for some steps."
   ]
  },
  {
   "cell_type": "code",
   "execution_count": 220,
   "metadata": {
    "collapsed": true
   },
   "outputs": [],
   "source": [
    "def expectation_step(U, V):\n",
    "    q_zij = np.einsum('zi, zj -> zij', U, V)\n",
    "    q_zij /= np.matmul(U.T, V)\n",
    "    assert np.all(np.isclose(np.sum(q_zij, axis=0), 1.))\n",
    "    return q_zij"
   ]
  },
  {
   "cell_type": "code",
   "execution_count": 219,
   "metadata": {},
   "outputs": [
    {
     "data": {
      "text/plain": [
       "(16, 2000, 6756)"
      ]
     },
     "execution_count": 219,
     "metadata": {},
     "output_type": "execute_result"
    }
   ],
   "source": [
    "qp = expectation_step(u, v)\n",
    "qp.shape"
   ]
  },
  {
   "cell_type": "code",
   "execution_count": 221,
   "metadata": {},
   "outputs": [],
   "source": [
    "def m_step(Q, X, eps=1e-2):\n",
    "    u = np.einsum('ij, zij -> zi', X, Q)\n",
    "    u /= np.einsum('ij -> i', X)\n",
    "    assert np.all(np.isclose(u.sum(axis=0), 1.))\n",
    "    \n",
    "    v = np.einsum('ij, zij -> jz', X, Q) / np.einsum('ij,kij -> k', X, Q)\n",
    "    #v = v + eps \n",
    "    #v = v / v.sum(axis=0)\n",
    "    assert np.all(np.isclose(v.sum(axis=0), 1.))\n",
    "    \n",
    "    return u, v.T"
   ]
  },
  {
   "cell_type": "code",
   "execution_count": 215,
   "metadata": {},
   "outputs": [],
   "source": [
    "vv = np.einsum('ij, zij -> jz', train_X, qp) / np.einsum('ij,kij -> k', train_X, qp)\n",
    "np.all(np.isclose(vv.sum(axis=0), 1.))"
   ]
  },
  {
   "cell_type": "code",
   "execution_count": 214,
   "metadata": {},
   "outputs": [],
   "source": [
    "up, vp = m_step(qp1, train_X)\n",
    "up.shape, vp.shape"
   ]
  },
  {
   "cell_type": "code",
   "execution_count": 198,
   "metadata": {},
   "outputs": [],
   "source": [
    "def m_step2(Q, X, eps=1e-2):\n",
    "    assert np.all(np.isclose(np.sum(Q, axis=0), 1.)) # sanity\n",
    "    \n",
    "    Uprime = np.einsum('ij,kij -> ik', X, Q)\n",
    "    Uprime = (Uprime.T / np.sum(X, axis=1)).T\n",
    "    \n",
    "    assert np.all(np.isclose(np.sum(Uprime, axis=1), 1.))\n",
    "    \n",
    "    Vprime = np.einsum('ij,kij -> jk', X, Q) \n",
    "    Vprime = Vprime + eps \n",
    "    Vprime = Vprime/np.sum(Vprime,axis=0)\n",
    "    #/ np.einsum('ij,kij -> k', X, Q)\n",
    "    \n",
    "    assert np.all(np.isclose(np.sum(Vprime, axis=0), 1.))\n",
    "    \n",
    "    return Uprime, Vprime"
   ]
  },
  {
   "cell_type": "code",
   "execution_count": 160,
   "metadata": {},
   "outputs": [],
   "source": [
    "up2, vp2 = m_step2(qp1, train_X)"
   ]
  },
  {
   "cell_type": "code",
   "execution_count": 117,
   "metadata": {},
   "outputs": [
    {
     "data": {
      "text/plain": [
       "((2000, 16), (6756, 16))"
      ]
     },
     "execution_count": 117,
     "metadata": {},
     "output_type": "execute_result"
    }
   ],
   "source": [
    "up2.shape, vp2.shape"
   ]
  },
  {
   "cell_type": "code",
   "execution_count": 120,
   "metadata": {},
   "outputs": [
    {
     "data": {
      "text/plain": [
       "True"
      ]
     },
     "execution_count": 120,
     "metadata": {},
     "output_type": "execute_result"
    }
   ],
   "source": [
    "(up.T == up2).sum() == n_topics * n_docs"
   ]
  },
  {
   "cell_type": "code",
   "execution_count": 121,
   "metadata": {},
   "outputs": [
    {
     "data": {
      "text/plain": [
       "True"
      ]
     },
     "execution_count": 121,
     "metadata": {},
     "output_type": "execute_result"
    }
   ],
   "source": [
    "(vp.T == vp2).sum() == n_topics * n_tokens"
   ]
  },
  {
   "cell_type": "code",
   "execution_count": 52,
   "metadata": {},
   "outputs": [],
   "source": [
    "def compute_lower_bound2(U, V, Q, X):    \n",
    "    part = np.einsum('kij,ik -> ij',     Q, np.log(U)) \\\n",
    "            + np.einsum('kij,jk -> ij',  Q, np.log(V)) \\\n",
    "            - np.einsum('kij,kij -> ij', Q, np.log(Q))\n",
    "    part *= X\n",
    "    ret = np.sum(part)\n",
    "    return ret"
   ]
  },
  {
   "cell_type": "code",
   "execution_count": 55,
   "metadata": {},
   "outputs": [
    {
     "data": {
      "text/plain": [
       "-3035559.7020123843"
      ]
     },
     "execution_count": 55,
     "metadata": {},
     "output_type": "execute_result"
    }
   ],
   "source": [
    "compute_lower_bound2(up2, vp2, qp, train_X)"
   ]
  },
  {
   "cell_type": "code",
   "execution_count": 222,
   "metadata": {},
   "outputs": [],
   "source": [
    "def compute_lower_bound(U, V, Q, X):\n",
    "    lb = np.einsum('zij, zi -> ij', Q, np.log(U))\n",
    "    lb += np.einsum('zij, zj -> ij', Q, np.log(V))\n",
    "    lb -= np.einsum('zij, zij -> ij', Q, np.log(Q))\n",
    "    lb *= X\n",
    "    return lb.sum()"
   ]
  },
  {
   "cell_type": "code",
   "execution_count": 58,
   "metadata": {},
   "outputs": [
    {
     "data": {
      "text/plain": [
       "-3035559.7020123843"
      ]
     },
     "execution_count": 58,
     "metadata": {},
     "output_type": "execute_result"
    }
   ],
   "source": [
    "compute_lower_bound(up, vp, qp, train_X)"
   ]
  },
  {
   "cell_type": "code",
   "execution_count": 59,
   "metadata": {},
   "outputs": [],
   "source": [
    "def compute_loglikelihood2(U, V, Q, X, eps=1e-4): \n",
    "    part = np.einsum('ik,jk -> ij',     U, V)\n",
    "    part = np.log(part+eps)\n",
    "    part *= X\n",
    "    return np.sum(part)"
   ]
  },
  {
   "cell_type": "code",
   "execution_count": 60,
   "metadata": {},
   "outputs": [
    {
     "data": {
      "text/plain": [
       "-2890301.6459852564"
      ]
     },
     "execution_count": 60,
     "metadata": {},
     "output_type": "execute_result"
    }
   ],
   "source": [
    "compute_loglikelihood2(up2, vp2, qp, train_X)"
   ]
  },
  {
   "cell_type": "code",
   "execution_count": 223,
   "metadata": {},
   "outputs": [],
   "source": [
    "def compute_loglikelihood(U, V, Q, X, eps=1e-4): \n",
    "    ll = np.log(eps + np.einsum('zi, zj -> ij', U, V))\n",
    "    ll *= X\n",
    "    return ll.sum()"
   ]
  },
  {
   "cell_type": "code",
   "execution_count": 62,
   "metadata": {},
   "outputs": [
    {
     "data": {
      "text/plain": [
       "-2890301.6459852564"
      ]
     },
     "execution_count": 62,
     "metadata": {},
     "output_type": "execute_result"
    }
   ],
   "source": [
    "compute_loglikelihood(up, vp, qp, train_X)"
   ]
  },
  {
   "cell_type": "code",
   "execution_count": 226,
   "metadata": {},
   "outputs": [
    {
     "name": "stdout",
     "output_type": "stream",
     "text": [
      "Starting...\n",
      "Iteration %i 0  - LLH: -2889929.4461396104\n",
      "Iteration %i 1  - LLH: -2887817.8587033083\n",
      "Iteration %i 2  - LLH: -2885323.3577334294\n",
      "Iteration %i 3  - LLH: -2882022.477607841\n",
      "Iteration %i 4  - LLH: -2877416.260915513\n",
      "Iteration %i 5  - LLH: -2870908.390244455\n",
      "Iteration %i 6  - LLH: -2861911.423318723\n",
      "Iteration %i 7  - LLH: -2850134.912300937\n",
      "Iteration %i 8  - LLH: -2836018.4499273673\n",
      "Iteration %i 9  - LLH: -2820822.3806333737\n",
      "Iteration %i 10  - LLH: -2806020.629702063\n",
      "Iteration %i 11  - LLH: -2792658.576633062\n",
      "Iteration %i 12  - LLH: -2781167.747403371\n",
      "Iteration %i 13  - LLH: -2771486.7506220047\n",
      "Iteration %i 14  - LLH: -2763343.496569434\n",
      "Iteration %i 15  - LLH: -2756459.149163721\n",
      "Iteration %i 16  - LLH: -2750597.5037856377\n",
      "Iteration %i 17  - LLH: -2745547.3466430446\n",
      "Iteration %i 18  - LLH: -2741148.3694941574\n",
      "Iteration %i 19  - LLH: -2737290.4939087178\n",
      "Iteration %i 20  - LLH: -2733881.4492748617\n",
      "Iteration %i 21  - LLH: -2730845.414520368\n",
      "Iteration %i 22  - LLH: -2728123.5229916545\n",
      "Iteration %i 23  - LLH: -2725670.7885150723\n",
      "Iteration %i 24  - LLH: -2723465.417240902\n",
      "---------- Finished. ----------\n"
     ]
    }
   ],
   "source": [
    "U, V = initialize_model(n_docs, n_tokens, n_topics)\n",
    "n_iter = 25 # number of iterations \n",
    "lowerbounds = np.zeros(n_iter)\n",
    "loglikelihoods = np.zeros(n_iter)\n",
    "\n",
    "print(\"Starting...\")\n",
    "for i in range(n_iter):\n",
    "    # E-STEP\n",
    "    Q = expectation_step(U, V)\n",
    "\n",
    "    # check if the lower bound is maximized in the E-step.\n",
    "    lb = compute_lower_bound(U, V, Q, train_X)\n",
    "    ll = compute_loglikelihood(U, V, Q, train_X, eps=1e-10)\n",
    "    assert np.isclose(lb, ll)\n",
    "\n",
    "    # M-STEP\n",
    "    U, V = m_step(Q, train_X)\n",
    "\n",
    "    # Save lower bound and log-likelihood from this iteration\n",
    "    lowerbounds[i] = compute_lower_bound(U,V,Q,train_X)\n",
    "    loglikelihoods[i] = compute_loglikelihood(U,V,Q,train_X)\n",
    "    print(\"Iteration %i\", i, \" - LLH:\", loglikelihoods[i])\n",
    "print(\"-\"*10, \"Finished.\", \"-\"*10)"
   ]
  },
  {
   "cell_type": "code",
   "execution_count": 227,
   "metadata": {},
   "outputs": [
    {
     "data": {
      "text/plain": [
       "Text(0.5, 1.0, 'log-likelihood')"
      ]
     },
     "execution_count": 227,
     "metadata": {},
     "output_type": "execute_result"
    },
    {
     "data": {
      "image/png": "[encoded data removed]",
      "text/plain": [
       "<Figure size 720x360 with 2 Axes>"
      ]
     },
     "metadata": {},
     "output_type": "display_data"
    }
   ],
   "source": [
    "## (SOLVE) plot the lowerbounds and the likelihoods. Verify that they are increasing upon each iteration.\n",
    "fig, (ax1, ax2) = plt.subplots(1, 2, figsize=[10,5])\n",
    "ax1.plot(lowerbounds)\n",
    "ax1.set_title('lowerbounds')\n",
    "ax2.plot(loglikelihoods, 'orange')\n",
    "ax2.set_title('log-likelihood')"
   ]
  },
  {
   "cell_type": "markdown",
   "metadata": {},
   "source": [
    "# Analysis \n",
    "For each topic, we print the top 5 associated words i.e. the words for which $V[w,topic]$ is maximized. "
   ]
  },
  {
   "cell_type": "code",
   "execution_count": 228,
   "metadata": {},
   "outputs": [],
   "source": [
    "n_top = 5\n",
    "names = vectorizer.get_feature_names()"
   ]
  },
  {
   "cell_type": "code",
   "execution_count": 229,
   "metadata": {},
   "outputs": [],
   "source": [
    "idx = range(len(names))"
   ]
  },
  {
   "cell_type": "code",
   "execution_count": 230,
   "metadata": {},
   "outputs": [
    {
     "name": "stdout",
     "output_type": "stream",
     "text": [
      "---------\n",
      "TOPIC: 1\n",
      "> govern\n",
      "> court\n",
      "> case\n",
      "> file\n",
      "> investig\n",
      "---------\n",
      "TOPIC: 2\n",
      "> court\n",
      "> drug\n",
      "> charg\n",
      "> state\n",
      "> case\n",
      "---------\n",
      "TOPIC: 3\n",
      "> tax\n",
      "> year\n",
      "> say\n",
      "> money\n",
      "> peopl\n",
      "---------\n",
      "TOPIC: 4\n",
      "> percent\n",
      "> year\n",
      "> million\n",
      "> billion\n",
      "> product\n",
      "---------\n",
      "TOPIC: 5\n",
      "> percent\n",
      "> rate\n",
      "> million\n",
      "> year\n",
      "> aid\n",
      "---------\n",
      "TOPIC: 6\n",
      "> price\n",
      "> market\n",
      "> stock\n",
      "> compani\n",
      "> trade\n",
      "---------\n",
      "TOPIC: 7\n",
      "> bill\n",
      "> committ\n",
      "> congress\n",
      "> state\n",
      "> hou\n",
      "---------\n",
      "TOPIC: 8\n",
      "> state\n",
      "> vote\n",
      "> year\n",
      "> news\n",
      "> show\n",
      "---------\n",
      "TOPIC: 9\n",
      "> bush\n",
      "> democrat\n",
      "> dukaki\n",
      "> campaign\n",
      "> presid\n",
      "---------\n",
      "TOPIC: 10\n",
      "> offici\n",
      "> air\n",
      "> ship\n",
      "> japan\n",
      "> two\n",
      "---------\n",
      "TOPIC: 11\n",
      "> year\n",
      "> peopl\n",
      "> govern\n",
      "> student\n",
      "> school\n",
      "---------\n",
      "TOPIC: 12\n",
      "> soviet\n",
      "> parti\n",
      "> gorbachev\n",
      "> presid\n",
      "> state\n",
      "---------\n",
      "TOPIC: 13\n",
      "> year\n",
      "> union\n",
      "> space\n",
      "> airlin\n",
      "> two\n",
      "---------\n",
      "TOPIC: 14\n",
      "> children\n",
      "> peopl\n",
      "> research\n",
      "> day\n",
      "> dont\n",
      "---------\n",
      "TOPIC: 15\n",
      "> peopl\n",
      "> polic\n",
      "> offici\n",
      "> report\n",
      "> kill\n",
      "---------\n",
      "TOPIC: 16\n",
      "> polic\n",
      "> two\n",
      "> kill\n",
      "> new\n",
      "> strike\n"
     ]
    }
   ],
   "source": [
    "for t in range(n_topics): \n",
    "    print('---------')\n",
    "    print('TOPIC: ' + str(t+1))\n",
    "    indeces = sorted(idx, key=lambda k: V.T[k,t],reverse=True)\n",
    "    for i in range(n_top): \n",
    "        print('>', names[indeces[i]])"
   ]
  },
  {
   "cell_type": "markdown",
   "metadata": {},
   "source": [
    "### Notes on LATENT VARIABLE MODELS, PLSM, AND THE EXPECTATION MAXIMIZATION ALGORITHM\n",
    "\n",
    "#### Part 1\n",
    "\n",
    "\n",
    "* Def 1.1: $p(w_j, d_i) = \\sum\\limits_{k} p(w_j, d_i , z=k) = \\sum\\limits_{k} p(w_j, d_i \\mid z=k) p(z = k)$\n",
    "* Def 1.2 $p(w_j, d_i) = \\sum\\limits_{k} p(w_j \\mid z=k) p(d_i \\mid z = k) p(z = k)$\n",
    "\n",
    "Def 1.2 follows from a conditional independence assumption:\n",
    "* If you know that the topic for a given document is $z = k$, then the document no longer correlates at all with the word frequency $w_j$.\n",
    "\n",
    "\n"
   ]
  },
  {
   "cell_type": "code",
   "execution_count": null,
   "metadata": {},
   "outputs": [],
   "source": []
  },
  {
   "cell_type": "code",
   "execution_count": null,
   "metadata": {},
   "outputs": [],
   "source": []
  }
 ],
 "metadata": {
  "kernelspec": {
   "display_name": "Python 3",
   "language": "python",
   "name": "python3"
  },
  "language_info": {
   "codemirror_mode": {
    "name": "ipython",
    "version": 3
   },
   "file_extension": ".py",
   "mimetype": "text/x-python",
   "name": "python",
   "nbconvert_exporter": "python",
   "pygments_lexer": "ipython3",
   "version": "3.6.7"
  }
 },
 "nbformat": 4,
 "nbformat_minor": 2
}
