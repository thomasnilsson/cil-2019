{
 "cells": [
  {
   "cell_type": "code",
   "execution_count": 1,
   "metadata": {
    "collapsed": true
   },
   "outputs": [],
   "source": [
    "import numpy as np\n",
    "import pandas as pd\n",
    "from sklearn.feature_extraction.text import CountVectorizer\n",
    "import scipy\n",
    "import math\n",
    "import matplotlib.pyplot as plt\n",
    "%matplotlib inline\n",
    "\n",
    "DEBUG = True"
   ]
  },
  {
   "cell_type": "markdown",
   "metadata": {},
   "source": [
    "# Setup and preprocessing\n",
    "\n",
    "Luckily, thanks to a preprocessed dataset and handy packages, there is almost nothing to do. The result is a sparse matrix `train_X` of dimension `n_docs` by `n_tokens`."
   ]
  },
  {
   "cell_type": "code",
   "execution_count": 2,
   "metadata": {
    "collapsed": true
   },
   "outputs": [],
   "source": [
    "# run this once when you first get started\n",
    "#! gunzip associated-press.tar.gz && tar -xvf associated-press.tar"
   ]
  },
  {
   "cell_type": "code",
   "execution_count": 3,
   "metadata": {
    "collapsed": true
   },
   "outputs": [],
   "source": [
    "train_docs = []\n",
    "with open(\"associated-press/train.dat\", 'r') as f:\n",
    "    for line in f.readlines():\n",
    "        train_docs.append(line)"
   ]
  },
  {
   "cell_type": "code",
   "execution_count": 4,
   "metadata": {
    "collapsed": true
   },
   "outputs": [],
   "source": [
    "vectorizer = CountVectorizer(vocabulary=None)\n",
    "train_X = vectorizer.fit_transform(train_docs)\n",
    "train_X = train_X.toarray() # sparse matrix is overkill for this dataset\n",
    "\n",
    "# you may want to debug using just a fraction of the data in order to speed up the development cycle.\n",
    "frac_data = 1.\n",
    "n_docs, n_tokens = train_X.shape\n",
    "train_X = train_X[:int(frac_data*n_docs),:]\n",
    "\n",
    "n_docs, n_tokens = train_X.shape\n",
    "n_topics = 16"
   ]
  },
  {
   "cell_type": "markdown",
   "metadata": {},
   "source": [
    "# Model Building"
   ]
  },
  {
   "cell_type": "code",
   "execution_count": 5,
   "metadata": {
    "collapsed": true
   },
   "outputs": [],
   "source": [
    "def initialize_model(n_topics):    \n",
    "    U = np.random.rand(n_docs, n_topics)\n",
    "    U = (U.T / np.sum(U, axis=1)).T # project onto simplex\n",
    "    \n",
    "    V = np.ones((n_tokens,n_topics))\n",
    "    V = (V.T / np.sum(V, axis=1)).T # project onto simplex\n",
    "    \n",
    "    Q = np.random.rand(n_topics, n_docs, n_tokens)\n",
    "    Q = Q / np.sum(Q, axis=0)\n",
    "    assert np.all(np.isclose(1., np.sum(Q, axis=0))) # sanity\n",
    "    \n",
    "    return U,V,Q"
   ]
  },
  {
   "cell_type": "markdown",
   "metadata": {},
   "source": [
    "# EM Inference"
   ]
  },
  {
   "cell_type": "markdown",
   "metadata": {},
   "source": [
    "Here we define functions to do the E-step and the M-step as well as compute the current value of the log-likelihood as well as the lower bound $\\mathcal L(X; U,V,Q) := \\sum_{ij} X_{ij}\\sum_{z=1}^K Q_{zij}[\\log U_{iz} + \\log V_{jz} - \\log Q_{zij}]$, which is our actual optimization objective. Then, we run the EM algorithm for some steps."
   ]
  },
  {
   "cell_type": "code",
   "execution_count": 6,
   "metadata": {
    "collapsed": true
   },
   "outputs": [],
   "source": [
    "def expectation_step(U, V):\n",
    "    Qprime = np.einsum('ik,jk -> kij', U, V)\n",
    "    normalizer = np.matmul(U, V.T).T\n",
    "    \n",
    "    Qprime = Qprime / (normalizer.T )\n",
    "    Qprime = Qprime.reshape([n_topics, n_docs, n_tokens])\n",
    "    return Qprime"
   ]
  },
  {
   "cell_type": "code",
   "execution_count": 7,
   "metadata": {
    "collapsed": true
   },
   "outputs": [],
   "source": [
    "def maximization_step(U, V, Q, X, eps=1e-2):\n",
    "    assert np.all(np.isclose(np.sum(Q, axis=0), 1.)) # sanity\n",
    "    \n",
    "    Uprime = np.einsum('ij,kij -> ik', X, Q)\n",
    "    Uprime = (Uprime.T / np.sum(X, axis=1)).T\n",
    "    \n",
    "    assert np.all(np.isclose(np.sum(Uprime, axis=1), 1.))\n",
    "    \n",
    "    Vprime = np.einsum('ij,kij -> jk', X, Q) \n",
    "    Vprime = Vprime + eps \n",
    "    Vprime = Vprime/np.sum(Vprime,axis=0)\n",
    "    #/ np.einsum('ij,kij -> k', X, Q)\n",
    "    \n",
    "    assert np.all(np.isclose(np.sum(Vprime, axis=0), 1.))\n",
    "    \n",
    "    return Uprime, Vprime"
   ]
  },
  {
   "cell_type": "code",
   "execution_count": 8,
   "metadata": {
    "collapsed": true
   },
   "outputs": [],
   "source": [
    "def compute_lower_bound(U, V, Q, X):    \n",
    "    part = np.einsum('kij,ik -> ij',     Q, np.log(U)) \\\n",
    "            + np.einsum('kij,jk -> ij',  Q, np.log(V)) \\\n",
    "            - np.einsum('kij,kij -> ij', Q, np.log(Q))\n",
    "    part *= X\n",
    "    ret = np.sum(part)\n",
    "    return ret\n",
    "\n",
    "def compute_loglikelihood(U, V, Q, X, eps=1e-4): \n",
    "    part = np.einsum('ik,jk -> ij',     U, V)\n",
    "    part = np.log(part+eps)\n",
    "    part *= X\n",
    "    return np.sum(part)"
   ]
  },
  {
   "cell_type": "code",
   "execution_count": 9,
   "metadata": {},
   "outputs": [
    {
     "name": "stdout",
     "output_type": "stream",
     "text": [
      "EM iteration 0\n",
      "EM iteration 1\n",
      "EM iteration 2\n",
      "EM iteration 3\n",
      "EM iteration 4\n",
      "EM iteration 5\n",
      "EM iteration 6\n",
      "EM iteration 7\n",
      "EM iteration 8\n",
      "EM iteration 9\n",
      "EM iteration 10\n",
      "EM iteration 11\n",
      "EM iteration 12\n",
      "EM iteration 13\n",
      "EM iteration 14\n",
      "EM iteration 15\n",
      "EM iteration 16\n",
      "EM iteration 17\n",
      "EM iteration 18\n",
      "EM iteration 19\n",
      "EM iteration 20\n",
      "EM iteration 21\n",
      "EM iteration 22\n",
      "EM iteration 23\n",
      "EM iteration 24\n"
     ]
    }
   ],
   "source": [
    "U,V,Q = initialize_model(n_topics)\n",
    "n_itrs = 25 # number of iterations \n",
    "lowerbounds = np.zeros(n_itrs)\n",
    "loglikelihoods = np.zeros(n_itrs)\n",
    "for i in range(n_itrs):\n",
    "    print(\"EM iteration {}\".format(i))\n",
    "    Q = expectation_step(U, V)\n",
    "    \n",
    "    # check if the lower bound is maximized in the E-step.\n",
    "    assert np.isclose(compute_lower_bound(U, V, Q, train_X),\n",
    "                      compute_loglikelihood(U, V, Q, train_X, eps=1e-10))\n",
    "    \n",
    "    U, V = maximization_step(U, V, Q, train_X)\n",
    "    lowerbounds[i] = compute_lower_bound(U,V,Q,train_X)\n",
    "    loglikelihoods[i] = compute_loglikelihood(U,V,Q,train_X)"
   ]
  },
  {
   "cell_type": "code",
   "execution_count": 10,
   "metadata": {},
   "outputs": [
    {
     "data": {
      "text/plain": [
       "[<matplotlib.lines.Line2D at 0x1a19b57128>]"
      ]
     },
     "execution_count": 10,
     "metadata": {},
     "output_type": "execute_result"
    },
    {
     "data": {
      "image/png": "[encoded data removed]",
      "text/plain": [
       "<Figure size 432x288 with 1 Axes>"
      ]
     },
     "metadata": {
      "needs_background": "light"
     },
     "output_type": "display_data"
    }
   ],
   "source": [
    "%matplotlib inline\n",
    "import matplotlib.pyplot  as plt\n",
    "plt.title('lowerbound')\n",
    "plt.plot(lowerbounds[0:i])"
   ]
  },
  {
   "cell_type": "code",
   "execution_count": 11,
   "metadata": {},
   "outputs": [
    {
     "data": {
      "text/plain": [
       "[<matplotlib.lines.Line2D at 0x1a30e0df60>]"
      ]
     },
     "execution_count": 11,
     "metadata": {},
     "output_type": "execute_result"
    },
    {
     "data": {
      "image/png": "[encoded data removed]",
      "text/plain": [
       "<Figure size 432x288 with 1 Axes>"
      ]
     },
     "metadata": {
      "needs_background": "light"
     },
     "output_type": "display_data"
    }
   ],
   "source": [
    "plt.title('loglikelihood')\n",
    "plt.plot(loglikelihoods[0:i])"
   ]
  },
  {
   "cell_type": "markdown",
   "metadata": {},
   "source": [
    "# Analysis \n",
    "For each topic, we print the top 5 associated words i.e. the words for which $V[w,topic]$ is maximized. "
   ]
  },
  {
   "cell_type": "code",
   "execution_count": 12,
   "metadata": {},
   "outputs": [
    {
     "name": "stdout",
     "output_type": "stream",
     "text": [
      "---------\n",
      "topic: 0\n",
      "polic\n",
      "two\n",
      "offic\n",
      "mr\n",
      "drug\n",
      "---------\n",
      "topic: 1\n",
      "union\n",
      "new\n",
      "worker\n",
      "west\n",
      "offici\n",
      "---------\n",
      "topic: 2\n",
      "compani\n",
      "million\n",
      "percent\n",
      "year\n",
      "billion\n",
      "---------\n",
      "topic: 3\n",
      "presid\n",
      "bush\n",
      "state\n",
      "reagan\n",
      "hou\n",
      "---------\n",
      "topic: 4\n",
      "parti\n",
      "govern\n",
      "polit\n",
      "elect\n",
      "gorbachev\n",
      "---------\n",
      "topic: 5\n",
      "court\n",
      "case\n",
      "attorney\n",
      "year\n",
      "feder\n",
      "---------\n",
      "topic: 6\n",
      "iraq\n",
      "million\n",
      "american\n",
      "iraqi\n",
      "kuwait\n",
      "---------\n",
      "topic: 7\n",
      "bush\n",
      "dukaki\n",
      "democrat\n",
      "campaign\n",
      "republican\n",
      "---------\n",
      "topic: 8\n",
      "percent\n",
      "trade\n",
      "market\n",
      "price\n",
      "rate\n",
      "---------\n",
      "topic: 9\n",
      "polic\n",
      "kill\n",
      "report\n",
      "attack\n",
      "israel\n",
      "---------\n",
      "topic: 10\n",
      "bank\n",
      "dollar\n",
      "london\n",
      "new\n",
      "franc\n",
      "---------\n",
      "topic: 11\n",
      "year\n",
      "children\n",
      "new\n",
      "citi\n",
      "get\n",
      "---------\n",
      "topic: 12\n",
      "bill\n",
      "feder\n",
      "state\n",
      "million\n",
      "senat\n",
      "---------\n",
      "topic: 13\n",
      "soviet\n",
      "report\n",
      "student\n",
      "offici\n",
      "school\n",
      "---------\n",
      "topic: 14\n",
      "polic\n",
      "prison\n",
      "peopl\n",
      "kill\n",
      "death\n",
      "---------\n",
      "topic: 15\n",
      "nation\n",
      "contra\n",
      "state\n",
      "farmer\n",
      "govern\n"
     ]
    }
   ],
   "source": [
    "n_top = 5\n",
    "names = vectorizer.get_feature_names()\n",
    "\n",
    "for t in range(n_topics): \n",
    "    print('---------')\n",
    "    print('topic: ' + str(t))\n",
    "    indeces = sorted(range(len(names)), key=lambda k: V[k,t],reverse=True) \n",
    "    for i in range(n_top): \n",
    "        print(names[indeces[i]])"
   ]
  }
 ],
 "metadata": {
  "kernelspec": {
   "display_name": "Python 3",
   "language": "python",
   "name": "python3"
  },
  "language_info": {
   "codemirror_mode": {
    "name": "ipython",
    "version": 3
   },
   "file_extension": ".py",
   "mimetype": "text/x-python",
   "name": "python",
   "nbconvert_exporter": "python",
   "pygments_lexer": "ipython3",
   "version": "3.5.2"
  }
 },
 "nbformat": 4,
 "nbformat_minor": 2
}
