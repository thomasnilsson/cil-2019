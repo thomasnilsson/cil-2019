{
 "cells": [
  {
   "cell_type": "code",
   "execution_count": 1,
   "metadata": {},
   "outputs": [],
   "source": [
    "import numpy as np\n",
    "import pandas as pd\n",
    "from sklearn.feature_extraction.text import CountVectorizer\n",
    "import scipy\n",
    "import math\n",
    "import matplotlib.pyplot as plt\n",
    "%matplotlib inline\n",
    "\n",
    "DEBUG = True"
   ]
  },
  {
   "cell_type": "markdown",
   "metadata": {},
   "source": [
    "# Setup and preprocessing\n",
    "\n",
    "Luckily, thanks to a preprocessed dataset and handy packages, there is almost nothing to do. The result is a sparse matrix `train_X` of dimension `n_docs` by `n_tokens`."
   ]
  },
  {
   "cell_type": "code",
   "execution_count": 2,
   "metadata": {},
   "outputs": [],
   "source": [
    "# run this once when you first get started\n",
    "#! gunzip associated-press.tar.gz && tar -xvf associated-press.tar"
   ]
  },
  {
   "cell_type": "code",
   "execution_count": 3,
   "metadata": {},
   "outputs": [],
   "source": [
    "train_docs = []\n",
    "with open(\"associated-press/train.dat\", 'r') as f:\n",
    "    for line in f.readlines():\n",
    "        train_docs.append(line)"
   ]
  },
  {
   "cell_type": "code",
   "execution_count": 46,
   "metadata": {
    "collapsed": true
   },
   "outputs": [],
   "source": [
    "vectorizer = CountVectorizer(vocabulary=None)\n",
    "train_X = vectorizer.fit_transform(train_docs)\n",
    "train_X = train_X.toarray() # sparse matrix is overkill for this dataset\n",
    "\n",
    "# you may want to debug using just a fraction of the data in order to speed up the development cycle.\n",
    "frac_data = 1.\n",
    "n_docs, n_tokens = train_X.shape\n",
    "train_X = train_X[:int(frac_data*n_docs),:]\n",
    "\n",
    "n_docs, n_tokens = train_X.shape\n",
    "\n",
    "## (SOLVE) set the number of topics you wish to learn.\n",
    "n_topics = 5\n",
    "z, d, w = n_topics, n_docs, n_tokens"
   ]
  },
  {
   "cell_type": "markdown",
   "metadata": {},
   "source": [
    "# Model Building"
   ]
  },
  {
   "cell_type": "code",
   "execution_count": 5,
   "metadata": {},
   "outputs": [],
   "source": [
    "def normalize(M):\n",
    "    return M / M.sum(axis=0)"
   ]
  },
  {
   "cell_type": "code",
   "execution_count": 6,
   "metadata": {
    "collapsed": true
   },
   "outputs": [],
   "source": [
    "def initialize_model(n_topics):\n",
    "    ## (SOLVE) Initialize matrices U, V, and Q.\n",
    "    ## HINT: Don't forget that these matrices must satisfy constraints.\n",
    "    U = np.random.rand(d, z)\n",
    "    V = np.random.rand(z, w)\n",
    "    Q = np.random.rand(z, d, w)\n",
    "    \n",
    "    U,V,Q = normalize(U), normalize(V), normalize(Q)\n",
    "    \n",
    "    # Perform constraint check, i.e. probs sum to 1 (columns)\n",
    "    assert np.all(np.isclose(1.0, Q.sum(axis=0)))\n",
    "    \n",
    "    return U,V.T,Q"
   ]
  },
  {
   "cell_type": "markdown",
   "metadata": {},
   "source": [
    "# EM Inference"
   ]
  },
  {
   "cell_type": "markdown",
   "metadata": {},
   "source": [
    "Here we define functions to do the E-step and the M-step as well as compute the current value of the log-likelihood as well as the lower bound $\\mathcal L(X; U,V,Q) := \\sum_{ij} X_{ij}\\sum_{z=1}^K Q_{zij}[\\log U_{iz} + \\log V_{jz} - \\log Q_{zij}]$, which is our actual optimization objective. Then, we run the EM algorithm for some steps."
   ]
  },
  {
   "cell_type": "code",
   "execution_count": 16,
   "metadata": {
    "collapsed": true
   },
   "outputs": [],
   "source": [
    "def expectation_step(U, V):\n",
    "    Qprime = np.einsum('ik,jk -> kij', U, V)\n",
    "    normalizer = np.matmul(U, V.T).T\n",
    "    \n",
    "    Qprime = Qprime / (normalizer.T )\n",
    "    Qprime = Qprime.reshape([n_topics, n_docs, n_tokens])\n",
    "    return Qprime"
   ]
  },
  {
   "cell_type": "code",
   "execution_count": 21,
   "metadata": {},
   "outputs": [],
   "source": [
    "def maximization_step(U, V, Q, X, eps=1e-2):\n",
    "    assert np.all(np.isclose(np.sum(Q, axis=0), 1.)) # sanity\n",
    "    \n",
    "    Uprime = np.einsum('ij,kij -> ik', X, Q)\n",
    "    Uprime = (Uprime.T / np.sum(X, axis=1)).T\n",
    "    \n",
    "    assert np.all(np.isclose(np.sum(Uprime, axis=1), 1.))\n",
    "    \n",
    "    Vprime = np.einsum('ij,kij -> jk', X, Q) \n",
    "    Vprime = Vprime + eps \n",
    "    Vprime = Vprime/np.sum(Vprime,axis=0)\n",
    "    #/ np.einsum('ij,kij -> k', X, Q)\n",
    "    \n",
    "    assert np.all(np.isclose(np.sum(Vprime, axis=0), 1.))\n",
    "    \n",
    "    return Uprime, Vprime"
   ]
  },
  {
   "cell_type": "code",
   "execution_count": 22,
   "metadata": {},
   "outputs": [],
   "source": [
    "def compute_lower_bound(U, V, Q, X):    \n",
    "    part = np.einsum('kij,ik -> ij', Q, np.log(U))\n",
    "    part += np.einsum('kij,jk -> ij',  Q, np.log(V))\n",
    "    part -= np.einsum('kij,kij -> ij', Q, np.log(Q))\n",
    "    part *= X\n",
    "    \n",
    "    return np.sum(part)\n",
    "\n",
    "def compute_loglikelihood(U, V, Q, X, eps=1e-4): \n",
    "    part = np.einsum('ik,jk -> ij', U, V)\n",
    "    part = np.log(part + eps)\n",
    "    part *= X\n",
    "    return np.sum(part)"
   ]
  },
  {
   "cell_type": "code",
   "execution_count": 26,
   "metadata": {},
   "outputs": [],
   "source": [
    "def plsa():\n",
    "    U,V,Q = initialize_model(n_topics)\n",
    "    n_itrs = 25 # number of iterations \n",
    "    lowerbounds = np.zeros(n_itrs)\n",
    "    loglikelihoods = np.zeros(n_itrs)\n",
    "    for i in range(n_itrs):\n",
    "        print(\"EM iteration {}\".format(i))\n",
    "        Q = expectation_step(U, V)\n",
    "\n",
    "        # check if the lower bound is maximized in the E-step.\n",
    "        assert np.isclose(compute_lower_bound(U, V, Q, train_X),\n",
    "                          compute_loglikelihood(U, V, Q, train_X, eps=1e-10))\n",
    "\n",
    "        U, V = maximization_step(U, V, Q, train_X)\n",
    "        lowerbounds[i] = compute_lower_bound(U,V,Q,train_X)\n",
    "        loglikelihoods[i] = compute_loglikelihood(U,V,Q,train_X)\n",
    "    return U, V, lowerbounds, loglikelihoods"
   ]
  },
  {
   "cell_type": "code",
   "execution_count": 27,
   "metadata": {},
   "outputs": [
    {
     "name": "stdout",
     "output_type": "stream",
     "text": [
      "EM iteration 0\n",
      "EM iteration 1\n",
      "EM iteration 2\n",
      "EM iteration 3\n",
      "EM iteration 4\n",
      "EM iteration 5\n",
      "EM iteration 6\n",
      "EM iteration 7\n",
      "EM iteration 8\n",
      "EM iteration 9\n",
      "EM iteration 10\n",
      "EM iteration 11\n",
      "EM iteration 12\n",
      "EM iteration 13\n",
      "EM iteration 14\n",
      "EM iteration 15\n",
      "EM iteration 16\n",
      "EM iteration 17\n",
      "EM iteration 18\n",
      "EM iteration 19\n",
      "EM iteration 20\n",
      "EM iteration 21\n",
      "EM iteration 22\n",
      "EM iteration 23\n",
      "EM iteration 24\n"
     ]
    }
   ],
   "source": [
    "U, V, lowerbounds, loglikelihoods = plsa()"
   ]
  },
  {
   "cell_type": "code",
   "execution_count": 77,
   "metadata": {},
   "outputs": [
    {
     "data": {
      "text/plain": [
       "Text(0.5,1,'log-likelihood')"
      ]
     },
     "execution_count": 77,
     "metadata": {},
     "output_type": "execute_result"
    },
    {
     "data": {
      "image/png": "[encoded data removed]",
      "text/plain": [
       "<Figure size 720x360 with 2 Axes>"
      ]
     },
     "metadata": {
      "needs_background": "light"
     },
     "output_type": "display_data"
    }
   ],
   "source": [
    "## (SOLVE) plot the lowerbounds and the likelihoods. Verify that they are increasing upon each iteration.\n",
    "fig, (ax1, ax2) = plt.subplots(1, 2, figsize=[10,5])\n",
    "ax1.plot(lowerbounds)\n",
    "ax1.set_title('lowerbounds')\n",
    "ax2.plot(loglikelihoods, 'orange')\n",
    "ax2.set_title('log-likelihood')"
   ]
  },
  {
   "cell_type": "markdown",
   "metadata": {},
   "source": [
    "# Analysis \n",
    "For each topic, we print the top 5 associated words i.e. the words for which $V[w,topic]$ is maximized. "
   ]
  },
  {
   "cell_type": "code",
   "execution_count": 40,
   "metadata": {},
   "outputs": [],
   "source": [
    "n_top = 5\n",
    "names = vectorizer.get_feature_names()\n",
    "\n",
    "## (SOLVE) do what we claim in the text above."
   ]
  },
  {
   "cell_type": "code",
   "execution_count": 65,
   "metadata": {},
   "outputs": [
    {
     "data": {
      "text/plain": [
       "[3, 2, 4, 1, 0]"
      ]
     },
     "execution_count": 65,
     "metadata": {},
     "output_type": "execute_result"
    }
   ],
   "source": [
    "arr = [123, 1233, 3231, 312312, 3123]\n",
    "sorted(range(len(arr)), key=lambda k: arr[k], reverse=True) "
   ]
  },
  {
   "cell_type": "code",
   "execution_count": 64,
   "metadata": {},
   "outputs": [
    {
     "data": {
      "text/plain": [
       "(6756, 6756)"
      ]
     },
     "execution_count": 64,
     "metadata": {},
     "output_type": "execute_result"
    }
   ],
   "source": [
    "len(names), len(V)"
   ]
  },
  {
   "cell_type": "code",
   "execution_count": 75,
   "metadata": {},
   "outputs": [
    {
     "name": "stdout",
     "output_type": "stream",
     "text": [
      "---------\n",
      "TOPIC: 1\n",
      "> year\n",
      "> stock\n",
      "> report\n",
      "> new\n",
      "> market\n",
      "---------\n",
      "TOPIC: 2\n",
      "> soviet\n",
      "> govern\n",
      "> parti\n",
      "> offici\n",
      "> presid\n",
      "---------\n",
      "TOPIC: 3\n",
      "> million\n",
      "> compani\n",
      "> year\n",
      "> billion\n",
      "> state\n",
      "---------\n",
      "TOPIC: 4\n",
      "> percent\n",
      "> year\n",
      "> bush\n",
      "> new\n",
      "> million\n",
      "---------\n",
      "TOPIC: 5\n",
      "> court\n",
      "> polic\n",
      "> state\n",
      "> peopl\n",
      "> charg\n"
     ]
    }
   ],
   "source": [
    "n_top = 5\n",
    "names = vectorizer.get_feature_names()\n",
    "\n",
    "for t in range(n_topics): \n",
    "    print('---------')\n",
    "    print('TOPIC: ' + str(t+1))\n",
    "    indeces = sorted(range(len(names)), key=lambda k: V[k,t],reverse=True) \n",
    "    for i in range(n_top): \n",
    "        print '>', names[indeces[i]]"
   ]
  },
  {
   "cell_type": "markdown",
   "metadata": {},
   "source": [
    "### Notes on LATENT VARIABLE MODELS, PLSM, AND THE EXPECTATION MAXIMIZATION ALGORITHM\n",
    "\n",
    "#### Part 1\n",
    "\n",
    "\n",
    "* Def 1.1: $p(w_j, d_i) = \\sum\\limits_{k} p(w_j, d_i , z=k) = \\sum\\limits_{k} p(w_j, d_i \\mid z=k) p(z = k)$\n",
    "* Def 1.2 $p(w_j, d_i) = \\sum\\limits_{k} p(w_j \\mid z=k) p(d_i \\mid z = k) p(z = k)$\n",
    "\n",
    "Def 1.2 follows from a conditional independence assumption:\n",
    "* If you know that the topic for a given document is $z = k$, then the document no longer correlates at all with the word frequency $w_j$.\n",
    "\n",
    "\n"
   ]
  },
  {
   "cell_type": "code",
   "execution_count": null,
   "metadata": {},
   "outputs": [],
   "source": []
  },
  {
   "cell_type": "code",
   "execution_count": null,
   "metadata": {},
   "outputs": [],
   "source": []
  },
  {
   "cell_type": "code",
   "execution_count": null,
   "metadata": {},
   "outputs": [],
   "source": []
  },
  {
   "cell_type": "code",
   "execution_count": null,
   "metadata": {},
   "outputs": [],
   "source": []
  }
 ],
 "metadata": {
  "kernelspec": {
   "display_name": "BigImg_Project_DSB",
   "language": "python",
   "name": "bigimg_project_dsb"
  },
  "language_info": {
   "codemirror_mode": {
    "name": "ipython",
    "version": 2
   },
   "file_extension": ".py",
   "mimetype": "text/x-python",
   "name": "python",
   "nbconvert_exporter": "python",
   "pygments_lexer": "ipython2",
   "version": "2.7.15"
  }
 },
 "nbformat": 4,
 "nbformat_minor": 2
}
