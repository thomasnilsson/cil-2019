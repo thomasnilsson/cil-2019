{
 "cells": [
  {
   "cell_type": "code",
   "execution_count": 11,
   "metadata": {},
   "outputs": [],
   "source": [
    "%matplotlib inline\n",
    "import numpy as np\n",
    "from matplotlib import pyplot as plt"
   ]
  },
  {
   "cell_type": "code",
   "execution_count": 12,
   "metadata": {},
   "outputs": [],
   "source": [
    "movie_names = ['American Pie', 'Shrek', 'Titanic', 'The Godfather', 'Avatar', 'Star Wars']\n",
    "user_names = ['Ben', 'Tom', 'John', 'Fred', 'Jack']\n",
    "\n",
    "data = np.array([\n",
    "    [8,7,1,-1,4],\n",
    "    [9,7,2,5,6],\n",
    "    [1,4,9,-1,3],\n",
    "    [3,-1,8,5,4],\n",
    "    [-1,3,-1,9,9],\n",
    "    [5,1,4,10,-1]\n",
    "], dtype=np.float64)\n",
    "\n",
    "missing = data == -1\n",
    "known = missing == False"
   ]
  },
  {
   "cell_type": "code",
   "execution_count": 18,
   "metadata": {},
   "outputs": [
    {
     "data": {
      "text/plain": [
       "(6, 5)"
      ]
     },
     "execution_count": 18,
     "metadata": {},
     "output_type": "execute_result"
    }
   ],
   "source": [
    "data.shape"
   ]
  },
  {
   "cell_type": "code",
   "execution_count": 13,
   "metadata": {},
   "outputs": [
    {
     "name": "stdout",
     "output_type": "stream",
     "text": [
      "5.5\n"
     ]
    }
   ],
   "source": [
    "mean_of_known = 5.5 # this is from the exercise sheet\n",
    "#mean_of_known = np.mean(data[known])\n",
    "print(mean_of_known)\n",
    "data[missing] = mean_of_known"
   ]
  },
  {
   "cell_type": "code",
   "execution_count": 14,
   "metadata": {},
   "outputs": [
    {
     "name": "stdout",
     "output_type": "stream",
     "text": [
      "(6, 6) (5,) (5, 5)\n"
     ]
    }
   ],
   "source": [
    "U, s, Vt = np.linalg.svd(data, full_matrices=True)\n",
    "print(U.shape, s.shape, Vt.shape)\n",
    "S = np.zeros((6, 5))\n",
    "S[:5, :5] = np.diag(s)"
   ]
  },
  {
   "cell_type": "code",
   "execution_count": 15,
   "metadata": {},
   "outputs": [
    {
     "data": {
      "text/plain": [
       "((6, 6), (6, 5), (5, 5))"
      ]
     },
     "execution_count": 15,
     "metadata": {},
     "output_type": "execute_result"
    }
   ],
   "source": [
    "U.shape, S.shape, Vt.shape"
   ]
  },
  {
   "cell_type": "code",
   "execution_count": 16,
   "metadata": {},
   "outputs": [
    {
     "data": {
      "text/plain": [
       "True"
      ]
     },
     "execution_count": 16,
     "metadata": {},
     "output_type": "execute_result"
    }
   ],
   "source": [
    "np.allclose(data, U.dot(S).dot(Vt))"
   ]
  },
  {
   "cell_type": "code",
   "execution_count": 6,
   "metadata": {},
   "outputs": [],
   "source": [
    "k = 2"
   ]
  },
  {
   "cell_type": "code",
   "execution_count": 7,
   "metadata": {
    "scrolled": true
   },
   "outputs": [
    {
     "data": {
      "text/plain": [
       "Text(0, 0.5, 'The Seriousness Axis')"
      ]
     },
     "execution_count": 7,
     "metadata": {},
     "output_type": "execute_result"
    },
    {
     "data": {
      "image/png": "[encoded data removed]",
      "text/plain": [
       "<Figure size 432x288 with 1 Axes>"
      ]
     },
     "metadata": {
      "needs_background": "light"
     },
     "output_type": "display_data"
    }
   ],
   "source": [
    "#plot user embeddings\n",
    "#note: here we use a slighly different interpretation of what was asked in the exercise than the one in the solution pdf\n",
    "u1u2 = np.sqrt(S[:k, :]).dot(Vt).dot(data.T)\n",
    "\n",
    "plt.figure()\n",
    "plt.scatter(*u1u2)\n",
    "for u1, u2, name in zip(*u1u2, movie_names):\n",
    "    plt.gca().annotate(name, (u1, u2))\n",
    "plt.xlabel('The Realism Axis')\n",
    "plt.ylabel('The Seriousness Axis')"
   ]
  },
  {
   "cell_type": "code",
   "execution_count": 8,
   "metadata": {},
   "outputs": [
    {
     "data": {
      "text/plain": [
       "Text(0, 0.5, 'The Seriousness Axis')"
      ]
     },
     "execution_count": 8,
     "metadata": {},
     "output_type": "execute_result"
    },
    {
     "data": {
      "image/png": "[encoded data removed]",
      "text/plain": [
       "<Figure size 432x288 with 1 Axes>"
      ]
     },
     "metadata": {
      "needs_background": "light"
     },
     "output_type": "display_data"
    }
   ],
   "source": [
    "#plot movie embeddings\n",
    "v1v2 = data.T.dot(U.dot(np.sqrt(S[:, :k]))).T\n",
    "\n",
    "plt.figure()\n",
    "plt.scatter(*v1v2)\n",
    "for v1, v2, name in zip(*v1v2, user_names):\n",
    "    plt.gca().annotate(name, (v1, v2))\n",
    "plt.xlabel('The Realism Axis')\n",
    "plt.ylabel('The Seriousness Axis')"
   ]
  },
  {
   "cell_type": "code",
   "execution_count": 9,
   "metadata": {},
   "outputs": [
    {
     "name": "stdout",
     "output_type": "stream",
     "text": [
      "7.09033394217012 7.0903339421701155\n",
      "58.34704095861888 58.34704095861884\n"
     ]
    }
   ],
   "source": [
    "k = 2\n",
    "Sk = S.copy()\n",
    "Sk[k:, k:] = 0\n",
    "Ak = U.dot(Sk).dot(Vt)\n",
    "\n",
    "#check the approximation theorems\n",
    "print(np.linalg.norm(data - Ak, 2), S[k, k])\n",
    "print(np.linalg.norm(data - Ak, 'fro')**2, np.sum(S[k:, k:]**2))"
   ]
  },
  {
   "cell_type": "code",
   "execution_count": 10,
   "metadata": {},
   "outputs": [],
   "source": [
    "bob = np.array([[1, -1, -1, 6, -1, 10]]) # 2d array such that dimensions match later\n",
    "bob[bob == -1] = mean_of_known"
   ]
  },
  {
   "cell_type": "code",
   "execution_count": 11,
   "metadata": {},
   "outputs": [
    {
     "data": {
      "text/plain": [
       "Text(0, 0.5, 'The Seriousness Axis')"
      ]
     },
     "execution_count": 11,
     "metadata": {},
     "output_type": "execute_result"
    },
    {
     "data": {
      "image/png": "[encoded data removed]",
      "text/plain": [
       "<Figure size 432x288 with 1 Axes>"
      ]
     },
     "metadata": {
      "needs_background": "light"
     },
     "output_type": "display_data"
    }
   ],
   "source": [
    "k = 2\n",
    "#plot bob's embedding\n",
    "U_bob = bob.dot(U.dot(np.sqrt(S[:, :k])))\n",
    "u1u2b = np.append(v1v2, U_bob.T, 1)\n",
    "plt.scatter(*u1u2b)\n",
    "for u1, u2, name in zip(*u1u2b, user_names + ['Bob']):\n",
    "    plt.gca().annotate(name, (u1, u2))\n",
    "plt.xlabel('The Realism Axis')\n",
    "plt.ylabel('The Seriousness Axis')"
   ]
  },
  {
   "cell_type": "code",
   "execution_count": 12,
   "metadata": {},
   "outputs": [
    {
     "name": "stdout",
     "output_type": "stream",
     "text": [
      "Avatar 8.0\n",
      "Star Wars 7.4\n",
      "Titanic 5.5\n",
      "The Godfather 4.9\n",
      "Shrek 3.2\n",
      "American Pie 2.6\n"
     ]
    }
   ],
   "source": [
    "#Recommending missing ratings: one way of doing it (evaluating Bob doesn't change the system)\n",
    "#using first three singular values\n",
    "k = 3 # you can check this gives back the original predictions if k == 6\n",
    "U_bob = bob.dot(U[:, :k])\n",
    "bob_ = U[:, :k].dot(U_bob.T)\n",
    "bob_predicted = bob_[:].ravel()\n",
    "for i in reversed(np.argsort(bob_predicted)):\n",
    "    print(movie_names[i], '{:.2}'.format(bob_predicted[i]))"
   ]
  },
  {
   "cell_type": "code",
   "execution_count": 13,
   "metadata": {},
   "outputs": [
    {
     "name": "stdout",
     "output_type": "stream",
     "text": [
      "(6, 6) (6, 6) (6, 6)\n"
     ]
    },
    {
     "data": {
      "text/plain": [
       "Text(0, 0.5, 'The Seriousness Axis')"
      ]
     },
     "execution_count": 13,
     "metadata": {},
     "output_type": "execute_result"
    },
    {
     "data": {
      "image/png": "[encoded data removed]",
      "text/plain": [
       "<Figure size 432x288 with 1 Axes>"
      ]
     },
     "metadata": {
      "needs_background": "light"
     },
     "output_type": "display_data"
    }
   ],
   "source": [
    "#another way of doing it: SVD from scratch (evaluating Bob changes the system)\n",
    "k = 2\n",
    "datab = np.append(data, bob.T, 1)\n",
    "Ub, sb, Vtb = np.linalg.svd(datab, full_matrices=True)\n",
    "Sb = np.diag(sb)\n",
    "print(Ub.shape, Sb.shape, Vtb.shape)\n",
    "u1u2b = np.sqrt(Sb[:k, :]).dot(Vtb).dot(datab.T)\n",
    "\n",
    "plt.figure()\n",
    "plt.scatter(*u1u2b)\n",
    "for u1, u2, name in zip(*u1u2b, user_names + ['Bob']):\n",
    "    plt.gca().annotate(name, (u1, u2))\n",
    "plt.xlabel('The Realism Axis')\n",
    "plt.ylabel('The Seriousness Axis')"
   ]
  },
  {
   "cell_type": "code",
   "execution_count": 14,
   "metadata": {},
   "outputs": [
    {
     "name": "stdout",
     "output_type": "stream",
     "text": [
      "Star Wars 9.0\n",
      "Avatar 7.2\n",
      "Titanic 5.3\n",
      "The Godfather 5.2\n",
      "Shrek 3.6\n",
      "American Pie 1.7\n"
     ]
    }
   ],
   "source": [
    "#SVD from scratch continued: compress-decompress\n",
    "# filling in missing ratings for Bob (hint -> Project) by means of compressing the data with k=3\n",
    "k = 3\n",
    "Skb = Sb.copy()\n",
    "Skb[k:, k:] = 0\n",
    "Akb = Ub.dot(Skb).dot(Vtb)\n",
    "bob_predicted = Akb[:, -1].ravel()\n",
    "for i in reversed(np.argsort(bob_predicted)):\n",
    "    print(movie_names[i], '{:.2}'.format(bob_predicted[i]))"
   ]
  },
  {
   "cell_type": "code",
   "execution_count": 15,
   "metadata": {},
   "outputs": [
    {
     "name": "stdout",
     "output_type": "stream",
     "text": [
      "Star Wars 9.0\n",
      "Avatar 7.2\n",
      "Titanic 5.3\n",
      "The Godfather 5.2\n",
      "American Pie 1.7\n",
      "Shrek 3.6\n"
     ]
    }
   ],
   "source": [
    "#yet another way of doing it: predicting movies for Bob by means of the movie-movie covariation matrix\n",
    "movie_cov = np.cov(data, rowvar=True, bias=True)\n",
    "b_dot_cov = bob.dot(movie_cov).ravel()\n",
    "for i in reversed(np.argsort(b_dot_cov)):\n",
    "    print(movie_names[i], '{:.2}'.format(bob_predicted[i]))"
   ]
  },
  {
   "cell_type": "code",
   "execution_count": null,
   "metadata": {},
   "outputs": [],
   "source": []
  }
 ],
 "metadata": {
  "kernelspec": {
   "display_name": "Python 3",
   "language": "python",
   "name": "python3"
  },
  "language_info": {
   "codemirror_mode": {
    "name": "ipython",
    "version": 3
   },
   "file_extension": ".py",
   "mimetype": "text/x-python",
   "name": "python",
   "nbconvert_exporter": "python",
   "pygments_lexer": "ipython3",
   "version": "3.6.6"
  }
 },
 "nbformat": 4,
 "nbformat_minor": 2
}
