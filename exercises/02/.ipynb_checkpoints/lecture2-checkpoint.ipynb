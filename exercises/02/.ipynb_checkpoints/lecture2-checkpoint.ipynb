{
 "cells": [
  {
   "cell_type": "code",
   "execution_count": 75,
   "metadata": {},
   "outputs": [],
   "source": [
    "import numpy as np\n",
    "import matplotlib.pyplot as plt"
   ]
  },
  {
   "cell_type": "code",
   "execution_count": null,
   "metadata": {},
   "outputs": [],
   "source": []
  },
  {
   "cell_type": "code",
   "execution_count": 89,
   "metadata": {},
   "outputs": [],
   "source": [
    "movie_names = ['American Pie', 'Shrek', 'Titanic', 'The Godfather', 'Avatar', 'Star Wars']\n",
    "user_names = ['Ben', 'Tom', 'John', 'Fred', 'Jack']\n",
    "\n",
    "A = np.mat([\n",
    "    [8, 7, 1, 0, 4],   \n",
    "    [9, 7, 2, 5, 6],   \n",
    "    [1, 4, 9, 0, 3],   \n",
    "    [3, 0, 8, 5, 4],   \n",
    "    [0, 3, 0, 9, 9],   \n",
    "    [5, 1, 4, 10, 0],   \n",
    "], dtype=float)\n",
    "m,n = A.shape"
   ]
  },
  {
   "cell_type": "code",
   "execution_count": 90,
   "metadata": {},
   "outputs": [
    {
     "data": {
      "text/plain": [
       "matrix([[ 8. ,  7. ,  1. ,  5.5,  4. ],\n",
       "        [ 9. ,  7. ,  2. ,  5. ,  6. ],\n",
       "        [ 1. ,  4. ,  9. ,  5.5,  3. ],\n",
       "        [ 3. ,  5.5,  8. ,  5. ,  4. ],\n",
       "        [ 5.5,  3. ,  5.5,  9. ,  9. ],\n",
       "        [ 5. ,  1. ,  4. , 10. ,  5.5]])"
      ]
     },
     "execution_count": 90,
     "metadata": {},
     "output_type": "execute_result"
    }
   ],
   "source": [
    "A[A == 0] = 5.5\n",
    "A"
   ]
  },
  {
   "cell_type": "code",
   "execution_count": 128,
   "metadata": {},
   "outputs": [
    {
     "data": {
      "text/plain": [
       "(6, 5)"
      ]
     },
     "execution_count": 128,
     "metadata": {},
     "output_type": "execute_result"
    }
   ],
   "source": [
    "A.shape"
   ]
  },
  {
   "cell_type": "markdown",
   "metadata": {},
   "source": [
    "**Question 1**\n",
    "\n",
    "The matrix is of size $6 \\times 6$ and contains the dot product of the movies:\n",
    "* The diagnoal is the squared sum of the movie scores, since each movie is dotted with itself.\n",
    "* The other entries are the dot product of two different movies which does not tells us a lot alone, but if normalized becomes the cosine similarity, which could tell us something about how similar two movies are, based on the scores they have received.\n",
    "\n",
    "**Question 2**\n",
    "\n",
    "The matrix is of size $5 \\times 5$ and contains the dot product of the users:\n",
    "* The diagnoal is the squared sum of the users scorings, since each user is dotted with itself.\n",
    "* Similar to the previous quesiton, the users can be compared using the cosine similarity.\n",
    "\n",
    "**Question 3**\n",
    "* $\\mathbf{A} : m \\times n$\n",
    "* $\\mathbf{U} : m \\times m$\n",
    "* $\\mathbf{D} : m \\times n$\n",
    "* $\\mathbf{V}^T : n \\times n$\n",
    "\n",
    "Where $m=6, n=5$\n",
    "\n",
    "**Question 4**\n",
    "\n",
    "We hope to represent the movies or the users in a low-dimensional space (depending on whether we use $\\mathbf{A}$ or $\\mathbf{A}^T$. The basis could for example be movie genres, where movies can be placed in some space according to their genre, and users can be placed according to their genre-preferences."
   ]
  },
  {
   "cell_type": "markdown",
   "metadata": {},
   "source": [
    "**Question 5**\n",
    "\n",
    "First, we perform the SVD"
   ]
  },
  {
   "cell_type": "code",
   "execution_count": 129,
   "metadata": {},
   "outputs": [
    {
     "data": {
      "text/plain": [
       "((6, 6), (6, 5), (5, 5))"
      ]
     },
     "execution_count": 129,
     "metadata": {},
     "output_type": "execute_result"
    }
   ],
   "source": [
    "U,s,VT = np.linalg.svd(A, full_matrices=True)\n",
    "S = np.zeros((m,n))\n",
    "S[:n, :n] = np.diag(s)\n",
    "\n",
    "U.shape, S.shape, VT.shape"
   ]
  },
  {
   "cell_type": "markdown",
   "metadata": {},
   "source": [
    "* Perform reconstruction as $\\hat{A} = U \\Sigma V^T$"
   ]
  },
  {
   "cell_type": "code",
   "execution_count": 248,
   "metadata": {},
   "outputs": [],
   "source": [
    "Ah = U * S * VT"
   ]
  },
  {
   "cell_type": "markdown",
   "metadata": {},
   "source": [
    "* Check if $\\hat{A} \\approx A$"
   ]
  },
  {
   "cell_type": "code",
   "execution_count": 132,
   "metadata": {},
   "outputs": [
    {
     "data": {
      "text/plain": [
       "True"
      ]
     },
     "execution_count": 132,
     "metadata": {},
     "output_type": "execute_result"
    }
   ],
   "source": [
    "np.allclose(A, Xh)"
   ]
  },
  {
   "cell_type": "markdown",
   "metadata": {},
   "source": [
    "(5): Consider the entries inD, how many singular values is it reasonable for us to keep?  Which ones would youkeep, why?"
   ]
  },
  {
   "cell_type": "code",
   "execution_count": 161,
   "metadata": {},
   "outputs": [
    {
     "data": {
      "image/png": "[encoded data removed]",
      "text/plain": [
       "<Figure size 720x360 with 1 Axes>"
      ]
     },
     "metadata": {},
     "output_type": "display_data"
    }
   ],
   "source": [
    "# Explained variance\n",
    "var = s**2 / np.sum(s**2)\n",
    "xaxis = np.arange(1, rho.size + 1)\n",
    "\n",
    "# Plot variance explained\n",
    "plt.figure(figsize=[10,5])\n",
    "plt.plot(xaxis, var,\"o-\", markeredgecolor=\"black\")\n",
    "plt.xlabel(\"Principal component\")\n",
    "plt.ylabel(\"Variance explained\")\n",
    "plt.show()"
   ]
  },
  {
   "cell_type": "code",
   "execution_count": 66,
   "metadata": {},
   "outputs": [
    {
     "data": {
      "image/png": "[encoded data removed]",
      "text/plain": [
       "<Figure size 432x288 with 1 Axes>"
      ]
     },
     "metadata": {},
     "output_type": "display_data"
    }
   ],
   "source": [
    "cumulative = np.cumsum(rho)\n",
    "plt.plot(r, cumulative , \"o-\", markeredgecolor=\"black\") \n",
    "plt.title(\"Cumulative␣variance␣explained␣by␣principal␣components\") \n",
    "plt.xlabel(\"Principal␣Direction(s)\") \n",
    "plt.ylabel(\"Cumulative fraction of variance explained\")\n",
    "plt.show()"
   ]
  },
  {
   "cell_type": "markdown",
   "metadata": {},
   "source": [
    "We can describe 99% of the variance using only the 3 dominant dimensions."
   ]
  },
  {
   "cell_type": "markdown",
   "metadata": {},
   "source": [
    "6.What interpretation can you give for the matrix U and V?"
   ]
  },
  {
   "cell_type": "markdown",
   "metadata": {},
   "source": [
    "**Question 8**\n",
    "\n",
    "Plot the two dimensional representations of the movies on the left hand side of the grid below and give a possible interpretation of the two axes."
   ]
  },
  {
   "cell_type": "code",
   "execution_count": 231,
   "metadata": {},
   "outputs": [],
   "source": []
  },
  {
   "cell_type": "code",
   "execution_count": 241,
   "metadata": {},
   "outputs": [],
   "source": [
    "k = 2\n",
    "u = np.sqrt(S[:k]) @ VT @ A.T\n",
    "v = (A.T @ U @ np.sqrt(S[:, :k])).T"
   ]
  },
  {
   "cell_type": "code",
   "execution_count": 235,
   "metadata": {},
   "outputs": [
    {
     "data": {
      "image/png": "[encoded data removed]",
      "text/plain": [
       "<Figure size 432x288 with 1 Axes>"
      ]
     },
     "metadata": {},
     "output_type": "display_data"
    }
   ],
   "source": [
    "plt.figure()\n",
    "plt.scatter(u[0].A.ravel(), u[1].A.ravel())\n",
    "for i,x in enumerate(u.T):\n",
    "    plt.gca().annotate(movie_names[i], x.A.ravel())\n",
    "plt.show()"
   ]
  },
  {
   "cell_type": "markdown",
   "metadata": {},
   "source": [
    "Here, we can interpret the first axis as the realism axis, and the second axis as the seriousness axis."
   ]
  },
  {
   "cell_type": "code",
   "execution_count": 245,
   "metadata": {},
   "outputs": [
    {
     "data": {
      "image/png": "[encoded data removed]",
      "text/plain": [
       "<Figure size 432x288 with 1 Axes>"
      ]
     },
     "metadata": {},
     "output_type": "display_data"
    }
   ],
   "source": [
    "plt.figure()\n",
    "plt.scatter(u[0].A.ravel(), u[1].A.ravel())\n",
    "for i,x in enumerate(u.T):\n",
    "    plt.gca().annotate(movie_names[i], x.A.ravel())\n",
    "plt.xlabel('Realism')\n",
    "plt.ylabel('Seriousness')\n",
    "plt.show()"
   ]
  },
  {
   "cell_type": "markdown",
   "metadata": {},
   "source": [
    "**Question 9**\n",
    "\n",
    "Plot the two dimensional representations of the users on the right hand side of the grid below and give a possible interpretation of the two axes."
   ]
  },
  {
   "cell_type": "code",
   "execution_count": 246,
   "metadata": {},
   "outputs": [
    {
     "data": {
      "image/png": "[encoded data removed]",
      "text/plain": [
       "<Figure size 432x288 with 1 Axes>"
      ]
     },
     "metadata": {},
     "output_type": "display_data"
    }
   ],
   "source": [
    "plt.figure()\n",
    "plt.scatter(v[0].A.ravel(), v[1].A.ravel())\n",
    "for i,x in enumerate(v.T):\n",
    "    plt.gca().annotate(user_names[i], x.A.ravel())\n",
    "plt.xlabel('Realism')\n",
    "plt.ylabel('Seriousness')\n",
    "plt.show()"
   ]
  },
  {
   "cell_type": "markdown",
   "metadata": {},
   "source": [
    "**Question 11**\n",
    "\n",
    "Write down the approximation of the original matrix A using only the first three singular components.\n",
    "\n",
    "$A_3 = U_3 \\Sigma_3 V_3 ^T$"
   ]
  },
  {
   "cell_type": "code",
   "execution_count": 257,
   "metadata": {},
   "outputs": [
    {
     "data": {
      "text/plain": [
       "matrix([[ 8. ,  7. ,  1. ,  5.5,  4. ],\n",
       "        [ 9. ,  7. ,  2. ,  5. ,  6. ],\n",
       "        [ 1. ,  4. ,  9. ,  5.5,  3. ],\n",
       "        [ 3. ,  5.5,  8. ,  5. ,  4. ],\n",
       "        [ 5.5,  3. ,  5.5,  9. ,  9. ],\n",
       "        [ 5. ,  1. ,  4. , 10. ,  5.5]])"
      ]
     },
     "execution_count": 257,
     "metadata": {},
     "output_type": "execute_result"
    }
   ],
   "source": [
    "A"
   ]
  },
  {
   "cell_type": "code",
   "execution_count": 263,
   "metadata": {},
   "outputs": [
    {
     "data": {
      "text/plain": [
       "matrix([[8.14381143, 6.70703714, 1.2317371 , 4.72467418, 4.85857698],\n",
       "        [8.8033797 , 7.26335375, 1.79129575, 5.52435092, 5.50903254],\n",
       "        [0.95925907, 3.94727342, 9.0413232 , 5.18969   , 3.43235702],\n",
       "        [2.97210805, 5.54924374, 7.96102618, 5.12079128, 3.87119136],\n",
       "        [5.86276729, 2.99598204, 5.50525861, 9.91415263, 7.50719451],\n",
       "        [4.69201023, 0.99897876, 3.99902904, 9.20657586, 6.78945711]])"
      ]
     },
     "execution_count": 263,
     "metadata": {},
     "output_type": "execute_result"
    }
   ],
   "source": [
    "# Projection using first 3 principal components\n",
    "A3 = U[:,:3]@S[:3, :3]@VT[:3, :]\n",
    "A3"
   ]
  },
  {
   "cell_type": "code",
   "execution_count": 268,
   "metadata": {},
   "outputs": [
    {
     "data": {
      "text/plain": [
       "0.04557430225661463"
      ]
     },
     "execution_count": 268,
     "metadata": {},
     "output_type": "execute_result"
    }
   ],
   "source": [
    "100 * abs(A.sum() - A3.sum()) / A.sum()"
   ]
  },
  {
   "cell_type": "markdown",
   "metadata": {},
   "source": [
    "The approximation differs slightly from the original - about 0.04 % in total."
   ]
  },
  {
   "cell_type": "markdown",
   "metadata": {},
   "source": [
    "**Question 12** \n",
    "\n",
    "What would be the approximation error under the euclidean and Frobenius norm?\n",
    "\n",
    "$E_{F} = \\sum_{i=k+1}^{m} \\sigma_i^2 = \\sigma_4^2 + \\sigma_5^2$\n",
    "\n",
    "$E_{2} = max(\\Sigma) = \\sigma_{k+1}$\n",
    "\n",
    "* Source: https://www.netlib.org/lapack/lug/node75.html"
   ]
  },
  {
   "cell_type": "code",
   "execution_count": 282,
   "metadata": {},
   "outputs": [
    {
     "name": "stdout",
     "output_type": "stream",
     "text": [
      "2.7599446958092893 2.7599446958092897\n",
      "8.074205547129235 8.074205547129235\n"
     ]
    }
   ],
   "source": [
    "#check the approximation theorems\n",
    "k = 3\n",
    "print(np.linalg.norm(A - A3, 2),        S[k, k])\n",
    "print(np.linalg.norm(A - A3, 'fro')**2, np.sum(S[k:, k:]**2))"
   ]
  },
  {
   "cell_type": "markdown",
   "metadata": {},
   "source": [
    "**Question 13** \n",
    "\n",
    "Next, Bob wants to join the system. He shares a few of his movie ratings ([1,?,?,6,?,10]). How can we use the system to recommend movies for Bob?"
   ]
  },
  {
   "cell_type": "code",
   "execution_count": 299,
   "metadata": {},
   "outputs": [],
   "source": [
    "bob = np.array([1, -1, -1, 6, -1, 10], dtype=float)\n",
    "bob[bob == -1] = 5.5\n",
    "\n",
    "v_bob = (bob @ U @ np.sqrt(S[:, :2])).T"
   ]
  },
  {
   "cell_type": "code",
   "execution_count": 301,
   "metadata": {},
   "outputs": [
    {
     "data": {
      "image/png": "[encoded data removed]",
      "text/plain": [
       "<Figure size 432x288 with 1 Axes>"
      ]
     },
     "metadata": {},
     "output_type": "display_data"
    }
   ],
   "source": [
    "plt.figure()\n",
    "plt.scatter(v[0].A.ravel(), v[1].A.ravel())\n",
    "for i,x in enumerate(v.T):\n",
    "    plt.gca().annotate(user_names[i], x.A.ravel())\n",
    "plt.xlabel('Realism')\n",
    "plt.ylabel('Seriousness')\n",
    "\n",
    "# plot bob\n",
    "plt.scatter(v_bob[0].A.ravel(), v_bob[1].A.ravel())\n",
    "plt.gca().annotate('Bob', v_bob.A.ravel())\n",
    "\n",
    "plt.show()"
   ]
  },
  {
   "cell_type": "code",
   "execution_count": null,
   "metadata": {},
   "outputs": [],
   "source": []
  }
 ],
 "metadata": {
  "kernelspec": {
   "display_name": "Python 3",
   "language": "python",
   "name": "python3"
  },
  "language_info": {
   "codemirror_mode": {
    "name": "ipython",
    "version": 3
   },
   "file_extension": ".py",
   "mimetype": "text/x-python",
   "name": "python",
   "nbconvert_exporter": "python",
   "pygments_lexer": "ipython3",
   "version": "3.6.6"
  }
 },
 "nbformat": 4,
 "nbformat_minor": 2
}
