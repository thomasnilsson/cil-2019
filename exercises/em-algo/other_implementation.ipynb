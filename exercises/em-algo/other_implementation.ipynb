{
 "cells": [
  {
   "cell_type": "code",
   "execution_count": 2,
   "metadata": {},
   "outputs": [],
   "source": [
    "import numpy as np\n",
    "import matplotlib.pyplot as plt\n",
    "from scipy.stats import multivariate_normal as mvn"
   ]
  },
  {
   "cell_type": "code",
   "execution_count": 3,
   "metadata": {},
   "outputs": [],
   "source": [
    "np.random.seed(123)\n",
    "\n",
    "# create data set\n",
    "n = 1000\n",
    "_mus = np.array([[0,4], [-2,0]])\n",
    "_sigmas = np.array([[[3, 0], [0, 0.5]], [[1,0],[0,2]]])\n",
    "_pis = np.array([0.6, 0.4])\n",
    "xs = np.concatenate([np.random.multivariate_normal(mu, sigma, int(pi*n))\n",
    "                    for pi, mu, sigma in zip(_pis, _mus, _sigmas)])\n",
    "\n",
    "# initial guesses for parameters\n",
    "pis = np.random.random(2)\n",
    "pis /= pis.sum()\n",
    "mus = np.random.random((2,2))\n",
    "sigmas = np.array([np.eye(2)] * 2)"
   ]
  },
  {
   "cell_type": "code",
   "execution_count": 81,
   "metadata": {},
   "outputs": [],
   "source": [
    "def em_gmm_thomas(X, pi, mu, sigma, eps=0.01, max_iter=100):\n",
    "    N, M = X.shape\n",
    "    K = len(pi)\n",
    "    ll_old = 0\n",
    "    \n",
    "    for i in range(max_iter):\n",
    "        #### E-Step ####\n",
    "        gamma = np.zeros((K, N))\n",
    "        for k in range(K):\n",
    "            gamma[k] = pi[k] * mvn(mean=mu[k], cov=sigma[k]).pdf(X)\n",
    "        gamma /= gamma.sum(0)\n",
    "        \n",
    "        #### M-Step ####\n",
    "        # Update mass vector\n",
    "        mass = gamma.sum(axis=1) \n",
    "        \n",
    "        # Update means\n",
    "        mu = np.dot(gamma, X) / mass\n",
    "        \n",
    "        # Update weights\n",
    "        pi = mass / N\n",
    "        \n",
    "        # Update covariance matrices\n",
    "        sigma = np.zeros((K, M, M))\n",
    "        for k in range(K):\n",
    "            for i in range(N):\n",
    "                ys = np.reshape(X[i] - mu[k], (2,1))\n",
    "                sigma[k] += gamma[k, i] * np.dot(ys, ys.T)\n",
    "            sigma[k] /= mass[k]\n",
    "                \n",
    "        # Compute log-likelihood\n",
    "        ll_new = 0\n",
    "        for p, m, s in zip(pi, mu, sigma):\n",
    "            ll_new += p * mvn(m, s).pdf(X)\n",
    "        ll_new = np.log(ll_new).sum()\n",
    "\n",
    "        print(\"log-likelihood:\", ll_new)\n",
    "        # Check if converged\n",
    "        if abs(ll_new - ll_old) < eps: \n",
    "            break\n",
    "        ll_old = ll_new\n",
    "    \n",
    "    return ll_new, pi, mu, sigma"
   ]
  },
  {
   "cell_type": "code",
   "execution_count": 82,
   "metadata": {},
   "outputs": [
    {
     "name": "stdout",
     "output_type": "stream",
     "text": [
      "log-likelihood: -4212.043712449451\n",
      "log-likelihood: -4032.114397179818\n",
      "log-likelihood: -4004.2381869115698\n",
      "log-likelihood: -3977.8813697947307\n",
      "log-likelihood: -3937.747403586857\n",
      "log-likelihood: -3874.557562919731\n",
      "log-likelihood: -3819.3804686303693\n",
      "log-likelihood: -3805.3743691801747\n",
      "log-likelihood: -3797.409760379128\n",
      "log-likelihood: -3797.348479288399\n",
      "log-likelihood: -3799.230448468869\n",
      "log-likelihood: -3801.1601887893794\n",
      "log-likelihood: -3802.299812517039\n",
      "log-likelihood: -3802.8236820074753\n",
      "log-likelihood: -3803.007949853206\n",
      "log-likelihood: -3803.043675700495\n",
      "log-likelihood: -3803.0268548549175\n",
      "log-likelihood: -3802.9982412488744\n",
      "log-likelihood: -3802.9722511732216\n",
      "log-likelihood: -3802.9524302015884\n",
      "log-likelihood: -3802.938466966601\n",
      "log-likelihood: -3802.929040423406\n",
      "CPU times: user 379 ms, sys: 14.2 ms, total: 393 ms\n",
      "Wall time: 386 ms\n"
     ]
    }
   ],
   "source": [
    "%%time\n",
    "ll1, pis1, mus1, sigmas1 = em_gmm_thomas(xs, pis, mus, sigmas)"
   ]
  },
  {
   "cell_type": "code",
   "execution_count": 76,
   "metadata": {},
   "outputs": [],
   "source": [
    "from numpy.core.umath_tests import matrix_multiply as mm\n",
    "def em_gmm_vect(xs, pis, mus, sigmas, tol=0.01, max_iter=100):\n",
    "\n",
    "    n, p = xs.shape\n",
    "    k = len(pis)\n",
    "    ll_old = 0\n",
    "    for i in range(max_iter):\n",
    "        ll_new = 0\n",
    "\n",
    "        # E-step\n",
    "        ws = np.zeros((k, n))\n",
    "        for j in range(k):\n",
    "            ws[j, :] = pis[j] * mvn(mus[j], sigmas[j]).pdf(xs)\n",
    "        ws /= ws.sum(0)\n",
    "\n",
    "        # M-step\n",
    "        pis = ws.sum(axis=1) / n\n",
    "        \n",
    "        mus = np.dot(ws, xs) / ws.sum(1)\n",
    "\n",
    "        sigmas = np.zeros((k, p, p))\n",
    "        for j in range(k):\n",
    "            for i in range(n):\n",
    "                ys = np.reshape(xs[i]- mus[j], (2,1))\n",
    "                sigmas[j] += ws[j, i] * np.dot(ys, ys.T)\n",
    "            sigmas[j] /= ws[j,:].sum()\n",
    "\n",
    "        # update complete log likelihoood\n",
    "        ll_new = 0\n",
    "        for pi, mu, sigma in zip(pis, mus, sigmas):\n",
    "            ll_new += pi*mvn(mu, sigma).pdf(xs)\n",
    "        ll_new = np.log(ll_new).sum()\n",
    "\n",
    "        if np.abs(ll_new - ll_old) < tol:\n",
    "            break\n",
    "        ll_old = ll_new\n",
    "        print(ll_new)\n",
    "\n",
    "    return ll_new, pis, mus, sigmas"
   ]
  },
  {
   "cell_type": "code",
   "execution_count": 77,
   "metadata": {},
   "outputs": [
    {
     "name": "stdout",
     "output_type": "stream",
     "text": [
      "-4212.043712449451\n",
      "-4032.114397179818\n",
      "-4004.2381869115698\n",
      "-3977.8813697947307\n",
      "-3937.747403586857\n",
      "-3874.557562919731\n",
      "-3819.3804686303693\n",
      "-3805.3743691801747\n",
      "-3797.409760379128\n",
      "-3797.348479288399\n",
      "-3799.230448468869\n",
      "-3801.1601887893794\n",
      "-3802.299812517039\n",
      "-3802.8236820074753\n",
      "-3803.007949853206\n",
      "-3803.043675700495\n",
      "-3803.0268548549175\n",
      "-3802.9982412488744\n",
      "-3802.9722511732216\n",
      "-3802.9524302015884\n",
      "-3802.938466966601\n",
      "CPU times: user 372 ms, sys: 12.1 ms, total: 384 ms\n",
      "Wall time: 377 ms\n"
     ]
    }
   ],
   "source": [
    "%%time\n",
    "ll1, pis1, mus1, sigmas1 = em_gmm_vect(xs, pis, mus, sigmas)"
   ]
  },
  {
   "cell_type": "code",
   "execution_count": 83,
   "metadata": {},
   "outputs": [
    {
     "name": "stderr",
     "output_type": "stream",
     "text": [
      "/Users/thomasnilsson/anaconda/lib/python3.6/site-packages/matplotlib/contour.py:1000: UserWarning: The following kwargs were not used by contour: 'N'\n",
      "  s)\n"
     ]
    },
    {
     "data": {
      "image/png": "[encoded data removed]",
      "text/plain": [
       "<Figure size 432x288 with 1 Axes>"
      ]
     },
     "metadata": {},
     "output_type": "display_data"
    }
   ],
   "source": [
    "intervals = 101\n",
    "ys = np.linspace(-8,8,intervals)\n",
    "X, Y = np.meshgrid(ys, ys)\n",
    "_ys = np.vstack([X.ravel(), Y.ravel()]).T\n",
    "\n",
    "z = np.zeros(len(_ys))\n",
    "for pi, mu, sigma in zip(pis1, mus1, sigmas1):\n",
    "    z += pi*mvn(mu, sigma).pdf(_ys)\n",
    "z = z.reshape((intervals, intervals))\n",
    "\n",
    "ax = plt.subplot(111)\n",
    "plt.scatter(xs[:,0], xs[:,1], alpha=0.2)\n",
    "plt.contour(X, Y, z, N=10)\n",
    "plt.axis([-8,6,-6,8])\n",
    "ax.axes.set_aspect('equal')\n",
    "plt.tight_layout()\n",
    "plt.show()"
   ]
  },
  {
   "cell_type": "code",
   "execution_count": 11,
   "metadata": {},
   "outputs": [],
   "source": [
    "A = np.random.rand(3,3)"
   ]
  },
  {
   "cell_type": "code",
   "execution_count": 25,
   "metadata": {},
   "outputs": [
    {
     "data": {
      "text/plain": [
       "(3, 1)"
      ]
     },
     "execution_count": 25,
     "metadata": {},
     "output_type": "execute_result"
    }
   ],
   "source": [
    "A.sum(1)[:, None].shape"
   ]
  },
  {
   "cell_type": "code",
   "execution_count": 42,
   "metadata": {},
   "outputs": [
    {
     "data": {
      "text/plain": [
       "array([[0.79465581],\n",
       "       [0.84795302],\n",
       "       [0.54001702]])"
      ]
     },
     "execution_count": 42,
     "metadata": {},
     "output_type": "execute_result"
    }
   ],
   "source": [
    "A[0, :, None]"
   ]
  },
  {
   "cell_type": "code",
   "execution_count": 78,
   "metadata": {},
   "outputs": [
    {
     "data": {
      "text/plain": [
       "array([2.18262586, 1.38949995, 2.12567612])"
      ]
     },
     "execution_count": 78,
     "metadata": {},
     "output_type": "execute_result"
    }
   ],
   "source": [
    "A.sum(1)"
   ]
  },
  {
   "cell_type": "code",
   "execution_count": 80,
   "metadata": {},
   "outputs": [
    {
     "data": {
      "text/plain": [
       "2.1826258579885356"
      ]
     },
     "execution_count": 80,
     "metadata": {},
     "output_type": "execute_result"
    }
   ],
   "source": [
    "A[0].sum()"
   ]
  },
  {
   "cell_type": "code",
   "execution_count": null,
   "metadata": {},
   "outputs": [],
   "source": []
  }
 ],
 "metadata": {
  "kernelspec": {
   "display_name": "Python 3",
   "language": "python",
   "name": "python3"
  },
  "language_info": {
   "codemirror_mode": {
    "name": "ipython",
    "version": 3
   },
   "file_extension": ".py",
   "mimetype": "text/x-python",
   "name": "python",
   "nbconvert_exporter": "python",
   "pygments_lexer": "ipython3",
   "version": "3.6.7"
  }
 },
 "nbformat": 4,
 "nbformat_minor": 2
}
