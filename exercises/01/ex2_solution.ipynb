{
 "cells": [
  {
   "cell_type": "markdown",
   "metadata": {},
   "source": [
    "Data Generation\n",
    "==="
   ]
  },
  {
   "cell_type": "code",
   "execution_count": 1,
   "metadata": {
    "collapsed": true
   },
   "outputs": [],
   "source": [
    "import numpy as np\n",
    "import matplotlib.pyplot as plt\n",
    "%matplotlib inline  "
   ]
  },
  {
   "cell_type": "code",
   "execution_count": 2,
   "metadata": {},
   "outputs": [
    {
     "name": "stdout",
     "output_type": "stream",
     "text": [
      "[[ 0.92475366  0.19024499]\n",
      " [ 0.84575128  0.24818742]\n",
      " [ 0.75676008  0.47054279]]\n",
      "\n",
      "\n",
      "[[ 0.62697812  0.02757475]\n",
      " [ 0.32893114  0.95105152]\n",
      " [ 0.23032823  0.88654969]\n",
      " [ 0.85927341  0.87771197]]\n"
     ]
    }
   ],
   "source": [
    "p = 3\n",
    "q = 4\n",
    "P, Q = (np.random.rand(i, 2) for i in (p, q)) #loop trough tuple\n",
    "\n",
    "print(P) # 4 x 2 matrix\n",
    "print('\\n')\n",
    "print(Q) # 5 x 2 matrix"
   ]
  },
  {
   "cell_type": "code",
   "execution_count": 3,
   "metadata": {
    "scrolled": false
   },
   "outputs": [
    {
     "data": {
      "text/plain": [
       "<matplotlib.legend.Legend at 0x10fd35ac8>"
      ]
     },
     "execution_count": 3,
     "metadata": {},
     "output_type": "execute_result"
    },
    {
     "data": {
      "image/png": "[encoded data removed]",
      "text/plain": [
       "<matplotlib.figure.Figure at 0x10fc90a90>"
      ]
     },
     "metadata": {},
     "output_type": "display_data"
    }
   ],
   "source": [
    "plt.scatter(P[:,0],P[:,1])\n",
    "plt.scatter(Q[:,0],Q[:,1])\n",
    "plt.legend(['P','Q'])"
   ]
  },
  {
   "cell_type": "markdown",
   "metadata": {},
   "source": [
    "The **Euclidean** distance is computed as follows: $$\\|x-y\\|_2 =\n",
    "\\sqrt{(x_{1} - y_{1})^2 + \\cdots + (x_{n} - y_{n})^2}$$\n",
    "For example $P_1$ and $Q_1$:"
   ]
  },
  {
   "cell_type": "code",
   "execution_count": 4,
   "metadata": {},
   "outputs": [
    {
     "name": "stdout",
     "output_type": "stream",
     "text": [
      "P_0-Q_0=  [ 0.29777554  0.16267024]\n"
     ]
    }
   ],
   "source": [
    "delta=P[0]-Q[0]\n",
    "\n",
    "print('P_0-Q_0= ',delta)"
   ]
  },
  {
   "cell_type": "code",
   "execution_count": 5,
   "metadata": {},
   "outputs": [
    {
     "data": {
      "text/plain": [
       "0.33931089017680288"
      ]
     },
     "execution_count": 5,
     "metadata": {},
     "output_type": "execute_result"
    }
   ],
   "source": [
    "np.sqrt(np.sum(delta**2))"
   ]
  },
  {
   "cell_type": "code",
   "execution_count": 6,
   "metadata": {},
   "outputs": [
    {
     "data": {
      "text/plain": [
       "0.33931089017680288"
      ]
     },
     "execution_count": 6,
     "metadata": {},
     "output_type": "execute_result"
    }
   ],
   "source": [
    "np.sqrt(np.dot(delta,delta))"
   ]
  },
  {
   "cell_type": "code",
   "execution_count": 7,
   "metadata": {},
   "outputs": [
    {
     "data": {
      "text/plain": [
       "0.33931089017680288"
      ]
     },
     "execution_count": 7,
     "metadata": {},
     "output_type": "execute_result"
    }
   ],
   "source": [
    "np.linalg.norm(delta)"
   ]
  },
  {
   "cell_type": "markdown",
   "metadata": {},
   "source": [
    "Solution\n",
    "==="
   ]
  },
  {
   "cell_type": "markdown",
   "metadata": {},
   "source": [
    "### a)"
   ]
  },
  {
   "cell_type": "markdown",
   "metadata": {},
   "source": [
    "- **np.reapeat(A,reps)** Repeat elements of A the number of times given by reps.\n",
    "\n",
    "- **np.tile(A,reps)** Construct an array by repeating A the number of times given by reps.\n",
    "\n",
    "\n"
   ]
  },
  {
   "cell_type": "code",
   "execution_count": 8,
   "metadata": {},
   "outputs": [
    {
     "data": {
      "text/plain": [
       "array([0, 0, 0, 0, 1, 1, 1, 1, 2, 2, 2, 2])"
      ]
     },
     "execution_count": 8,
     "metadata": {},
     "output_type": "execute_result"
    }
   ],
   "source": [
    "np.repeat(range(len(P)), len(Q))"
   ]
  },
  {
   "cell_type": "code",
   "execution_count": 9,
   "metadata": {},
   "outputs": [
    {
     "data": {
      "text/plain": [
       "array([0, 1, 2, 3, 0, 1, 2, 3, 0, 1, 2, 3])"
      ]
     },
     "execution_count": 9,
     "metadata": {},
     "output_type": "execute_result"
    }
   ],
   "source": [
    "np.tile(range(len(Q)), len(P))"
   ]
  },
  {
   "cell_type": "code",
   "execution_count": 10,
   "metadata": {
    "collapsed": true
   },
   "outputs": [],
   "source": [
    "p_inds=np.repeat(range(len(P)), len(Q))\n",
    "q_inds=np.tile(range(len(Q)), len(P))"
   ]
  },
  {
   "cell_type": "code",
   "execution_count": 11,
   "metadata": {
    "scrolled": true
   },
   "outputs": [
    {
     "data": {
      "text/plain": [
       "array([[ 0.62697812,  0.02757475],\n",
       "       [ 0.32893114,  0.95105152],\n",
       "       [ 0.23032823,  0.88654969],\n",
       "       [ 0.85927341,  0.87771197],\n",
       "       [ 0.62697812,  0.02757475],\n",
       "       [ 0.32893114,  0.95105152],\n",
       "       [ 0.23032823,  0.88654969],\n",
       "       [ 0.85927341,  0.87771197],\n",
       "       [ 0.62697812,  0.02757475],\n",
       "       [ 0.32893114,  0.95105152],\n",
       "       [ 0.23032823,  0.88654969],\n",
       "       [ 0.85927341,  0.87771197]])"
      ]
     },
     "execution_count": 11,
     "metadata": {},
     "output_type": "execute_result"
    }
   ],
   "source": [
    "Q[q_inds, :]"
   ]
  },
  {
   "cell_type": "code",
   "execution_count": 12,
   "metadata": {
    "scrolled": false
   },
   "outputs": [
    {
     "data": {
      "text/plain": [
       "array([[ 0.92475366,  0.19024499],\n",
       "       [ 0.92475366,  0.19024499],\n",
       "       [ 0.92475366,  0.19024499],\n",
       "       [ 0.92475366,  0.19024499],\n",
       "       [ 0.84575128,  0.24818742],\n",
       "       [ 0.84575128,  0.24818742],\n",
       "       [ 0.84575128,  0.24818742],\n",
       "       [ 0.84575128,  0.24818742],\n",
       "       [ 0.75676008,  0.47054279],\n",
       "       [ 0.75676008,  0.47054279],\n",
       "       [ 0.75676008,  0.47054279],\n",
       "       [ 0.75676008,  0.47054279]])"
      ]
     },
     "execution_count": 12,
     "metadata": {},
     "output_type": "execute_result"
    }
   ],
   "source": [
    "P[p_inds, :]"
   ]
  },
  {
   "cell_type": "code",
   "execution_count": 13,
   "metadata": {
    "scrolled": true
   },
   "outputs": [
    {
     "name": "stdout",
     "output_type": "stream",
     "text": [
      "[ 0.33931089  0.96634934  0.98339561  0.69057839  0.31069542  0.87242248\n",
      "  0.88670847  0.62966976  0.4615886   0.64337099  0.67096366  0.41987584]\n"
     ]
    }
   ],
   "source": [
    "distances = np.sqrt(np.sum((P[p_inds, :] - Q[q_inds, :])**2, axis=1)) # alternatively np.linalg.norm\n",
    "print(distances)"
   ]
  },
  {
   "cell_type": "code",
   "execution_count": 14,
   "metadata": {},
   "outputs": [
    {
     "name": "stdout",
     "output_type": "stream",
     "text": [
      "[[ 0.33931089  0.96634934  0.98339561  0.69057839]\n",
      " [ 0.31069542  0.87242248  0.88670847  0.62966976]\n",
      " [ 0.4615886   0.64337099  0.67096366  0.41987584]]\n"
     ]
    }
   ],
   "source": [
    "distances = np.reshape(distances, (len(P), len(Q)))\n",
    "\n",
    "print(distances)"
   ]
  },
  {
   "cell_type": "markdown",
   "metadata": {},
   "source": [
    "### b)"
   ]
  },
  {
   "cell_type": "code",
   "execution_count": 26,
   "metadata": {},
   "outputs": [
    {
     "name": "stdout",
     "output_type": "stream",
     "text": [
      "[[ 0.33931089  0.96634934  0.98339561  0.69057839]\n",
      " [ 0.31069542  0.87242248  0.88670847  0.62966976]\n",
      " [ 0.4615886   0.64337099  0.67096366  0.41987584]]\n"
     ]
    }
   ],
   "source": [
    "# Alternative solution:\n",
    "distances=(-2 * P.dot(Q.T)) + np.sum(P**2, axis=1, keepdims=True)  + np.sum(Q.T**2, axis=0, keepdims=True)\n",
    "print(np.sqrt(distances))"
   ]
  },
  {
   "cell_type": "code",
   "execution_count": null,
   "metadata": {},
   "outputs": [],
   "source": []
  }
 ],
 "metadata": {
  "kernelspec": {
   "display_name": "Python 3",
   "language": "python",
   "name": "python3"
  },
  "language_info": {
   "codemirror_mode": {
    "name": "ipython",
    "version": 3
   },
   "file_extension": ".py",
   "mimetype": "text/x-python",
   "name": "python",
   "nbconvert_exporter": "python",
   "pygments_lexer": "ipython3",
   "version": "3.6.1"
  }
 },
 "nbformat": 4,
 "nbformat_minor": 1
}
